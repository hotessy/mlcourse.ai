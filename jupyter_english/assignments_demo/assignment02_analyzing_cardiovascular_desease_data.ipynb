{
 "cells": [
  {
   "cell_type": "markdown",
   "metadata": {},
   "source": [
    "<center>\n",
    "<img src=\"../../img/ods_stickers.jpg\">\n",
    "\n",
    "## [mlcourse.ai](https://mlcourse.ai) - Open Machine Learning Course\n",
    "    \n",
    "Authors: [Ilya Baryshnikov](https://www.linkedin.com/in/baryshnikov-ilya/), [Maxim Uvarov](https://www.linkedin.com/in/maxis42/), and [Yury Kashnitsky](https://www.linkedin.com/in/festline/). Translated and edited by [Inga Kaydanova](https://www.linkedin.com/in/inga-kaidanova-a92398b1/), [Egor Polusmak](https://www.linkedin.com/in/egor-polusmak/), [Anastasia Manokhina](https://www.linkedin.com/in/anastasiamanokhina/), and [Yuanyuan Pao](https://www.linkedin.com/in/yuanyuanpao/). All content is distributed under the [Creative Commons CC BY-NC-SA 4.0](https://creativecommons.org/licenses/by-nc-sa/4.0/) license."
   ]
  },
  {
   "cell_type": "markdown",
   "metadata": {
    "collapsed": true
   },
   "source": [
    "# <center>Assignment #2 (demo)\n",
    "## <center>Analyzing cardiovascular disease data \n",
    "    \n",
    "    \n",
    "**Same assignment as a [Kaggle Kernel](https://www.kaggle.com/kashnitsky/a2-demo-analyzing-cardiovascular-data) + [solution](https://www.kaggle.com/kashnitsky/a2-demo-analyzing-cardiovascular-data-solution).**"
   ]
  },
  {
   "cell_type": "markdown",
   "metadata": {},
   "source": [
    "In this assignment, you will answer questions about a dataset on cardiovascular disease. You do not need to download the data: it is already in the repository. There are some Tasks that will require you to write code. Complete them and then answer the questions in the [form](https://docs.google.com/forms/d/13cE_tSIb6hsScQvvWUJeu1MEHE5L6vnxQUbDYpXsf24).\n",
    "\n",
    "#### Problem\n",
    "\n",
    "Predict the presence or absence of cardiovascular disease (CVD) using the patient examination results.\n",
    "\n",
    "#### Data description\n",
    "\n",
    "There are 3 types of input features:\n",
    "\n",
    "- *Objective*: factual information;\n",
    "- *Examination*: results of medical examination;\n",
    "- *Subjective*: information given by the patient.\n",
    "\n",
    "| Feature | Variable Type | Variable      | Value Type |\n",
    "|---------|--------------|---------------|------------|\n",
    "| Age | Objective Feature | age | int (days) |\n",
    "| Height | Objective Feature | height | int (cm) |\n",
    "| Weight | Objective Feature | weight | float (kg) |\n",
    "| Gender | Objective Feature | gender | categorical code |\n",
    "| Systolic blood pressure | Examination Feature | ap_hi | int |\n",
    "| Diastolic blood pressure | Examination Feature | ap_lo | int |\n",
    "| Cholesterol | Examination Feature | cholesterol | 1: normal, 2: above normal, 3: well above normal |\n",
    "| Glucose | Examination Feature | gluc | 1: normal, 2: above normal, 3: well above normal |\n",
    "| Smoking | Subjective Feature | smoke | binary |\n",
    "| Alcohol intake | Subjective Feature | alco | binary |\n",
    "| Physical activity | Subjective Feature | active | binary |\n",
    "| Presence or absence of cardiovascular disease | Target Variable | cardio | binary |\n",
    "\n",
    "All of the dataset values were collected at the moment of medical examination."
   ]
  },
  {
   "cell_type": "markdown",
   "metadata": {},
   "source": [
    "Let's get to know our data by performing a preliminary data analysis.\n",
    "\n",
    "#  Part 1. Preliminary data analysis\n",
    "\n",
    "First, we will initialize the environment:"
   ]
  },
  {
   "cell_type": "code",
   "execution_count": 109,
   "metadata": {},
   "outputs": [],
   "source": [
    "# Import all required modules\n",
    "import pandas as pd\n",
    "import numpy as np\n",
    "\n",
    "# Disable warnings\n",
    "import warnings\n",
    "warnings.filterwarnings(\"ignore\")\n",
    "\n",
    "# Import plotting modules\n",
    "import seaborn as sns\n",
    "sns.set()\n",
    "\n",
    "%matplotlib notebook\n",
    "import matplotlib\n",
    "import matplotlib.pyplot as plt\n",
    "import matplotlib.ticker"
   ]
  },
  {
   "cell_type": "code",
   "execution_count": 137,
   "metadata": {},
   "outputs": [
    {
     "data": {
      "text/html": [
       "        <script type=\"text/javascript\">\n",
       "        window.PlotlyConfig = {MathJaxConfig: 'local'};\n",
       "        if (window.MathJax) {MathJax.Hub.Config({SVG: {font: \"STIX-Web\"}});}\n",
       "        if (typeof require !== 'undefined') {\n",
       "        require.undef(\"plotly\");\n",
       "        requirejs.config({\n",
       "            paths: {\n",
       "                'plotly': ['https://cdn.plot.ly/plotly-latest.min']\n",
       "            }\n",
       "        });\n",
       "        require(['plotly'], function(Plotly) {\n",
       "            window._Plotly = Plotly;\n",
       "        });\n",
       "        }\n",
       "        </script>\n",
       "        "
      ]
     },
     "metadata": {},
     "output_type": "display_data"
    },
    {
     "data": {
      "text/plain": [
       "['ggplot', 'pearl', 'solar', 'space', 'white', 'polar', 'henanigans']"
      ]
     },
     "execution_count": 137,
     "metadata": {},
     "output_type": "execute_result"
    }
   ],
   "source": [
    "import cufflinks as cf\n",
    "import plotly.offline\n",
    "cf.go_offline()\n",
    "cf.set_config_file(offline=False, world_readable=True, theme='space')\n",
    "\n",
    "cf.getThemes()"
   ]
  },
  {
   "cell_type": "markdown",
   "metadata": {},
   "source": [
    "You will use the `seaborn` library for visual analysis, so let's set that up too:"
   ]
  },
  {
   "cell_type": "code",
   "execution_count": 138,
   "metadata": {},
   "outputs": [],
   "source": [
    "# Tune the visual settings for figures in `seaborn`\n",
    "sns.set_context(\n",
    "    \"notebook\", \n",
    "    font_scale=1.5,       \n",
    "    rc={ \n",
    "        \"figure.figsize\": (11, 8), \n",
    "        \"axes.titlesize\": 18 \n",
    "    }\n",
    ")\n",
    "\n",
    "from matplotlib import rcParams\n",
    "rcParams['figure.figsize'] = 11, 8"
   ]
  },
  {
   "cell_type": "markdown",
   "metadata": {},
   "source": [
    "To make it simple, we will work only with the training part of the dataset:"
   ]
  },
  {
   "cell_type": "code",
   "execution_count": 139,
   "metadata": {},
   "outputs": [
    {
     "name": "stdout",
     "output_type": "stream",
     "text": [
      "Dataset size:  (70000, 12)\n"
     ]
    },
    {
     "data": {
      "text/html": [
       "<div>\n",
       "<style scoped>\n",
       "    .dataframe tbody tr th:only-of-type {\n",
       "        vertical-align: middle;\n",
       "    }\n",
       "\n",
       "    .dataframe tbody tr th {\n",
       "        vertical-align: top;\n",
       "    }\n",
       "\n",
       "    .dataframe thead th {\n",
       "        text-align: right;\n",
       "    }\n",
       "</style>\n",
       "<table border=\"1\" class=\"dataframe\">\n",
       "  <thead>\n",
       "    <tr style=\"text-align: right;\">\n",
       "      <th></th>\n",
       "      <th>age</th>\n",
       "      <th>gender</th>\n",
       "      <th>height</th>\n",
       "      <th>weight</th>\n",
       "      <th>ap_hi</th>\n",
       "      <th>ap_lo</th>\n",
       "      <th>cholesterol</th>\n",
       "      <th>gluc</th>\n",
       "      <th>smoke</th>\n",
       "      <th>alco</th>\n",
       "      <th>active</th>\n",
       "      <th>cardio</th>\n",
       "    </tr>\n",
       "    <tr>\n",
       "      <th>id</th>\n",
       "      <th></th>\n",
       "      <th></th>\n",
       "      <th></th>\n",
       "      <th></th>\n",
       "      <th></th>\n",
       "      <th></th>\n",
       "      <th></th>\n",
       "      <th></th>\n",
       "      <th></th>\n",
       "      <th></th>\n",
       "      <th></th>\n",
       "      <th></th>\n",
       "    </tr>\n",
       "  </thead>\n",
       "  <tbody>\n",
       "    <tr>\n",
       "      <th>0</th>\n",
       "      <td>18393</td>\n",
       "      <td>2</td>\n",
       "      <td>168</td>\n",
       "      <td>62.0</td>\n",
       "      <td>110</td>\n",
       "      <td>80</td>\n",
       "      <td>1</td>\n",
       "      <td>1</td>\n",
       "      <td>0</td>\n",
       "      <td>0</td>\n",
       "      <td>1</td>\n",
       "      <td>0</td>\n",
       "    </tr>\n",
       "    <tr>\n",
       "      <th>1</th>\n",
       "      <td>20228</td>\n",
       "      <td>1</td>\n",
       "      <td>156</td>\n",
       "      <td>85.0</td>\n",
       "      <td>140</td>\n",
       "      <td>90</td>\n",
       "      <td>3</td>\n",
       "      <td>1</td>\n",
       "      <td>0</td>\n",
       "      <td>0</td>\n",
       "      <td>1</td>\n",
       "      <td>1</td>\n",
       "    </tr>\n",
       "    <tr>\n",
       "      <th>2</th>\n",
       "      <td>18857</td>\n",
       "      <td>1</td>\n",
       "      <td>165</td>\n",
       "      <td>64.0</td>\n",
       "      <td>130</td>\n",
       "      <td>70</td>\n",
       "      <td>3</td>\n",
       "      <td>1</td>\n",
       "      <td>0</td>\n",
       "      <td>0</td>\n",
       "      <td>0</td>\n",
       "      <td>1</td>\n",
       "    </tr>\n",
       "    <tr>\n",
       "      <th>3</th>\n",
       "      <td>17623</td>\n",
       "      <td>2</td>\n",
       "      <td>169</td>\n",
       "      <td>82.0</td>\n",
       "      <td>150</td>\n",
       "      <td>100</td>\n",
       "      <td>1</td>\n",
       "      <td>1</td>\n",
       "      <td>0</td>\n",
       "      <td>0</td>\n",
       "      <td>1</td>\n",
       "      <td>1</td>\n",
       "    </tr>\n",
       "    <tr>\n",
       "      <th>4</th>\n",
       "      <td>17474</td>\n",
       "      <td>1</td>\n",
       "      <td>156</td>\n",
       "      <td>56.0</td>\n",
       "      <td>100</td>\n",
       "      <td>60</td>\n",
       "      <td>1</td>\n",
       "      <td>1</td>\n",
       "      <td>0</td>\n",
       "      <td>0</td>\n",
       "      <td>0</td>\n",
       "      <td>0</td>\n",
       "    </tr>\n",
       "  </tbody>\n",
       "</table>\n",
       "</div>"
      ],
      "text/plain": [
       "      age  gender  height  weight  ap_hi  ap_lo  cholesterol  gluc  smoke  \\\n",
       "id                                                                          \n",
       "0   18393       2     168    62.0    110     80            1     1      0   \n",
       "1   20228       1     156    85.0    140     90            3     1      0   \n",
       "2   18857       1     165    64.0    130     70            3     1      0   \n",
       "3   17623       2     169    82.0    150    100            1     1      0   \n",
       "4   17474       1     156    56.0    100     60            1     1      0   \n",
       "\n",
       "    alco  active  cardio  \n",
       "id                        \n",
       "0      0       1       0  \n",
       "1      0       1       1  \n",
       "2      0       0       1  \n",
       "3      0       1       1  \n",
       "4      0       0       0  "
      ]
     },
     "execution_count": 139,
     "metadata": {},
     "output_type": "execute_result"
    }
   ],
   "source": [
    "df = pd.read_csv('../../data/mlbootcamp5_train.csv', sep=';', index_col='id')\n",
    "print('Dataset size: ', df.shape)\n",
    "df.head()"
   ]
  },
  {
   "cell_type": "code",
   "execution_count": 140,
   "metadata": {},
   "outputs": [
    {
     "data": {
      "application/vnd.plotly.v1+json": {
       "config": {
        "linkText": "Export to plot.ly",
        "plotlyServerURL": "https://plot.ly",
        "showLink": true
       },
       "data": [
        {
         "colorscale": [
          [
           0,
           "rgb(255, 153, 51)"
          ],
          [
           0.1111111111111111,
           "rgb(55, 128, 191)"
          ],
          [
           0.2222222222222222,
           "rgb(50, 171, 96)"
          ],
          [
           0.3333333333333333,
           "rgb(128, 0, 128)"
          ],
          [
           0.4444444444444444,
           "rgb(219, 64, 82)"
          ],
          [
           0.5555555555555556,
           "rgb(0, 128, 128)"
          ],
          [
           0.6666666666666666,
           "rgb(255, 255, 51)"
          ],
          [
           0.7777777777777778,
           "rgb(128, 128, 0)"
          ],
          [
           0.8888888888888888,
           "rgb(251, 128, 114)"
          ],
          [
           1,
           "rgb(128, 177, 211)"
          ]
         ],
         "type": "heatmap",
         "x": [
          "age",
          "gender",
          "height",
          "weight",
          "ap_hi",
          "ap_lo",
          "cholesterol",
          "gluc",
          "smoke",
          "alco",
          "active",
          "cardio"
         ],
         "y": [
          "age",
          "gender",
          "height",
          "weight",
          "ap_hi",
          "ap_lo",
          "cholesterol",
          "gluc",
          "smoke",
          "alco",
          "active",
          "cardio"
         ],
         "z": [
          [
           1,
           -0.022810651720418545,
           -0.08151534915769473,
           0.053684043073726276,
           0.02076431932703915,
           0.017647434023930906,
           0.15442374182526977,
           0.09870277209756005,
           -0.04763280976430146,
           -0.029722866854063,
           -0.009927354367213146,
           0.23815922744232326
          ],
          [
           -0.022810651720418545,
           1,
           0.49903342844217485,
           0.15540564008999094,
           0.006005308571619736,
           0.015253971163314168,
           -0.03582141277703513,
           -0.020491035166513204,
           0.33813513635729253,
           0.17096642854794944,
           0.005865669226978778,
           0.00810949191312318
          ],
          [
           -0.08151534915769473,
           0.49903342844217485,
           1,
           0.2909678349915129,
           0.005487764158407502,
           0.006150467269639163,
           -0.050225951532724696,
           -0.018594670495630492,
           0.1879893994379371,
           0.09441869305074375,
           -0.006569547145635977,
           -0.010821058331006026
          ],
          [
           0.053684043073726276,
           0.15540564008999094,
           0.2909678349915129,
           1,
           0.030702208651591862,
           0.043709772643980245,
           0.14176790555389773,
           0.10685726474117306,
           0.06778046548890977,
           0.06711284122573279,
           -0.01686674614263624,
           0.1816595617986211
          ],
          [
           0.02076431932703915,
           0.006005308571619736,
           0.005487764158407502,
           0.030702208651591862,
           1,
           0.016085513403427346,
           0.023777921557728367,
           0.011840678012427367,
           -0.0009220248295486182,
           0.001408333447867856,
           -3.30024832343445e-05,
           0.05447505392688467
          ],
          [
           0.017647434023930906,
           0.015253971163314168,
           0.006150467269639163,
           0.043709772643980245,
           0.016085513403427346,
           1,
           0.024019290309611405,
           0.010805665500815608,
           0.0051861303835675655,
           0.010601240270452748,
           0.004780258150919352,
           0.06571869614919744
          ],
          [
           0.15442374182526977,
           -0.03582141277703513,
           -0.050225951532724696,
           0.14176790555389773,
           0.023777921557728367,
           0.024019290309611405,
           1,
           0.45157752367538934,
           0.010354415140987177,
           0.03576038557123233,
           0.009911297489836544,
           0.22114727391225067
          ],
          [
           0.09870277209756005,
           -0.020491035166513204,
           -0.018594670495630492,
           0.10685726474117306,
           0.011840678012427367,
           0.010805665500815608,
           0.45157752367538934,
           1,
           -0.004756483147562944,
           0.011245770627441684,
           -0.006769518191164335,
           0.08930688732435302
          ],
          [
           -0.04763280976430146,
           0.33813513635729253,
           0.1879893994379371,
           0.06778046548890977,
           -0.0009220248295486182,
           0.0051861303835675655,
           0.010354415140987177,
           -0.004756483147562944,
           1,
           0.340093767869963,
           0.02585796878179016,
           -0.015485935661373308
          ],
          [
           -0.029722866854063,
           0.17096642854794944,
           0.09441869305074375,
           0.06711284122573279,
           0.001408333447867856,
           0.010601240270452748,
           0.03576038557123233,
           0.011245770627441684,
           0.340093767869963,
           1,
           0.025475829204318717,
           -0.007330231723206605
          ],
          [
           -0.009927354367213146,
           0.005865669226978778,
           -0.006569547145635977,
           -0.01686674614263624,
           -3.30024832343445e-05,
           0.004780258150919352,
           0.009911297489836544,
           -0.006769518191164335,
           0.02585796878179016,
           0.025475829204318717,
           1,
           -0.03565324811518795
          ],
          [
           0.23815922744232326,
           0.00810949191312318,
           -0.010821058331006026,
           0.1816595617986211,
           0.05447505392688467,
           0.06571869614919744,
           0.22114727391225067,
           0.08930688732435302,
           -0.015485935661373308,
           -0.007330231723206605,
           -0.03565324811518795,
           1
          ]
         ],
         "zmax": 1,
         "zmin": -0.08151534915769473
        }
       ],
       "layout": {
        "legend": {
         "bgcolor": "#1A1A1C",
         "font": {
          "color": "#D9D9D9"
         }
        },
        "paper_bgcolor": "#1A1A1C",
        "plot_bgcolor": "#1A1A1C",
        "template": {
         "data": {
          "bar": [
           {
            "error_x": {
             "color": "#2a3f5f"
            },
            "error_y": {
             "color": "#2a3f5f"
            },
            "marker": {
             "line": {
              "color": "#E5ECF6",
              "width": 0.5
             }
            },
            "type": "bar"
           }
          ],
          "barpolar": [
           {
            "marker": {
             "line": {
              "color": "#E5ECF6",
              "width": 0.5
             }
            },
            "type": "barpolar"
           }
          ],
          "carpet": [
           {
            "aaxis": {
             "endlinecolor": "#2a3f5f",
             "gridcolor": "white",
             "linecolor": "white",
             "minorgridcolor": "white",
             "startlinecolor": "#2a3f5f"
            },
            "baxis": {
             "endlinecolor": "#2a3f5f",
             "gridcolor": "white",
             "linecolor": "white",
             "minorgridcolor": "white",
             "startlinecolor": "#2a3f5f"
            },
            "type": "carpet"
           }
          ],
          "choropleth": [
           {
            "colorbar": {
             "outlinewidth": 0,
             "ticks": ""
            },
            "type": "choropleth"
           }
          ],
          "contour": [
           {
            "colorbar": {
             "outlinewidth": 0,
             "ticks": ""
            },
            "colorscale": [
             [
              0,
              "#0d0887"
             ],
             [
              0.1111111111111111,
              "#46039f"
             ],
             [
              0.2222222222222222,
              "#7201a8"
             ],
             [
              0.3333333333333333,
              "#9c179e"
             ],
             [
              0.4444444444444444,
              "#bd3786"
             ],
             [
              0.5555555555555556,
              "#d8576b"
             ],
             [
              0.6666666666666666,
              "#ed7953"
             ],
             [
              0.7777777777777778,
              "#fb9f3a"
             ],
             [
              0.8888888888888888,
              "#fdca26"
             ],
             [
              1,
              "#f0f921"
             ]
            ],
            "type": "contour"
           }
          ],
          "contourcarpet": [
           {
            "colorbar": {
             "outlinewidth": 0,
             "ticks": ""
            },
            "type": "contourcarpet"
           }
          ],
          "heatmap": [
           {
            "colorbar": {
             "outlinewidth": 0,
             "ticks": ""
            },
            "colorscale": [
             [
              0,
              "#0d0887"
             ],
             [
              0.1111111111111111,
              "#46039f"
             ],
             [
              0.2222222222222222,
              "#7201a8"
             ],
             [
              0.3333333333333333,
              "#9c179e"
             ],
             [
              0.4444444444444444,
              "#bd3786"
             ],
             [
              0.5555555555555556,
              "#d8576b"
             ],
             [
              0.6666666666666666,
              "#ed7953"
             ],
             [
              0.7777777777777778,
              "#fb9f3a"
             ],
             [
              0.8888888888888888,
              "#fdca26"
             ],
             [
              1,
              "#f0f921"
             ]
            ],
            "type": "heatmap"
           }
          ],
          "heatmapgl": [
           {
            "colorbar": {
             "outlinewidth": 0,
             "ticks": ""
            },
            "colorscale": [
             [
              0,
              "#0d0887"
             ],
             [
              0.1111111111111111,
              "#46039f"
             ],
             [
              0.2222222222222222,
              "#7201a8"
             ],
             [
              0.3333333333333333,
              "#9c179e"
             ],
             [
              0.4444444444444444,
              "#bd3786"
             ],
             [
              0.5555555555555556,
              "#d8576b"
             ],
             [
              0.6666666666666666,
              "#ed7953"
             ],
             [
              0.7777777777777778,
              "#fb9f3a"
             ],
             [
              0.8888888888888888,
              "#fdca26"
             ],
             [
              1,
              "#f0f921"
             ]
            ],
            "type": "heatmapgl"
           }
          ],
          "histogram": [
           {
            "marker": {
             "colorbar": {
              "outlinewidth": 0,
              "ticks": ""
             }
            },
            "type": "histogram"
           }
          ],
          "histogram2d": [
           {
            "colorbar": {
             "outlinewidth": 0,
             "ticks": ""
            },
            "colorscale": [
             [
              0,
              "#0d0887"
             ],
             [
              0.1111111111111111,
              "#46039f"
             ],
             [
              0.2222222222222222,
              "#7201a8"
             ],
             [
              0.3333333333333333,
              "#9c179e"
             ],
             [
              0.4444444444444444,
              "#bd3786"
             ],
             [
              0.5555555555555556,
              "#d8576b"
             ],
             [
              0.6666666666666666,
              "#ed7953"
             ],
             [
              0.7777777777777778,
              "#fb9f3a"
             ],
             [
              0.8888888888888888,
              "#fdca26"
             ],
             [
              1,
              "#f0f921"
             ]
            ],
            "type": "histogram2d"
           }
          ],
          "histogram2dcontour": [
           {
            "colorbar": {
             "outlinewidth": 0,
             "ticks": ""
            },
            "colorscale": [
             [
              0,
              "#0d0887"
             ],
             [
              0.1111111111111111,
              "#46039f"
             ],
             [
              0.2222222222222222,
              "#7201a8"
             ],
             [
              0.3333333333333333,
              "#9c179e"
             ],
             [
              0.4444444444444444,
              "#bd3786"
             ],
             [
              0.5555555555555556,
              "#d8576b"
             ],
             [
              0.6666666666666666,
              "#ed7953"
             ],
             [
              0.7777777777777778,
              "#fb9f3a"
             ],
             [
              0.8888888888888888,
              "#fdca26"
             ],
             [
              1,
              "#f0f921"
             ]
            ],
            "type": "histogram2dcontour"
           }
          ],
          "mesh3d": [
           {
            "colorbar": {
             "outlinewidth": 0,
             "ticks": ""
            },
            "type": "mesh3d"
           }
          ],
          "parcoords": [
           {
            "line": {
             "colorbar": {
              "outlinewidth": 0,
              "ticks": ""
             }
            },
            "type": "parcoords"
           }
          ],
          "pie": [
           {
            "automargin": true,
            "type": "pie"
           }
          ],
          "scatter": [
           {
            "marker": {
             "colorbar": {
              "outlinewidth": 0,
              "ticks": ""
             }
            },
            "type": "scatter"
           }
          ],
          "scatter3d": [
           {
            "line": {
             "colorbar": {
              "outlinewidth": 0,
              "ticks": ""
             }
            },
            "marker": {
             "colorbar": {
              "outlinewidth": 0,
              "ticks": ""
             }
            },
            "type": "scatter3d"
           }
          ],
          "scattercarpet": [
           {
            "marker": {
             "colorbar": {
              "outlinewidth": 0,
              "ticks": ""
             }
            },
            "type": "scattercarpet"
           }
          ],
          "scattergeo": [
           {
            "marker": {
             "colorbar": {
              "outlinewidth": 0,
              "ticks": ""
             }
            },
            "type": "scattergeo"
           }
          ],
          "scattergl": [
           {
            "marker": {
             "colorbar": {
              "outlinewidth": 0,
              "ticks": ""
             }
            },
            "type": "scattergl"
           }
          ],
          "scattermapbox": [
           {
            "marker": {
             "colorbar": {
              "outlinewidth": 0,
              "ticks": ""
             }
            },
            "type": "scattermapbox"
           }
          ],
          "scatterpolar": [
           {
            "marker": {
             "colorbar": {
              "outlinewidth": 0,
              "ticks": ""
             }
            },
            "type": "scatterpolar"
           }
          ],
          "scatterpolargl": [
           {
            "marker": {
             "colorbar": {
              "outlinewidth": 0,
              "ticks": ""
             }
            },
            "type": "scatterpolargl"
           }
          ],
          "scatterternary": [
           {
            "marker": {
             "colorbar": {
              "outlinewidth": 0,
              "ticks": ""
             }
            },
            "type": "scatterternary"
           }
          ],
          "surface": [
           {
            "colorbar": {
             "outlinewidth": 0,
             "ticks": ""
            },
            "colorscale": [
             [
              0,
              "#0d0887"
             ],
             [
              0.1111111111111111,
              "#46039f"
             ],
             [
              0.2222222222222222,
              "#7201a8"
             ],
             [
              0.3333333333333333,
              "#9c179e"
             ],
             [
              0.4444444444444444,
              "#bd3786"
             ],
             [
              0.5555555555555556,
              "#d8576b"
             ],
             [
              0.6666666666666666,
              "#ed7953"
             ],
             [
              0.7777777777777778,
              "#fb9f3a"
             ],
             [
              0.8888888888888888,
              "#fdca26"
             ],
             [
              1,
              "#f0f921"
             ]
            ],
            "type": "surface"
           }
          ],
          "table": [
           {
            "cells": {
             "fill": {
              "color": "#EBF0F8"
             },
             "line": {
              "color": "white"
             }
            },
            "header": {
             "fill": {
              "color": "#C8D4E3"
             },
             "line": {
              "color": "white"
             }
            },
            "type": "table"
           }
          ]
         },
         "layout": {
          "annotationdefaults": {
           "arrowcolor": "#2a3f5f",
           "arrowhead": 0,
           "arrowwidth": 1
          },
          "coloraxis": {
           "colorbar": {
            "outlinewidth": 0,
            "ticks": ""
           }
          },
          "colorscale": {
           "diverging": [
            [
             0,
             "#8e0152"
            ],
            [
             0.1,
             "#c51b7d"
            ],
            [
             0.2,
             "#de77ae"
            ],
            [
             0.3,
             "#f1b6da"
            ],
            [
             0.4,
             "#fde0ef"
            ],
            [
             0.5,
             "#f7f7f7"
            ],
            [
             0.6,
             "#e6f5d0"
            ],
            [
             0.7,
             "#b8e186"
            ],
            [
             0.8,
             "#7fbc41"
            ],
            [
             0.9,
             "#4d9221"
            ],
            [
             1,
             "#276419"
            ]
           ],
           "sequential": [
            [
             0,
             "#0d0887"
            ],
            [
             0.1111111111111111,
             "#46039f"
            ],
            [
             0.2222222222222222,
             "#7201a8"
            ],
            [
             0.3333333333333333,
             "#9c179e"
            ],
            [
             0.4444444444444444,
             "#bd3786"
            ],
            [
             0.5555555555555556,
             "#d8576b"
            ],
            [
             0.6666666666666666,
             "#ed7953"
            ],
            [
             0.7777777777777778,
             "#fb9f3a"
            ],
            [
             0.8888888888888888,
             "#fdca26"
            ],
            [
             1,
             "#f0f921"
            ]
           ],
           "sequentialminus": [
            [
             0,
             "#0d0887"
            ],
            [
             0.1111111111111111,
             "#46039f"
            ],
            [
             0.2222222222222222,
             "#7201a8"
            ],
            [
             0.3333333333333333,
             "#9c179e"
            ],
            [
             0.4444444444444444,
             "#bd3786"
            ],
            [
             0.5555555555555556,
             "#d8576b"
            ],
            [
             0.6666666666666666,
             "#ed7953"
            ],
            [
             0.7777777777777778,
             "#fb9f3a"
            ],
            [
             0.8888888888888888,
             "#fdca26"
            ],
            [
             1,
             "#f0f921"
            ]
           ]
          },
          "colorway": [
           "#636efa",
           "#EF553B",
           "#00cc96",
           "#ab63fa",
           "#FFA15A",
           "#19d3f3",
           "#FF6692",
           "#B6E880",
           "#FF97FF",
           "#FECB52"
          ],
          "font": {
           "color": "#2a3f5f"
          },
          "geo": {
           "bgcolor": "white",
           "lakecolor": "white",
           "landcolor": "#E5ECF6",
           "showlakes": true,
           "showland": true,
           "subunitcolor": "white"
          },
          "hoverlabel": {
           "align": "left"
          },
          "hovermode": "closest",
          "mapbox": {
           "style": "light"
          },
          "paper_bgcolor": "white",
          "plot_bgcolor": "#E5ECF6",
          "polar": {
           "angularaxis": {
            "gridcolor": "white",
            "linecolor": "white",
            "ticks": ""
           },
           "bgcolor": "#E5ECF6",
           "radialaxis": {
            "gridcolor": "white",
            "linecolor": "white",
            "ticks": ""
           }
          },
          "scene": {
           "xaxis": {
            "backgroundcolor": "#E5ECF6",
            "gridcolor": "white",
            "gridwidth": 2,
            "linecolor": "white",
            "showbackground": true,
            "ticks": "",
            "zerolinecolor": "white"
           },
           "yaxis": {
            "backgroundcolor": "#E5ECF6",
            "gridcolor": "white",
            "gridwidth": 2,
            "linecolor": "white",
            "showbackground": true,
            "ticks": "",
            "zerolinecolor": "white"
           },
           "zaxis": {
            "backgroundcolor": "#E5ECF6",
            "gridcolor": "white",
            "gridwidth": 2,
            "linecolor": "white",
            "showbackground": true,
            "ticks": "",
            "zerolinecolor": "white"
           }
          },
          "shapedefaults": {
           "line": {
            "color": "#2a3f5f"
           }
          },
          "ternary": {
           "aaxis": {
            "gridcolor": "white",
            "linecolor": "white",
            "ticks": ""
           },
           "baxis": {
            "gridcolor": "white",
            "linecolor": "white",
            "ticks": ""
           },
           "bgcolor": "#E5ECF6",
           "caxis": {
            "gridcolor": "white",
            "linecolor": "white",
            "ticks": ""
           }
          },
          "title": {
           "x": 0.05
          },
          "xaxis": {
           "automargin": true,
           "gridcolor": "white",
           "linecolor": "white",
           "ticks": "",
           "title": {
            "standoff": 15
           },
           "zerolinecolor": "white",
           "zerolinewidth": 2
          },
          "yaxis": {
           "automargin": true,
           "gridcolor": "white",
           "linecolor": "white",
           "ticks": "",
           "title": {
            "standoff": 15
           },
           "zerolinecolor": "white",
           "zerolinewidth": 2
          }
         }
        },
        "title": {
         "font": {
          "color": "#D9D9D9"
         }
        },
        "xaxis": {
         "gridcolor": "#434343",
         "showgrid": true,
         "tickfont": {
          "color": "#C2C2C2"
         },
         "title": {
          "font": {
           "color": "#D9D9D9"
          },
          "text": ""
         },
         "zerolinecolor": "#666570"
        },
        "yaxis": {
         "gridcolor": "#434343",
         "showgrid": true,
         "tickfont": {
          "color": "#C2C2C2"
         },
         "title": {
          "font": {
           "color": "#D9D9D9"
          },
          "text": ""
         },
         "zerolinecolor": "#666570"
        }
       }
      },
      "text/html": [
       "<div>\n",
       "        \n",
       "        \n",
       "            <div id=\"aa44b5f3-a869-43b6-acea-55964954cd91\" class=\"plotly-graph-div\" style=\"height:525px; width:100%;\"></div>\n",
       "            <script type=\"text/javascript\">\n",
       "                require([\"plotly\"], function(Plotly) {\n",
       "                    window.PLOTLYENV=window.PLOTLYENV || {};\n",
       "                    window.PLOTLYENV.BASE_URL='https://plot.ly';\n",
       "                    \n",
       "                if (document.getElementById(\"aa44b5f3-a869-43b6-acea-55964954cd91\")) {\n",
       "                    Plotly.newPlot(\n",
       "                        'aa44b5f3-a869-43b6-acea-55964954cd91',\n",
       "                        [{\"colorscale\": [[0.0, \"rgb(255, 153, 51)\"], [0.1111111111111111, \"rgb(55, 128, 191)\"], [0.2222222222222222, \"rgb(50, 171, 96)\"], [0.3333333333333333, \"rgb(128, 0, 128)\"], [0.4444444444444444, \"rgb(219, 64, 82)\"], [0.5555555555555556, \"rgb(0, 128, 128)\"], [0.6666666666666666, \"rgb(255, 255, 51)\"], [0.7777777777777778, \"rgb(128, 128, 0)\"], [0.8888888888888888, \"rgb(251, 128, 114)\"], [1.0, \"rgb(128, 177, 211)\"]], \"type\": \"heatmap\", \"x\": [\"age\", \"gender\", \"height\", \"weight\", \"ap_hi\", \"ap_lo\", \"cholesterol\", \"gluc\", \"smoke\", \"alco\", \"active\", \"cardio\"], \"y\": [\"age\", \"gender\", \"height\", \"weight\", \"ap_hi\", \"ap_lo\", \"cholesterol\", \"gluc\", \"smoke\", \"alco\", \"active\", \"cardio\"], \"z\": [[1.0, -0.022810651720418545, -0.08151534915769473, 0.053684043073726276, 0.02076431932703915, 0.017647434023930906, 0.15442374182526977, 0.09870277209756005, -0.04763280976430146, -0.029722866854063, -0.009927354367213146, 0.23815922744232326], [-0.022810651720418545, 1.0, 0.49903342844217485, 0.15540564008999094, 0.006005308571619736, 0.015253971163314168, -0.03582141277703513, -0.020491035166513204, 0.33813513635729253, 0.17096642854794944, 0.005865669226978778, 0.00810949191312318], [-0.08151534915769473, 0.49903342844217485, 1.0, 0.2909678349915129, 0.005487764158407502, 0.006150467269639163, -0.050225951532724696, -0.018594670495630492, 0.1879893994379371, 0.09441869305074375, -0.006569547145635977, -0.010821058331006026], [0.053684043073726276, 0.15540564008999094, 0.2909678349915129, 1.0, 0.030702208651591862, 0.043709772643980245, 0.14176790555389773, 0.10685726474117306, 0.06778046548890977, 0.06711284122573279, -0.01686674614263624, 0.1816595617986211], [0.02076431932703915, 0.006005308571619736, 0.005487764158407502, 0.030702208651591862, 1.0, 0.016085513403427346, 0.023777921557728367, 0.011840678012427367, -0.0009220248295486182, 0.001408333447867856, -3.30024832343445e-05, 0.05447505392688467], [0.017647434023930906, 0.015253971163314168, 0.006150467269639163, 0.043709772643980245, 0.016085513403427346, 1.0, 0.024019290309611405, 0.010805665500815608, 0.0051861303835675655, 0.010601240270452748, 0.004780258150919352, 0.06571869614919744], [0.15442374182526977, -0.03582141277703513, -0.050225951532724696, 0.14176790555389773, 0.023777921557728367, 0.024019290309611405, 1.0, 0.45157752367538934, 0.010354415140987177, 0.03576038557123233, 0.009911297489836544, 0.22114727391225067], [0.09870277209756005, -0.020491035166513204, -0.018594670495630492, 0.10685726474117306, 0.011840678012427367, 0.010805665500815608, 0.45157752367538934, 1.0, -0.004756483147562944, 0.011245770627441684, -0.006769518191164335, 0.08930688732435302], [-0.04763280976430146, 0.33813513635729253, 0.1879893994379371, 0.06778046548890977, -0.0009220248295486182, 0.0051861303835675655, 0.010354415140987177, -0.004756483147562944, 1.0, 0.340093767869963, 0.02585796878179016, -0.015485935661373308], [-0.029722866854063, 0.17096642854794944, 0.09441869305074375, 0.06711284122573279, 0.001408333447867856, 0.010601240270452748, 0.03576038557123233, 0.011245770627441684, 0.340093767869963, 1.0, 0.025475829204318717, -0.007330231723206605], [-0.009927354367213146, 0.005865669226978778, -0.006569547145635977, -0.01686674614263624, -3.30024832343445e-05, 0.004780258150919352, 0.009911297489836544, -0.006769518191164335, 0.02585796878179016, 0.025475829204318717, 1.0, -0.03565324811518795], [0.23815922744232326, 0.00810949191312318, -0.010821058331006026, 0.1816595617986211, 0.05447505392688467, 0.06571869614919744, 0.22114727391225067, 0.08930688732435302, -0.015485935661373308, -0.007330231723206605, -0.03565324811518795, 1.0]], \"zmax\": 1.0, \"zmin\": -0.08151534915769473}],\n",
       "                        {\"legend\": {\"bgcolor\": \"#1A1A1C\", \"font\": {\"color\": \"#D9D9D9\"}}, \"paper_bgcolor\": \"#1A1A1C\", \"plot_bgcolor\": \"#1A1A1C\", \"template\": {\"data\": {\"bar\": [{\"error_x\": {\"color\": \"#2a3f5f\"}, \"error_y\": {\"color\": \"#2a3f5f\"}, \"marker\": {\"line\": {\"color\": \"#E5ECF6\", \"width\": 0.5}}, \"type\": \"bar\"}], \"barpolar\": [{\"marker\": {\"line\": {\"color\": \"#E5ECF6\", \"width\": 0.5}}, \"type\": \"barpolar\"}], \"carpet\": [{\"aaxis\": {\"endlinecolor\": \"#2a3f5f\", \"gridcolor\": \"white\", \"linecolor\": \"white\", \"minorgridcolor\": \"white\", \"startlinecolor\": \"#2a3f5f\"}, \"baxis\": {\"endlinecolor\": \"#2a3f5f\", \"gridcolor\": \"white\", \"linecolor\": \"white\", \"minorgridcolor\": \"white\", \"startlinecolor\": \"#2a3f5f\"}, \"type\": \"carpet\"}], \"choropleth\": [{\"colorbar\": {\"outlinewidth\": 0, \"ticks\": \"\"}, \"type\": \"choropleth\"}], \"contour\": [{\"colorbar\": {\"outlinewidth\": 0, \"ticks\": \"\"}, \"colorscale\": [[0.0, \"#0d0887\"], [0.1111111111111111, \"#46039f\"], [0.2222222222222222, \"#7201a8\"], [0.3333333333333333, \"#9c179e\"], [0.4444444444444444, \"#bd3786\"], [0.5555555555555556, \"#d8576b\"], [0.6666666666666666, \"#ed7953\"], [0.7777777777777778, \"#fb9f3a\"], [0.8888888888888888, \"#fdca26\"], [1.0, \"#f0f921\"]], \"type\": \"contour\"}], \"contourcarpet\": [{\"colorbar\": {\"outlinewidth\": 0, \"ticks\": \"\"}, \"type\": \"contourcarpet\"}], \"heatmap\": [{\"colorbar\": {\"outlinewidth\": 0, \"ticks\": \"\"}, \"colorscale\": [[0.0, \"#0d0887\"], [0.1111111111111111, \"#46039f\"], [0.2222222222222222, \"#7201a8\"], [0.3333333333333333, \"#9c179e\"], [0.4444444444444444, \"#bd3786\"], [0.5555555555555556, \"#d8576b\"], [0.6666666666666666, \"#ed7953\"], [0.7777777777777778, \"#fb9f3a\"], [0.8888888888888888, \"#fdca26\"], [1.0, \"#f0f921\"]], \"type\": \"heatmap\"}], \"heatmapgl\": [{\"colorbar\": {\"outlinewidth\": 0, \"ticks\": \"\"}, \"colorscale\": [[0.0, \"#0d0887\"], [0.1111111111111111, \"#46039f\"], [0.2222222222222222, \"#7201a8\"], [0.3333333333333333, \"#9c179e\"], [0.4444444444444444, \"#bd3786\"], [0.5555555555555556, \"#d8576b\"], [0.6666666666666666, \"#ed7953\"], [0.7777777777777778, \"#fb9f3a\"], [0.8888888888888888, \"#fdca26\"], [1.0, \"#f0f921\"]], \"type\": \"heatmapgl\"}], \"histogram\": [{\"marker\": {\"colorbar\": {\"outlinewidth\": 0, \"ticks\": \"\"}}, \"type\": \"histogram\"}], \"histogram2d\": [{\"colorbar\": {\"outlinewidth\": 0, \"ticks\": \"\"}, \"colorscale\": [[0.0, \"#0d0887\"], [0.1111111111111111, \"#46039f\"], [0.2222222222222222, \"#7201a8\"], [0.3333333333333333, \"#9c179e\"], [0.4444444444444444, \"#bd3786\"], [0.5555555555555556, \"#d8576b\"], [0.6666666666666666, \"#ed7953\"], [0.7777777777777778, \"#fb9f3a\"], [0.8888888888888888, \"#fdca26\"], [1.0, \"#f0f921\"]], \"type\": \"histogram2d\"}], \"histogram2dcontour\": [{\"colorbar\": {\"outlinewidth\": 0, \"ticks\": \"\"}, \"colorscale\": [[0.0, \"#0d0887\"], [0.1111111111111111, \"#46039f\"], [0.2222222222222222, \"#7201a8\"], [0.3333333333333333, \"#9c179e\"], [0.4444444444444444, \"#bd3786\"], [0.5555555555555556, \"#d8576b\"], [0.6666666666666666, \"#ed7953\"], [0.7777777777777778, \"#fb9f3a\"], [0.8888888888888888, \"#fdca26\"], [1.0, \"#f0f921\"]], \"type\": \"histogram2dcontour\"}], \"mesh3d\": [{\"colorbar\": {\"outlinewidth\": 0, \"ticks\": \"\"}, \"type\": \"mesh3d\"}], \"parcoords\": [{\"line\": {\"colorbar\": {\"outlinewidth\": 0, \"ticks\": \"\"}}, \"type\": \"parcoords\"}], \"pie\": [{\"automargin\": true, \"type\": \"pie\"}], \"scatter\": [{\"marker\": {\"colorbar\": {\"outlinewidth\": 0, \"ticks\": \"\"}}, \"type\": \"scatter\"}], \"scatter3d\": [{\"line\": {\"colorbar\": {\"outlinewidth\": 0, \"ticks\": \"\"}}, \"marker\": {\"colorbar\": {\"outlinewidth\": 0, \"ticks\": \"\"}}, \"type\": \"scatter3d\"}], \"scattercarpet\": [{\"marker\": {\"colorbar\": {\"outlinewidth\": 0, \"ticks\": \"\"}}, \"type\": \"scattercarpet\"}], \"scattergeo\": [{\"marker\": {\"colorbar\": {\"outlinewidth\": 0, \"ticks\": \"\"}}, \"type\": \"scattergeo\"}], \"scattergl\": [{\"marker\": {\"colorbar\": {\"outlinewidth\": 0, \"ticks\": \"\"}}, \"type\": \"scattergl\"}], \"scattermapbox\": [{\"marker\": {\"colorbar\": {\"outlinewidth\": 0, \"ticks\": \"\"}}, \"type\": \"scattermapbox\"}], \"scatterpolar\": [{\"marker\": {\"colorbar\": {\"outlinewidth\": 0, \"ticks\": \"\"}}, \"type\": \"scatterpolar\"}], \"scatterpolargl\": [{\"marker\": {\"colorbar\": {\"outlinewidth\": 0, \"ticks\": \"\"}}, \"type\": \"scatterpolargl\"}], \"scatterternary\": [{\"marker\": {\"colorbar\": {\"outlinewidth\": 0, \"ticks\": \"\"}}, \"type\": \"scatterternary\"}], \"surface\": [{\"colorbar\": {\"outlinewidth\": 0, \"ticks\": \"\"}, \"colorscale\": [[0.0, \"#0d0887\"], [0.1111111111111111, \"#46039f\"], [0.2222222222222222, \"#7201a8\"], [0.3333333333333333, \"#9c179e\"], [0.4444444444444444, \"#bd3786\"], [0.5555555555555556, \"#d8576b\"], [0.6666666666666666, \"#ed7953\"], [0.7777777777777778, \"#fb9f3a\"], [0.8888888888888888, \"#fdca26\"], [1.0, \"#f0f921\"]], \"type\": \"surface\"}], \"table\": [{\"cells\": {\"fill\": {\"color\": \"#EBF0F8\"}, \"line\": {\"color\": \"white\"}}, \"header\": {\"fill\": {\"color\": \"#C8D4E3\"}, \"line\": {\"color\": \"white\"}}, \"type\": \"table\"}]}, \"layout\": {\"annotationdefaults\": {\"arrowcolor\": \"#2a3f5f\", \"arrowhead\": 0, \"arrowwidth\": 1}, \"coloraxis\": {\"colorbar\": {\"outlinewidth\": 0, \"ticks\": \"\"}}, \"colorscale\": {\"diverging\": [[0, \"#8e0152\"], [0.1, \"#c51b7d\"], [0.2, \"#de77ae\"], [0.3, \"#f1b6da\"], [0.4, \"#fde0ef\"], [0.5, \"#f7f7f7\"], [0.6, \"#e6f5d0\"], [0.7, \"#b8e186\"], [0.8, \"#7fbc41\"], [0.9, \"#4d9221\"], [1, \"#276419\"]], \"sequential\": [[0.0, \"#0d0887\"], [0.1111111111111111, \"#46039f\"], [0.2222222222222222, \"#7201a8\"], [0.3333333333333333, \"#9c179e\"], [0.4444444444444444, \"#bd3786\"], [0.5555555555555556, \"#d8576b\"], [0.6666666666666666, \"#ed7953\"], [0.7777777777777778, \"#fb9f3a\"], [0.8888888888888888, \"#fdca26\"], [1.0, \"#f0f921\"]], \"sequentialminus\": [[0.0, \"#0d0887\"], [0.1111111111111111, \"#46039f\"], [0.2222222222222222, \"#7201a8\"], [0.3333333333333333, \"#9c179e\"], [0.4444444444444444, \"#bd3786\"], [0.5555555555555556, \"#d8576b\"], [0.6666666666666666, \"#ed7953\"], [0.7777777777777778, \"#fb9f3a\"], [0.8888888888888888, \"#fdca26\"], [1.0, \"#f0f921\"]]}, \"colorway\": [\"#636efa\", \"#EF553B\", \"#00cc96\", \"#ab63fa\", \"#FFA15A\", \"#19d3f3\", \"#FF6692\", \"#B6E880\", \"#FF97FF\", \"#FECB52\"], \"font\": {\"color\": \"#2a3f5f\"}, \"geo\": {\"bgcolor\": \"white\", \"lakecolor\": \"white\", \"landcolor\": \"#E5ECF6\", \"showlakes\": true, \"showland\": true, \"subunitcolor\": \"white\"}, \"hoverlabel\": {\"align\": \"left\"}, \"hovermode\": \"closest\", \"mapbox\": {\"style\": \"light\"}, \"paper_bgcolor\": \"white\", \"plot_bgcolor\": \"#E5ECF6\", \"polar\": {\"angularaxis\": {\"gridcolor\": \"white\", \"linecolor\": \"white\", \"ticks\": \"\"}, \"bgcolor\": \"#E5ECF6\", \"radialaxis\": {\"gridcolor\": \"white\", \"linecolor\": \"white\", \"ticks\": \"\"}}, \"scene\": {\"xaxis\": {\"backgroundcolor\": \"#E5ECF6\", \"gridcolor\": \"white\", \"gridwidth\": 2, \"linecolor\": \"white\", \"showbackground\": true, \"ticks\": \"\", \"zerolinecolor\": \"white\"}, \"yaxis\": {\"backgroundcolor\": \"#E5ECF6\", \"gridcolor\": \"white\", \"gridwidth\": 2, \"linecolor\": \"white\", \"showbackground\": true, \"ticks\": \"\", \"zerolinecolor\": \"white\"}, \"zaxis\": {\"backgroundcolor\": \"#E5ECF6\", \"gridcolor\": \"white\", \"gridwidth\": 2, \"linecolor\": \"white\", \"showbackground\": true, \"ticks\": \"\", \"zerolinecolor\": \"white\"}}, \"shapedefaults\": {\"line\": {\"color\": \"#2a3f5f\"}}, \"ternary\": {\"aaxis\": {\"gridcolor\": \"white\", \"linecolor\": \"white\", \"ticks\": \"\"}, \"baxis\": {\"gridcolor\": \"white\", \"linecolor\": \"white\", \"ticks\": \"\"}, \"bgcolor\": \"#E5ECF6\", \"caxis\": {\"gridcolor\": \"white\", \"linecolor\": \"white\", \"ticks\": \"\"}}, \"title\": {\"x\": 0.05}, \"xaxis\": {\"automargin\": true, \"gridcolor\": \"white\", \"linecolor\": \"white\", \"ticks\": \"\", \"title\": {\"standoff\": 15}, \"zerolinecolor\": \"white\", \"zerolinewidth\": 2}, \"yaxis\": {\"automargin\": true, \"gridcolor\": \"white\", \"linecolor\": \"white\", \"ticks\": \"\", \"title\": {\"standoff\": 15}, \"zerolinecolor\": \"white\", \"zerolinewidth\": 2}}}, \"title\": {\"font\": {\"color\": \"#D9D9D9\"}}, \"xaxis\": {\"gridcolor\": \"#434343\", \"showgrid\": true, \"tickfont\": {\"color\": \"#C2C2C2\"}, \"title\": {\"font\": {\"color\": \"#D9D9D9\"}, \"text\": \"\"}, \"zerolinecolor\": \"#666570\"}, \"yaxis\": {\"gridcolor\": \"#434343\", \"showgrid\": true, \"tickfont\": {\"color\": \"#C2C2C2\"}, \"title\": {\"font\": {\"color\": \"#D9D9D9\"}, \"text\": \"\"}, \"zerolinecolor\": \"#666570\"}},\n",
       "                        {\"showLink\": true, \"linkText\": \"Export to plot.ly\", \"plotlyServerURL\": \"https://plot.ly\", \"responsive\": true}\n",
       "                    ).then(function(){\n",
       "                            \n",
       "var gd = document.getElementById('aa44b5f3-a869-43b6-acea-55964954cd91');\n",
       "var x = new MutationObserver(function (mutations, observer) {{\n",
       "        var display = window.getComputedStyle(gd).display;\n",
       "        if (!display || display === 'none') {{\n",
       "            console.log([gd, 'removed!']);\n",
       "            Plotly.purge(gd);\n",
       "            observer.disconnect();\n",
       "        }}\n",
       "}});\n",
       "\n",
       "// Listen for the removal of the full notebook cells\n",
       "var notebookContainer = gd.closest('#notebook-container');\n",
       "if (notebookContainer) {{\n",
       "    x.observe(notebookContainer, {childList: true});\n",
       "}}\n",
       "\n",
       "// Listen for the clearing of the current output cell\n",
       "var outputEl = gd.closest('.output');\n",
       "if (outputEl) {{\n",
       "    x.observe(outputEl, {childList: true});\n",
       "}}\n",
       "\n",
       "                        })\n",
       "                };\n",
       "                });\n",
       "            </script>\n",
       "        </div>"
      ]
     },
     "metadata": {},
     "output_type": "display_data"
    }
   ],
   "source": [
    "# sns.heatmap(df.corr());\n",
    "df.corr().iplot(kind='heatmap')"
   ]
  },
  {
   "cell_type": "markdown",
   "metadata": {},
   "source": [
    "It would be instructive to peek into the values of our variables.\n",
    " \n",
    "Let's convert the data into *long* format and depict the value counts of the categorical features using [`factorplot()`](https://seaborn.pydata.org/generated/seaborn.factorplot.html)."
   ]
  },
  {
   "cell_type": "code",
   "execution_count": 144,
   "metadata": {},
   "outputs": [
    {
     "data": {
      "application/vnd.plotly.v1+json": {
       "config": {
        "linkText": "Export to plot.ly",
        "plotlyServerURL": "https://plot.ly",
        "showLink": true
       },
       "data": [
        {
         "marker": {
          "color": "rgba(255, 153, 51, 0.6)",
          "line": {
           "color": "rgba(255, 153, 51, 1.0)",
           "width": 1
          }
         },
         "name": "count",
         "orientation": "v",
         "text": "",
         "type": "bar",
         "x": [
          "active",
          "active",
          "alco",
          "alco",
          "cardio",
          "cardio",
          "cholesterol",
          "cholesterol",
          "cholesterol",
          "gender",
          "gender",
          "gluc",
          "gluc",
          "gluc",
          "smoke",
          "smoke"
         ],
         "y": [
          13739,
          56261,
          66236,
          3764,
          35021,
          34979,
          52385,
          9549,
          8066,
          45530,
          24470,
          59479,
          5190,
          5331,
          63831,
          6169
         ]
        }
       ],
       "layout": {
        "barmode": "overlay",
        "legend": {
         "bgcolor": "#1A1A1C",
         "font": {
          "color": "#D9D9D9"
         }
        },
        "paper_bgcolor": "#1A1A1C",
        "plot_bgcolor": "#1A1A1C",
        "template": {
         "data": {
          "bar": [
           {
            "error_x": {
             "color": "#2a3f5f"
            },
            "error_y": {
             "color": "#2a3f5f"
            },
            "marker": {
             "line": {
              "color": "#E5ECF6",
              "width": 0.5
             }
            },
            "type": "bar"
           }
          ],
          "barpolar": [
           {
            "marker": {
             "line": {
              "color": "#E5ECF6",
              "width": 0.5
             }
            },
            "type": "barpolar"
           }
          ],
          "carpet": [
           {
            "aaxis": {
             "endlinecolor": "#2a3f5f",
             "gridcolor": "white",
             "linecolor": "white",
             "minorgridcolor": "white",
             "startlinecolor": "#2a3f5f"
            },
            "baxis": {
             "endlinecolor": "#2a3f5f",
             "gridcolor": "white",
             "linecolor": "white",
             "minorgridcolor": "white",
             "startlinecolor": "#2a3f5f"
            },
            "type": "carpet"
           }
          ],
          "choropleth": [
           {
            "colorbar": {
             "outlinewidth": 0,
             "ticks": ""
            },
            "type": "choropleth"
           }
          ],
          "contour": [
           {
            "colorbar": {
             "outlinewidth": 0,
             "ticks": ""
            },
            "colorscale": [
             [
              0,
              "#0d0887"
             ],
             [
              0.1111111111111111,
              "#46039f"
             ],
             [
              0.2222222222222222,
              "#7201a8"
             ],
             [
              0.3333333333333333,
              "#9c179e"
             ],
             [
              0.4444444444444444,
              "#bd3786"
             ],
             [
              0.5555555555555556,
              "#d8576b"
             ],
             [
              0.6666666666666666,
              "#ed7953"
             ],
             [
              0.7777777777777778,
              "#fb9f3a"
             ],
             [
              0.8888888888888888,
              "#fdca26"
             ],
             [
              1,
              "#f0f921"
             ]
            ],
            "type": "contour"
           }
          ],
          "contourcarpet": [
           {
            "colorbar": {
             "outlinewidth": 0,
             "ticks": ""
            },
            "type": "contourcarpet"
           }
          ],
          "heatmap": [
           {
            "colorbar": {
             "outlinewidth": 0,
             "ticks": ""
            },
            "colorscale": [
             [
              0,
              "#0d0887"
             ],
             [
              0.1111111111111111,
              "#46039f"
             ],
             [
              0.2222222222222222,
              "#7201a8"
             ],
             [
              0.3333333333333333,
              "#9c179e"
             ],
             [
              0.4444444444444444,
              "#bd3786"
             ],
             [
              0.5555555555555556,
              "#d8576b"
             ],
             [
              0.6666666666666666,
              "#ed7953"
             ],
             [
              0.7777777777777778,
              "#fb9f3a"
             ],
             [
              0.8888888888888888,
              "#fdca26"
             ],
             [
              1,
              "#f0f921"
             ]
            ],
            "type": "heatmap"
           }
          ],
          "heatmapgl": [
           {
            "colorbar": {
             "outlinewidth": 0,
             "ticks": ""
            },
            "colorscale": [
             [
              0,
              "#0d0887"
             ],
             [
              0.1111111111111111,
              "#46039f"
             ],
             [
              0.2222222222222222,
              "#7201a8"
             ],
             [
              0.3333333333333333,
              "#9c179e"
             ],
             [
              0.4444444444444444,
              "#bd3786"
             ],
             [
              0.5555555555555556,
              "#d8576b"
             ],
             [
              0.6666666666666666,
              "#ed7953"
             ],
             [
              0.7777777777777778,
              "#fb9f3a"
             ],
             [
              0.8888888888888888,
              "#fdca26"
             ],
             [
              1,
              "#f0f921"
             ]
            ],
            "type": "heatmapgl"
           }
          ],
          "histogram": [
           {
            "marker": {
             "colorbar": {
              "outlinewidth": 0,
              "ticks": ""
             }
            },
            "type": "histogram"
           }
          ],
          "histogram2d": [
           {
            "colorbar": {
             "outlinewidth": 0,
             "ticks": ""
            },
            "colorscale": [
             [
              0,
              "#0d0887"
             ],
             [
              0.1111111111111111,
              "#46039f"
             ],
             [
              0.2222222222222222,
              "#7201a8"
             ],
             [
              0.3333333333333333,
              "#9c179e"
             ],
             [
              0.4444444444444444,
              "#bd3786"
             ],
             [
              0.5555555555555556,
              "#d8576b"
             ],
             [
              0.6666666666666666,
              "#ed7953"
             ],
             [
              0.7777777777777778,
              "#fb9f3a"
             ],
             [
              0.8888888888888888,
              "#fdca26"
             ],
             [
              1,
              "#f0f921"
             ]
            ],
            "type": "histogram2d"
           }
          ],
          "histogram2dcontour": [
           {
            "colorbar": {
             "outlinewidth": 0,
             "ticks": ""
            },
            "colorscale": [
             [
              0,
              "#0d0887"
             ],
             [
              0.1111111111111111,
              "#46039f"
             ],
             [
              0.2222222222222222,
              "#7201a8"
             ],
             [
              0.3333333333333333,
              "#9c179e"
             ],
             [
              0.4444444444444444,
              "#bd3786"
             ],
             [
              0.5555555555555556,
              "#d8576b"
             ],
             [
              0.6666666666666666,
              "#ed7953"
             ],
             [
              0.7777777777777778,
              "#fb9f3a"
             ],
             [
              0.8888888888888888,
              "#fdca26"
             ],
             [
              1,
              "#f0f921"
             ]
            ],
            "type": "histogram2dcontour"
           }
          ],
          "mesh3d": [
           {
            "colorbar": {
             "outlinewidth": 0,
             "ticks": ""
            },
            "type": "mesh3d"
           }
          ],
          "parcoords": [
           {
            "line": {
             "colorbar": {
              "outlinewidth": 0,
              "ticks": ""
             }
            },
            "type": "parcoords"
           }
          ],
          "pie": [
           {
            "automargin": true,
            "type": "pie"
           }
          ],
          "scatter": [
           {
            "marker": {
             "colorbar": {
              "outlinewidth": 0,
              "ticks": ""
             }
            },
            "type": "scatter"
           }
          ],
          "scatter3d": [
           {
            "line": {
             "colorbar": {
              "outlinewidth": 0,
              "ticks": ""
             }
            },
            "marker": {
             "colorbar": {
              "outlinewidth": 0,
              "ticks": ""
             }
            },
            "type": "scatter3d"
           }
          ],
          "scattercarpet": [
           {
            "marker": {
             "colorbar": {
              "outlinewidth": 0,
              "ticks": ""
             }
            },
            "type": "scattercarpet"
           }
          ],
          "scattergeo": [
           {
            "marker": {
             "colorbar": {
              "outlinewidth": 0,
              "ticks": ""
             }
            },
            "type": "scattergeo"
           }
          ],
          "scattergl": [
           {
            "marker": {
             "colorbar": {
              "outlinewidth": 0,
              "ticks": ""
             }
            },
            "type": "scattergl"
           }
          ],
          "scattermapbox": [
           {
            "marker": {
             "colorbar": {
              "outlinewidth": 0,
              "ticks": ""
             }
            },
            "type": "scattermapbox"
           }
          ],
          "scatterpolar": [
           {
            "marker": {
             "colorbar": {
              "outlinewidth": 0,
              "ticks": ""
             }
            },
            "type": "scatterpolar"
           }
          ],
          "scatterpolargl": [
           {
            "marker": {
             "colorbar": {
              "outlinewidth": 0,
              "ticks": ""
             }
            },
            "type": "scatterpolargl"
           }
          ],
          "scatterternary": [
           {
            "marker": {
             "colorbar": {
              "outlinewidth": 0,
              "ticks": ""
             }
            },
            "type": "scatterternary"
           }
          ],
          "surface": [
           {
            "colorbar": {
             "outlinewidth": 0,
             "ticks": ""
            },
            "colorscale": [
             [
              0,
              "#0d0887"
             ],
             [
              0.1111111111111111,
              "#46039f"
             ],
             [
              0.2222222222222222,
              "#7201a8"
             ],
             [
              0.3333333333333333,
              "#9c179e"
             ],
             [
              0.4444444444444444,
              "#bd3786"
             ],
             [
              0.5555555555555556,
              "#d8576b"
             ],
             [
              0.6666666666666666,
              "#ed7953"
             ],
             [
              0.7777777777777778,
              "#fb9f3a"
             ],
             [
              0.8888888888888888,
              "#fdca26"
             ],
             [
              1,
              "#f0f921"
             ]
            ],
            "type": "surface"
           }
          ],
          "table": [
           {
            "cells": {
             "fill": {
              "color": "#EBF0F8"
             },
             "line": {
              "color": "white"
             }
            },
            "header": {
             "fill": {
              "color": "#C8D4E3"
             },
             "line": {
              "color": "white"
             }
            },
            "type": "table"
           }
          ]
         },
         "layout": {
          "annotationdefaults": {
           "arrowcolor": "#2a3f5f",
           "arrowhead": 0,
           "arrowwidth": 1
          },
          "coloraxis": {
           "colorbar": {
            "outlinewidth": 0,
            "ticks": ""
           }
          },
          "colorscale": {
           "diverging": [
            [
             0,
             "#8e0152"
            ],
            [
             0.1,
             "#c51b7d"
            ],
            [
             0.2,
             "#de77ae"
            ],
            [
             0.3,
             "#f1b6da"
            ],
            [
             0.4,
             "#fde0ef"
            ],
            [
             0.5,
             "#f7f7f7"
            ],
            [
             0.6,
             "#e6f5d0"
            ],
            [
             0.7,
             "#b8e186"
            ],
            [
             0.8,
             "#7fbc41"
            ],
            [
             0.9,
             "#4d9221"
            ],
            [
             1,
             "#276419"
            ]
           ],
           "sequential": [
            [
             0,
             "#0d0887"
            ],
            [
             0.1111111111111111,
             "#46039f"
            ],
            [
             0.2222222222222222,
             "#7201a8"
            ],
            [
             0.3333333333333333,
             "#9c179e"
            ],
            [
             0.4444444444444444,
             "#bd3786"
            ],
            [
             0.5555555555555556,
             "#d8576b"
            ],
            [
             0.6666666666666666,
             "#ed7953"
            ],
            [
             0.7777777777777778,
             "#fb9f3a"
            ],
            [
             0.8888888888888888,
             "#fdca26"
            ],
            [
             1,
             "#f0f921"
            ]
           ],
           "sequentialminus": [
            [
             0,
             "#0d0887"
            ],
            [
             0.1111111111111111,
             "#46039f"
            ],
            [
             0.2222222222222222,
             "#7201a8"
            ],
            [
             0.3333333333333333,
             "#9c179e"
            ],
            [
             0.4444444444444444,
             "#bd3786"
            ],
            [
             0.5555555555555556,
             "#d8576b"
            ],
            [
             0.6666666666666666,
             "#ed7953"
            ],
            [
             0.7777777777777778,
             "#fb9f3a"
            ],
            [
             0.8888888888888888,
             "#fdca26"
            ],
            [
             1,
             "#f0f921"
            ]
           ]
          },
          "colorway": [
           "#636efa",
           "#EF553B",
           "#00cc96",
           "#ab63fa",
           "#FFA15A",
           "#19d3f3",
           "#FF6692",
           "#B6E880",
           "#FF97FF",
           "#FECB52"
          ],
          "font": {
           "color": "#2a3f5f"
          },
          "geo": {
           "bgcolor": "white",
           "lakecolor": "white",
           "landcolor": "#E5ECF6",
           "showlakes": true,
           "showland": true,
           "subunitcolor": "white"
          },
          "hoverlabel": {
           "align": "left"
          },
          "hovermode": "closest",
          "mapbox": {
           "style": "light"
          },
          "paper_bgcolor": "white",
          "plot_bgcolor": "#E5ECF6",
          "polar": {
           "angularaxis": {
            "gridcolor": "white",
            "linecolor": "white",
            "ticks": ""
           },
           "bgcolor": "#E5ECF6",
           "radialaxis": {
            "gridcolor": "white",
            "linecolor": "white",
            "ticks": ""
           }
          },
          "scene": {
           "xaxis": {
            "backgroundcolor": "#E5ECF6",
            "gridcolor": "white",
            "gridwidth": 2,
            "linecolor": "white",
            "showbackground": true,
            "ticks": "",
            "zerolinecolor": "white"
           },
           "yaxis": {
            "backgroundcolor": "#E5ECF6",
            "gridcolor": "white",
            "gridwidth": 2,
            "linecolor": "white",
            "showbackground": true,
            "ticks": "",
            "zerolinecolor": "white"
           },
           "zaxis": {
            "backgroundcolor": "#E5ECF6",
            "gridcolor": "white",
            "gridwidth": 2,
            "linecolor": "white",
            "showbackground": true,
            "ticks": "",
            "zerolinecolor": "white"
           }
          },
          "shapedefaults": {
           "line": {
            "color": "#2a3f5f"
           }
          },
          "ternary": {
           "aaxis": {
            "gridcolor": "white",
            "linecolor": "white",
            "ticks": ""
           },
           "baxis": {
            "gridcolor": "white",
            "linecolor": "white",
            "ticks": ""
           },
           "bgcolor": "#E5ECF6",
           "caxis": {
            "gridcolor": "white",
            "linecolor": "white",
            "ticks": ""
           }
          },
          "title": {
           "x": 0.05
          },
          "xaxis": {
           "automargin": true,
           "gridcolor": "white",
           "linecolor": "white",
           "ticks": "",
           "title": {
            "standoff": 15
           },
           "zerolinecolor": "white",
           "zerolinewidth": 2
          },
          "yaxis": {
           "automargin": true,
           "gridcolor": "white",
           "linecolor": "white",
           "ticks": "",
           "title": {
            "standoff": 15
           },
           "zerolinecolor": "white",
           "zerolinewidth": 2
          }
         }
        },
        "title": {
         "font": {
          "color": "#D9D9D9"
         }
        },
        "xaxis": {
         "gridcolor": "#434343",
         "showgrid": true,
         "tickfont": {
          "color": "#C2C2C2"
         },
         "title": {
          "font": {
           "color": "#D9D9D9"
          },
          "text": ""
         },
         "zerolinecolor": "#666570"
        },
        "yaxis": {
         "gridcolor": "#434343",
         "showgrid": true,
         "tickfont": {
          "color": "#C2C2C2"
         },
         "title": {
          "font": {
           "color": "#D9D9D9"
          },
          "text": ""
         },
         "zerolinecolor": "#666570"
        }
       }
      },
      "text/html": [
       "<div>\n",
       "        \n",
       "        \n",
       "            <div id=\"8cb76288-f450-4783-a488-98400d8a0cc7\" class=\"plotly-graph-div\" style=\"height:525px; width:100%;\"></div>\n",
       "            <script type=\"text/javascript\">\n",
       "                require([\"plotly\"], function(Plotly) {\n",
       "                    window.PLOTLYENV=window.PLOTLYENV || {};\n",
       "                    window.PLOTLYENV.BASE_URL='https://plot.ly';\n",
       "                    \n",
       "                if (document.getElementById(\"8cb76288-f450-4783-a488-98400d8a0cc7\")) {\n",
       "                    Plotly.newPlot(\n",
       "                        '8cb76288-f450-4783-a488-98400d8a0cc7',\n",
       "                        [{\"marker\": {\"color\": \"rgba(255, 153, 51, 0.6)\", \"line\": {\"color\": \"rgba(255, 153, 51, 1.0)\", \"width\": 1}}, \"name\": \"count\", \"orientation\": \"v\", \"text\": \"\", \"type\": \"bar\", \"x\": [\"active\", \"active\", \"alco\", \"alco\", \"cardio\", \"cardio\", \"cholesterol\", \"cholesterol\", \"cholesterol\", \"gender\", \"gender\", \"gluc\", \"gluc\", \"gluc\", \"smoke\", \"smoke\"], \"y\": [13739.0, 56261.0, 66236.0, 3764.0, 35021.0, 34979.0, 52385.0, 9549.0, 8066.0, 45530.0, 24470.0, 59479.0, 5190.0, 5331.0, 63831.0, 6169.0]}],\n",
       "                        {\"barmode\": \"overlay\", \"legend\": {\"bgcolor\": \"#1A1A1C\", \"font\": {\"color\": \"#D9D9D9\"}}, \"paper_bgcolor\": \"#1A1A1C\", \"plot_bgcolor\": \"#1A1A1C\", \"template\": {\"data\": {\"bar\": [{\"error_x\": {\"color\": \"#2a3f5f\"}, \"error_y\": {\"color\": \"#2a3f5f\"}, \"marker\": {\"line\": {\"color\": \"#E5ECF6\", \"width\": 0.5}}, \"type\": \"bar\"}], \"barpolar\": [{\"marker\": {\"line\": {\"color\": \"#E5ECF6\", \"width\": 0.5}}, \"type\": \"barpolar\"}], \"carpet\": [{\"aaxis\": {\"endlinecolor\": \"#2a3f5f\", \"gridcolor\": \"white\", \"linecolor\": \"white\", \"minorgridcolor\": \"white\", \"startlinecolor\": \"#2a3f5f\"}, \"baxis\": {\"endlinecolor\": \"#2a3f5f\", \"gridcolor\": \"white\", \"linecolor\": \"white\", \"minorgridcolor\": \"white\", \"startlinecolor\": \"#2a3f5f\"}, \"type\": \"carpet\"}], \"choropleth\": [{\"colorbar\": {\"outlinewidth\": 0, \"ticks\": \"\"}, \"type\": \"choropleth\"}], \"contour\": [{\"colorbar\": {\"outlinewidth\": 0, \"ticks\": \"\"}, \"colorscale\": [[0.0, \"#0d0887\"], [0.1111111111111111, \"#46039f\"], [0.2222222222222222, \"#7201a8\"], [0.3333333333333333, \"#9c179e\"], [0.4444444444444444, \"#bd3786\"], [0.5555555555555556, \"#d8576b\"], [0.6666666666666666, \"#ed7953\"], [0.7777777777777778, \"#fb9f3a\"], [0.8888888888888888, \"#fdca26\"], [1.0, \"#f0f921\"]], \"type\": \"contour\"}], \"contourcarpet\": [{\"colorbar\": {\"outlinewidth\": 0, \"ticks\": \"\"}, \"type\": \"contourcarpet\"}], \"heatmap\": [{\"colorbar\": {\"outlinewidth\": 0, \"ticks\": \"\"}, \"colorscale\": [[0.0, \"#0d0887\"], [0.1111111111111111, \"#46039f\"], [0.2222222222222222, \"#7201a8\"], [0.3333333333333333, \"#9c179e\"], [0.4444444444444444, \"#bd3786\"], [0.5555555555555556, \"#d8576b\"], [0.6666666666666666, \"#ed7953\"], [0.7777777777777778, \"#fb9f3a\"], [0.8888888888888888, \"#fdca26\"], [1.0, \"#f0f921\"]], \"type\": \"heatmap\"}], \"heatmapgl\": [{\"colorbar\": {\"outlinewidth\": 0, \"ticks\": \"\"}, \"colorscale\": [[0.0, \"#0d0887\"], [0.1111111111111111, \"#46039f\"], [0.2222222222222222, \"#7201a8\"], [0.3333333333333333, \"#9c179e\"], [0.4444444444444444, \"#bd3786\"], [0.5555555555555556, \"#d8576b\"], [0.6666666666666666, \"#ed7953\"], [0.7777777777777778, \"#fb9f3a\"], [0.8888888888888888, \"#fdca26\"], [1.0, \"#f0f921\"]], \"type\": \"heatmapgl\"}], \"histogram\": [{\"marker\": {\"colorbar\": {\"outlinewidth\": 0, \"ticks\": \"\"}}, \"type\": \"histogram\"}], \"histogram2d\": [{\"colorbar\": {\"outlinewidth\": 0, \"ticks\": \"\"}, \"colorscale\": [[0.0, \"#0d0887\"], [0.1111111111111111, \"#46039f\"], [0.2222222222222222, \"#7201a8\"], [0.3333333333333333, \"#9c179e\"], [0.4444444444444444, \"#bd3786\"], [0.5555555555555556, \"#d8576b\"], [0.6666666666666666, \"#ed7953\"], [0.7777777777777778, \"#fb9f3a\"], [0.8888888888888888, \"#fdca26\"], [1.0, \"#f0f921\"]], \"type\": \"histogram2d\"}], \"histogram2dcontour\": [{\"colorbar\": {\"outlinewidth\": 0, \"ticks\": \"\"}, \"colorscale\": [[0.0, \"#0d0887\"], [0.1111111111111111, \"#46039f\"], [0.2222222222222222, \"#7201a8\"], [0.3333333333333333, \"#9c179e\"], [0.4444444444444444, \"#bd3786\"], [0.5555555555555556, \"#d8576b\"], [0.6666666666666666, \"#ed7953\"], [0.7777777777777778, \"#fb9f3a\"], [0.8888888888888888, \"#fdca26\"], [1.0, \"#f0f921\"]], \"type\": \"histogram2dcontour\"}], \"mesh3d\": [{\"colorbar\": {\"outlinewidth\": 0, \"ticks\": \"\"}, \"type\": \"mesh3d\"}], \"parcoords\": [{\"line\": {\"colorbar\": {\"outlinewidth\": 0, \"ticks\": \"\"}}, \"type\": \"parcoords\"}], \"pie\": [{\"automargin\": true, \"type\": \"pie\"}], \"scatter\": [{\"marker\": {\"colorbar\": {\"outlinewidth\": 0, \"ticks\": \"\"}}, \"type\": \"scatter\"}], \"scatter3d\": [{\"line\": {\"colorbar\": {\"outlinewidth\": 0, \"ticks\": \"\"}}, \"marker\": {\"colorbar\": {\"outlinewidth\": 0, \"ticks\": \"\"}}, \"type\": \"scatter3d\"}], \"scattercarpet\": [{\"marker\": {\"colorbar\": {\"outlinewidth\": 0, \"ticks\": \"\"}}, \"type\": \"scattercarpet\"}], \"scattergeo\": [{\"marker\": {\"colorbar\": {\"outlinewidth\": 0, \"ticks\": \"\"}}, \"type\": \"scattergeo\"}], \"scattergl\": [{\"marker\": {\"colorbar\": {\"outlinewidth\": 0, \"ticks\": \"\"}}, \"type\": \"scattergl\"}], \"scattermapbox\": [{\"marker\": {\"colorbar\": {\"outlinewidth\": 0, \"ticks\": \"\"}}, \"type\": \"scattermapbox\"}], \"scatterpolar\": [{\"marker\": {\"colorbar\": {\"outlinewidth\": 0, \"ticks\": \"\"}}, \"type\": \"scatterpolar\"}], \"scatterpolargl\": [{\"marker\": {\"colorbar\": {\"outlinewidth\": 0, \"ticks\": \"\"}}, \"type\": \"scatterpolargl\"}], \"scatterternary\": [{\"marker\": {\"colorbar\": {\"outlinewidth\": 0, \"ticks\": \"\"}}, \"type\": \"scatterternary\"}], \"surface\": [{\"colorbar\": {\"outlinewidth\": 0, \"ticks\": \"\"}, \"colorscale\": [[0.0, \"#0d0887\"], [0.1111111111111111, \"#46039f\"], [0.2222222222222222, \"#7201a8\"], [0.3333333333333333, \"#9c179e\"], [0.4444444444444444, \"#bd3786\"], [0.5555555555555556, \"#d8576b\"], [0.6666666666666666, \"#ed7953\"], [0.7777777777777778, \"#fb9f3a\"], [0.8888888888888888, \"#fdca26\"], [1.0, \"#f0f921\"]], \"type\": \"surface\"}], \"table\": [{\"cells\": {\"fill\": {\"color\": \"#EBF0F8\"}, \"line\": {\"color\": \"white\"}}, \"header\": {\"fill\": {\"color\": \"#C8D4E3\"}, \"line\": {\"color\": \"white\"}}, \"type\": \"table\"}]}, \"layout\": {\"annotationdefaults\": {\"arrowcolor\": \"#2a3f5f\", \"arrowhead\": 0, \"arrowwidth\": 1}, \"coloraxis\": {\"colorbar\": {\"outlinewidth\": 0, \"ticks\": \"\"}}, \"colorscale\": {\"diverging\": [[0, \"#8e0152\"], [0.1, \"#c51b7d\"], [0.2, \"#de77ae\"], [0.3, \"#f1b6da\"], [0.4, \"#fde0ef\"], [0.5, \"#f7f7f7\"], [0.6, \"#e6f5d0\"], [0.7, \"#b8e186\"], [0.8, \"#7fbc41\"], [0.9, \"#4d9221\"], [1, \"#276419\"]], \"sequential\": [[0.0, \"#0d0887\"], [0.1111111111111111, \"#46039f\"], [0.2222222222222222, \"#7201a8\"], [0.3333333333333333, \"#9c179e\"], [0.4444444444444444, \"#bd3786\"], [0.5555555555555556, \"#d8576b\"], [0.6666666666666666, \"#ed7953\"], [0.7777777777777778, \"#fb9f3a\"], [0.8888888888888888, \"#fdca26\"], [1.0, \"#f0f921\"]], \"sequentialminus\": [[0.0, \"#0d0887\"], [0.1111111111111111, \"#46039f\"], [0.2222222222222222, \"#7201a8\"], [0.3333333333333333, \"#9c179e\"], [0.4444444444444444, \"#bd3786\"], [0.5555555555555556, \"#d8576b\"], [0.6666666666666666, \"#ed7953\"], [0.7777777777777778, \"#fb9f3a\"], [0.8888888888888888, \"#fdca26\"], [1.0, \"#f0f921\"]]}, \"colorway\": [\"#636efa\", \"#EF553B\", \"#00cc96\", \"#ab63fa\", \"#FFA15A\", \"#19d3f3\", \"#FF6692\", \"#B6E880\", \"#FF97FF\", \"#FECB52\"], \"font\": {\"color\": \"#2a3f5f\"}, \"geo\": {\"bgcolor\": \"white\", \"lakecolor\": \"white\", \"landcolor\": \"#E5ECF6\", \"showlakes\": true, \"showland\": true, \"subunitcolor\": \"white\"}, \"hoverlabel\": {\"align\": \"left\"}, \"hovermode\": \"closest\", \"mapbox\": {\"style\": \"light\"}, \"paper_bgcolor\": \"white\", \"plot_bgcolor\": \"#E5ECF6\", \"polar\": {\"angularaxis\": {\"gridcolor\": \"white\", \"linecolor\": \"white\", \"ticks\": \"\"}, \"bgcolor\": \"#E5ECF6\", \"radialaxis\": {\"gridcolor\": \"white\", \"linecolor\": \"white\", \"ticks\": \"\"}}, \"scene\": {\"xaxis\": {\"backgroundcolor\": \"#E5ECF6\", \"gridcolor\": \"white\", \"gridwidth\": 2, \"linecolor\": \"white\", \"showbackground\": true, \"ticks\": \"\", \"zerolinecolor\": \"white\"}, \"yaxis\": {\"backgroundcolor\": \"#E5ECF6\", \"gridcolor\": \"white\", \"gridwidth\": 2, \"linecolor\": \"white\", \"showbackground\": true, \"ticks\": \"\", \"zerolinecolor\": \"white\"}, \"zaxis\": {\"backgroundcolor\": \"#E5ECF6\", \"gridcolor\": \"white\", \"gridwidth\": 2, \"linecolor\": \"white\", \"showbackground\": true, \"ticks\": \"\", \"zerolinecolor\": \"white\"}}, \"shapedefaults\": {\"line\": {\"color\": \"#2a3f5f\"}}, \"ternary\": {\"aaxis\": {\"gridcolor\": \"white\", \"linecolor\": \"white\", \"ticks\": \"\"}, \"baxis\": {\"gridcolor\": \"white\", \"linecolor\": \"white\", \"ticks\": \"\"}, \"bgcolor\": \"#E5ECF6\", \"caxis\": {\"gridcolor\": \"white\", \"linecolor\": \"white\", \"ticks\": \"\"}}, \"title\": {\"x\": 0.05}, \"xaxis\": {\"automargin\": true, \"gridcolor\": \"white\", \"linecolor\": \"white\", \"ticks\": \"\", \"title\": {\"standoff\": 15}, \"zerolinecolor\": \"white\", \"zerolinewidth\": 2}, \"yaxis\": {\"automargin\": true, \"gridcolor\": \"white\", \"linecolor\": \"white\", \"ticks\": \"\", \"title\": {\"standoff\": 15}, \"zerolinecolor\": \"white\", \"zerolinewidth\": 2}}}, \"title\": {\"font\": {\"color\": \"#D9D9D9\"}}, \"xaxis\": {\"gridcolor\": \"#434343\", \"showgrid\": true, \"tickfont\": {\"color\": \"#C2C2C2\"}, \"title\": {\"font\": {\"color\": \"#D9D9D9\"}, \"text\": \"\"}, \"zerolinecolor\": \"#666570\"}, \"yaxis\": {\"gridcolor\": \"#434343\", \"showgrid\": true, \"tickfont\": {\"color\": \"#C2C2C2\"}, \"title\": {\"font\": {\"color\": \"#D9D9D9\"}, \"text\": \"\"}, \"zerolinecolor\": \"#666570\"}},\n",
       "                        {\"showLink\": true, \"linkText\": \"Export to plot.ly\", \"plotlyServerURL\": \"https://plot.ly\", \"responsive\": true}\n",
       "                    ).then(function(){\n",
       "                            \n",
       "var gd = document.getElementById('8cb76288-f450-4783-a488-98400d8a0cc7');\n",
       "var x = new MutationObserver(function (mutations, observer) {{\n",
       "        var display = window.getComputedStyle(gd).display;\n",
       "        if (!display || display === 'none') {{\n",
       "            console.log([gd, 'removed!']);\n",
       "            Plotly.purge(gd);\n",
       "            observer.disconnect();\n",
       "        }}\n",
       "}});\n",
       "\n",
       "// Listen for the removal of the full notebook cells\n",
       "var notebookContainer = gd.closest('#notebook-container');\n",
       "if (notebookContainer) {{\n",
       "    x.observe(notebookContainer, {childList: true});\n",
       "}}\n",
       "\n",
       "// Listen for the clearing of the current output cell\n",
       "var outputEl = gd.closest('.output');\n",
       "if (outputEl) {{\n",
       "    x.observe(outputEl, {childList: true});\n",
       "}}\n",
       "\n",
       "                        })\n",
       "                };\n",
       "                });\n",
       "            </script>\n",
       "        </div>"
      ]
     },
     "metadata": {},
     "output_type": "display_data"
    }
   ],
   "source": [
    "# df_uniques = pd.melt(frame=df, value_vars=['gender','cholesterol', \n",
    "#                                            'gluc', 'smoke', 'alco', \n",
    "#                                            'active', 'cardio'])\n",
    "# df_uniques = pd.DataFrame(df_uniques.groupby(['variable', \n",
    "#                                               'value'])['value'].count()) \\\n",
    "#     .sort_index(level=[0, 1]) \\\n",
    "#     .rename(columns={'value': 'count'}) \\\n",
    "#     .reset_index()\n",
    "\n",
    "value_vars = ['gender','cholesterol', 'gluc', 'smoke', 'alco', 'active', 'cardio']\n",
    "df_uniques = df[value_vars].apply(pd.Series.value_counts).reset_index()\n",
    "df_uniques = df_uniques.melt(id_vars='index', var_name='variable', value_name='count').dropna() \\\n",
    "                        .sort_values(by=['variable', 'index']) \\\n",
    "                        .reset_index(drop=True)\n",
    "\n",
    "# sns.catplot(x='variable', y='count', hue='index', \n",
    "#                data=df_uniques, kind='bar', size=9);\n",
    "\n",
    "df_uniques.iplot(x='variable', y='count', z='index', kind='bar', barmode='overlay')"
   ]
  },
  {
   "cell_type": "markdown",
   "metadata": {
    "collapsed": true
   },
   "source": [
    "We can see that the target classes are balanced. That's great!\n",
    "\n",
    "Let's split the dataset by target values. Can you already spot the most significant feature by just looking at the plot?"
   ]
  },
  {
   "cell_type": "code",
   "execution_count": 148,
   "metadata": {},
   "outputs": [
    {
     "data": {
      "application/javascript": [
       "/* Put everything inside the global mpl namespace */\n",
       "window.mpl = {};\n",
       "\n",
       "\n",
       "mpl.get_websocket_type = function() {\n",
       "    if (typeof(WebSocket) !== 'undefined') {\n",
       "        return WebSocket;\n",
       "    } else if (typeof(MozWebSocket) !== 'undefined') {\n",
       "        return MozWebSocket;\n",
       "    } else {\n",
       "        alert('Your browser does not have WebSocket support. ' +\n",
       "              'Please try Chrome, Safari or Firefox ≥ 6. ' +\n",
       "              'Firefox 4 and 5 are also supported but you ' +\n",
       "              'have to enable WebSockets in about:config.');\n",
       "    };\n",
       "}\n",
       "\n",
       "mpl.figure = function(figure_id, websocket, ondownload, parent_element) {\n",
       "    this.id = figure_id;\n",
       "\n",
       "    this.ws = websocket;\n",
       "\n",
       "    this.supports_binary = (this.ws.binaryType != undefined);\n",
       "\n",
       "    if (!this.supports_binary) {\n",
       "        var warnings = document.getElementById(\"mpl-warnings\");\n",
       "        if (warnings) {\n",
       "            warnings.style.display = 'block';\n",
       "            warnings.textContent = (\n",
       "                \"This browser does not support binary websocket messages. \" +\n",
       "                    \"Performance may be slow.\");\n",
       "        }\n",
       "    }\n",
       "\n",
       "    this.imageObj = new Image();\n",
       "\n",
       "    this.context = undefined;\n",
       "    this.message = undefined;\n",
       "    this.canvas = undefined;\n",
       "    this.rubberband_canvas = undefined;\n",
       "    this.rubberband_context = undefined;\n",
       "    this.format_dropdown = undefined;\n",
       "\n",
       "    this.image_mode = 'full';\n",
       "\n",
       "    this.root = $('<div/>');\n",
       "    this._root_extra_style(this.root)\n",
       "    this.root.attr('style', 'display: inline-block');\n",
       "\n",
       "    $(parent_element).append(this.root);\n",
       "\n",
       "    this._init_header(this);\n",
       "    this._init_canvas(this);\n",
       "    this._init_toolbar(this);\n",
       "\n",
       "    var fig = this;\n",
       "\n",
       "    this.waiting = false;\n",
       "\n",
       "    this.ws.onopen =  function () {\n",
       "            fig.send_message(\"supports_binary\", {value: fig.supports_binary});\n",
       "            fig.send_message(\"send_image_mode\", {});\n",
       "            if (mpl.ratio != 1) {\n",
       "                fig.send_message(\"set_dpi_ratio\", {'dpi_ratio': mpl.ratio});\n",
       "            }\n",
       "            fig.send_message(\"refresh\", {});\n",
       "        }\n",
       "\n",
       "    this.imageObj.onload = function() {\n",
       "            if (fig.image_mode == 'full') {\n",
       "                // Full images could contain transparency (where diff images\n",
       "                // almost always do), so we need to clear the canvas so that\n",
       "                // there is no ghosting.\n",
       "                fig.context.clearRect(0, 0, fig.canvas.width, fig.canvas.height);\n",
       "            }\n",
       "            fig.context.drawImage(fig.imageObj, 0, 0);\n",
       "        };\n",
       "\n",
       "    this.imageObj.onunload = function() {\n",
       "        fig.ws.close();\n",
       "    }\n",
       "\n",
       "    this.ws.onmessage = this._make_on_message_function(this);\n",
       "\n",
       "    this.ondownload = ondownload;\n",
       "}\n",
       "\n",
       "mpl.figure.prototype._init_header = function() {\n",
       "    var titlebar = $(\n",
       "        '<div class=\"ui-dialog-titlebar ui-widget-header ui-corner-all ' +\n",
       "        'ui-helper-clearfix\"/>');\n",
       "    var titletext = $(\n",
       "        '<div class=\"ui-dialog-title\" style=\"width: 100%; ' +\n",
       "        'text-align: center; padding: 3px;\"/>');\n",
       "    titlebar.append(titletext)\n",
       "    this.root.append(titlebar);\n",
       "    this.header = titletext[0];\n",
       "}\n",
       "\n",
       "\n",
       "\n",
       "mpl.figure.prototype._canvas_extra_style = function(canvas_div) {\n",
       "\n",
       "}\n",
       "\n",
       "\n",
       "mpl.figure.prototype._root_extra_style = function(canvas_div) {\n",
       "\n",
       "}\n",
       "\n",
       "mpl.figure.prototype._init_canvas = function() {\n",
       "    var fig = this;\n",
       "\n",
       "    var canvas_div = $('<div/>');\n",
       "\n",
       "    canvas_div.attr('style', 'position: relative; clear: both; outline: 0');\n",
       "\n",
       "    function canvas_keyboard_event(event) {\n",
       "        return fig.key_event(event, event['data']);\n",
       "    }\n",
       "\n",
       "    canvas_div.keydown('key_press', canvas_keyboard_event);\n",
       "    canvas_div.keyup('key_release', canvas_keyboard_event);\n",
       "    this.canvas_div = canvas_div\n",
       "    this._canvas_extra_style(canvas_div)\n",
       "    this.root.append(canvas_div);\n",
       "\n",
       "    var canvas = $('<canvas/>');\n",
       "    canvas.addClass('mpl-canvas');\n",
       "    canvas.attr('style', \"left: 0; top: 0; z-index: 0; outline: 0\")\n",
       "\n",
       "    this.canvas = canvas[0];\n",
       "    this.context = canvas[0].getContext(\"2d\");\n",
       "\n",
       "    var backingStore = this.context.backingStorePixelRatio ||\n",
       "\tthis.context.webkitBackingStorePixelRatio ||\n",
       "\tthis.context.mozBackingStorePixelRatio ||\n",
       "\tthis.context.msBackingStorePixelRatio ||\n",
       "\tthis.context.oBackingStorePixelRatio ||\n",
       "\tthis.context.backingStorePixelRatio || 1;\n",
       "\n",
       "    mpl.ratio = (window.devicePixelRatio || 1) / backingStore;\n",
       "\n",
       "    var rubberband = $('<canvas/>');\n",
       "    rubberband.attr('style', \"position: absolute; left: 0; top: 0; z-index: 1;\")\n",
       "\n",
       "    var pass_mouse_events = true;\n",
       "\n",
       "    canvas_div.resizable({\n",
       "        start: function(event, ui) {\n",
       "            pass_mouse_events = false;\n",
       "        },\n",
       "        resize: function(event, ui) {\n",
       "            fig.request_resize(ui.size.width, ui.size.height);\n",
       "        },\n",
       "        stop: function(event, ui) {\n",
       "            pass_mouse_events = true;\n",
       "            fig.request_resize(ui.size.width, ui.size.height);\n",
       "        },\n",
       "    });\n",
       "\n",
       "    function mouse_event_fn(event) {\n",
       "        if (pass_mouse_events)\n",
       "            return fig.mouse_event(event, event['data']);\n",
       "    }\n",
       "\n",
       "    rubberband.mousedown('button_press', mouse_event_fn);\n",
       "    rubberband.mouseup('button_release', mouse_event_fn);\n",
       "    // Throttle sequential mouse events to 1 every 20ms.\n",
       "    rubberband.mousemove('motion_notify', mouse_event_fn);\n",
       "\n",
       "    rubberband.mouseenter('figure_enter', mouse_event_fn);\n",
       "    rubberband.mouseleave('figure_leave', mouse_event_fn);\n",
       "\n",
       "    canvas_div.on(\"wheel\", function (event) {\n",
       "        event = event.originalEvent;\n",
       "        event['data'] = 'scroll'\n",
       "        if (event.deltaY < 0) {\n",
       "            event.step = 1;\n",
       "        } else {\n",
       "            event.step = -1;\n",
       "        }\n",
       "        mouse_event_fn(event);\n",
       "    });\n",
       "\n",
       "    canvas_div.append(canvas);\n",
       "    canvas_div.append(rubberband);\n",
       "\n",
       "    this.rubberband = rubberband;\n",
       "    this.rubberband_canvas = rubberband[0];\n",
       "    this.rubberband_context = rubberband[0].getContext(\"2d\");\n",
       "    this.rubberband_context.strokeStyle = \"#000000\";\n",
       "\n",
       "    this._resize_canvas = function(width, height) {\n",
       "        // Keep the size of the canvas, canvas container, and rubber band\n",
       "        // canvas in synch.\n",
       "        canvas_div.css('width', width)\n",
       "        canvas_div.css('height', height)\n",
       "\n",
       "        canvas.attr('width', width * mpl.ratio);\n",
       "        canvas.attr('height', height * mpl.ratio);\n",
       "        canvas.attr('style', 'width: ' + width + 'px; height: ' + height + 'px;');\n",
       "\n",
       "        rubberband.attr('width', width);\n",
       "        rubberband.attr('height', height);\n",
       "    }\n",
       "\n",
       "    // Set the figure to an initial 600x600px, this will subsequently be updated\n",
       "    // upon first draw.\n",
       "    this._resize_canvas(600, 600);\n",
       "\n",
       "    // Disable right mouse context menu.\n",
       "    $(this.rubberband_canvas).bind(\"contextmenu\",function(e){\n",
       "        return false;\n",
       "    });\n",
       "\n",
       "    function set_focus () {\n",
       "        canvas.focus();\n",
       "        canvas_div.focus();\n",
       "    }\n",
       "\n",
       "    window.setTimeout(set_focus, 100);\n",
       "}\n",
       "\n",
       "mpl.figure.prototype._init_toolbar = function() {\n",
       "    var fig = this;\n",
       "\n",
       "    var nav_element = $('<div/>');\n",
       "    nav_element.attr('style', 'width: 100%');\n",
       "    this.root.append(nav_element);\n",
       "\n",
       "    // Define a callback function for later on.\n",
       "    function toolbar_event(event) {\n",
       "        return fig.toolbar_button_onclick(event['data']);\n",
       "    }\n",
       "    function toolbar_mouse_event(event) {\n",
       "        return fig.toolbar_button_onmouseover(event['data']);\n",
       "    }\n",
       "\n",
       "    for(var toolbar_ind in mpl.toolbar_items) {\n",
       "        var name = mpl.toolbar_items[toolbar_ind][0];\n",
       "        var tooltip = mpl.toolbar_items[toolbar_ind][1];\n",
       "        var image = mpl.toolbar_items[toolbar_ind][2];\n",
       "        var method_name = mpl.toolbar_items[toolbar_ind][3];\n",
       "\n",
       "        if (!name) {\n",
       "            // put a spacer in here.\n",
       "            continue;\n",
       "        }\n",
       "        var button = $('<button/>');\n",
       "        button.addClass('ui-button ui-widget ui-state-default ui-corner-all ' +\n",
       "                        'ui-button-icon-only');\n",
       "        button.attr('role', 'button');\n",
       "        button.attr('aria-disabled', 'false');\n",
       "        button.click(method_name, toolbar_event);\n",
       "        button.mouseover(tooltip, toolbar_mouse_event);\n",
       "\n",
       "        var icon_img = $('<span/>');\n",
       "        icon_img.addClass('ui-button-icon-primary ui-icon');\n",
       "        icon_img.addClass(image);\n",
       "        icon_img.addClass('ui-corner-all');\n",
       "\n",
       "        var tooltip_span = $('<span/>');\n",
       "        tooltip_span.addClass('ui-button-text');\n",
       "        tooltip_span.html(tooltip);\n",
       "\n",
       "        button.append(icon_img);\n",
       "        button.append(tooltip_span);\n",
       "\n",
       "        nav_element.append(button);\n",
       "    }\n",
       "\n",
       "    var fmt_picker_span = $('<span/>');\n",
       "\n",
       "    var fmt_picker = $('<select/>');\n",
       "    fmt_picker.addClass('mpl-toolbar-option ui-widget ui-widget-content');\n",
       "    fmt_picker_span.append(fmt_picker);\n",
       "    nav_element.append(fmt_picker_span);\n",
       "    this.format_dropdown = fmt_picker[0];\n",
       "\n",
       "    for (var ind in mpl.extensions) {\n",
       "        var fmt = mpl.extensions[ind];\n",
       "        var option = $(\n",
       "            '<option/>', {selected: fmt === mpl.default_extension}).html(fmt);\n",
       "        fmt_picker.append(option);\n",
       "    }\n",
       "\n",
       "    // Add hover states to the ui-buttons\n",
       "    $( \".ui-button\" ).hover(\n",
       "        function() { $(this).addClass(\"ui-state-hover\");},\n",
       "        function() { $(this).removeClass(\"ui-state-hover\");}\n",
       "    );\n",
       "\n",
       "    var status_bar = $('<span class=\"mpl-message\"/>');\n",
       "    nav_element.append(status_bar);\n",
       "    this.message = status_bar[0];\n",
       "}\n",
       "\n",
       "mpl.figure.prototype.request_resize = function(x_pixels, y_pixels) {\n",
       "    // Request matplotlib to resize the figure. Matplotlib will then trigger a resize in the client,\n",
       "    // which will in turn request a refresh of the image.\n",
       "    this.send_message('resize', {'width': x_pixels, 'height': y_pixels});\n",
       "}\n",
       "\n",
       "mpl.figure.prototype.send_message = function(type, properties) {\n",
       "    properties['type'] = type;\n",
       "    properties['figure_id'] = this.id;\n",
       "    this.ws.send(JSON.stringify(properties));\n",
       "}\n",
       "\n",
       "mpl.figure.prototype.send_draw_message = function() {\n",
       "    if (!this.waiting) {\n",
       "        this.waiting = true;\n",
       "        this.ws.send(JSON.stringify({type: \"draw\", figure_id: this.id}));\n",
       "    }\n",
       "}\n",
       "\n",
       "\n",
       "mpl.figure.prototype.handle_save = function(fig, msg) {\n",
       "    var format_dropdown = fig.format_dropdown;\n",
       "    var format = format_dropdown.options[format_dropdown.selectedIndex].value;\n",
       "    fig.ondownload(fig, format);\n",
       "}\n",
       "\n",
       "\n",
       "mpl.figure.prototype.handle_resize = function(fig, msg) {\n",
       "    var size = msg['size'];\n",
       "    if (size[0] != fig.canvas.width || size[1] != fig.canvas.height) {\n",
       "        fig._resize_canvas(size[0], size[1]);\n",
       "        fig.send_message(\"refresh\", {});\n",
       "    };\n",
       "}\n",
       "\n",
       "mpl.figure.prototype.handle_rubberband = function(fig, msg) {\n",
       "    var x0 = msg['x0'] / mpl.ratio;\n",
       "    var y0 = (fig.canvas.height - msg['y0']) / mpl.ratio;\n",
       "    var x1 = msg['x1'] / mpl.ratio;\n",
       "    var y1 = (fig.canvas.height - msg['y1']) / mpl.ratio;\n",
       "    x0 = Math.floor(x0) + 0.5;\n",
       "    y0 = Math.floor(y0) + 0.5;\n",
       "    x1 = Math.floor(x1) + 0.5;\n",
       "    y1 = Math.floor(y1) + 0.5;\n",
       "    var min_x = Math.min(x0, x1);\n",
       "    var min_y = Math.min(y0, y1);\n",
       "    var width = Math.abs(x1 - x0);\n",
       "    var height = Math.abs(y1 - y0);\n",
       "\n",
       "    fig.rubberband_context.clearRect(\n",
       "        0, 0, fig.canvas.width, fig.canvas.height);\n",
       "\n",
       "    fig.rubberband_context.strokeRect(min_x, min_y, width, height);\n",
       "}\n",
       "\n",
       "mpl.figure.prototype.handle_figure_label = function(fig, msg) {\n",
       "    // Updates the figure title.\n",
       "    fig.header.textContent = msg['label'];\n",
       "}\n",
       "\n",
       "mpl.figure.prototype.handle_cursor = function(fig, msg) {\n",
       "    var cursor = msg['cursor'];\n",
       "    switch(cursor)\n",
       "    {\n",
       "    case 0:\n",
       "        cursor = 'pointer';\n",
       "        break;\n",
       "    case 1:\n",
       "        cursor = 'default';\n",
       "        break;\n",
       "    case 2:\n",
       "        cursor = 'crosshair';\n",
       "        break;\n",
       "    case 3:\n",
       "        cursor = 'move';\n",
       "        break;\n",
       "    }\n",
       "    fig.rubberband_canvas.style.cursor = cursor;\n",
       "}\n",
       "\n",
       "mpl.figure.prototype.handle_message = function(fig, msg) {\n",
       "    fig.message.textContent = msg['message'];\n",
       "}\n",
       "\n",
       "mpl.figure.prototype.handle_draw = function(fig, msg) {\n",
       "    // Request the server to send over a new figure.\n",
       "    fig.send_draw_message();\n",
       "}\n",
       "\n",
       "mpl.figure.prototype.handle_image_mode = function(fig, msg) {\n",
       "    fig.image_mode = msg['mode'];\n",
       "}\n",
       "\n",
       "mpl.figure.prototype.updated_canvas_event = function() {\n",
       "    // Called whenever the canvas gets updated.\n",
       "    this.send_message(\"ack\", {});\n",
       "}\n",
       "\n",
       "// A function to construct a web socket function for onmessage handling.\n",
       "// Called in the figure constructor.\n",
       "mpl.figure.prototype._make_on_message_function = function(fig) {\n",
       "    return function socket_on_message(evt) {\n",
       "        if (evt.data instanceof Blob) {\n",
       "            /* FIXME: We get \"Resource interpreted as Image but\n",
       "             * transferred with MIME type text/plain:\" errors on\n",
       "             * Chrome.  But how to set the MIME type?  It doesn't seem\n",
       "             * to be part of the websocket stream */\n",
       "            evt.data.type = \"image/png\";\n",
       "\n",
       "            /* Free the memory for the previous frames */\n",
       "            if (fig.imageObj.src) {\n",
       "                (window.URL || window.webkitURL).revokeObjectURL(\n",
       "                    fig.imageObj.src);\n",
       "            }\n",
       "\n",
       "            fig.imageObj.src = (window.URL || window.webkitURL).createObjectURL(\n",
       "                evt.data);\n",
       "            fig.updated_canvas_event();\n",
       "            fig.waiting = false;\n",
       "            return;\n",
       "        }\n",
       "        else if (typeof evt.data === 'string' && evt.data.slice(0, 21) == \"data:image/png;base64\") {\n",
       "            fig.imageObj.src = evt.data;\n",
       "            fig.updated_canvas_event();\n",
       "            fig.waiting = false;\n",
       "            return;\n",
       "        }\n",
       "\n",
       "        var msg = JSON.parse(evt.data);\n",
       "        var msg_type = msg['type'];\n",
       "\n",
       "        // Call the  \"handle_{type}\" callback, which takes\n",
       "        // the figure and JSON message as its only arguments.\n",
       "        try {\n",
       "            var callback = fig[\"handle_\" + msg_type];\n",
       "        } catch (e) {\n",
       "            console.log(\"No handler for the '\" + msg_type + \"' message type: \", msg);\n",
       "            return;\n",
       "        }\n",
       "\n",
       "        if (callback) {\n",
       "            try {\n",
       "                // console.log(\"Handling '\" + msg_type + \"' message: \", msg);\n",
       "                callback(fig, msg);\n",
       "            } catch (e) {\n",
       "                console.log(\"Exception inside the 'handler_\" + msg_type + \"' callback:\", e, e.stack, msg);\n",
       "            }\n",
       "        }\n",
       "    };\n",
       "}\n",
       "\n",
       "// from http://stackoverflow.com/questions/1114465/getting-mouse-location-in-canvas\n",
       "mpl.findpos = function(e) {\n",
       "    //this section is from http://www.quirksmode.org/js/events_properties.html\n",
       "    var targ;\n",
       "    if (!e)\n",
       "        e = window.event;\n",
       "    if (e.target)\n",
       "        targ = e.target;\n",
       "    else if (e.srcElement)\n",
       "        targ = e.srcElement;\n",
       "    if (targ.nodeType == 3) // defeat Safari bug\n",
       "        targ = targ.parentNode;\n",
       "\n",
       "    // jQuery normalizes the pageX and pageY\n",
       "    // pageX,Y are the mouse positions relative to the document\n",
       "    // offset() returns the position of the element relative to the document\n",
       "    var x = e.pageX - $(targ).offset().left;\n",
       "    var y = e.pageY - $(targ).offset().top;\n",
       "\n",
       "    return {\"x\": x, \"y\": y};\n",
       "};\n",
       "\n",
       "/*\n",
       " * return a copy of an object with only non-object keys\n",
       " * we need this to avoid circular references\n",
       " * http://stackoverflow.com/a/24161582/3208463\n",
       " */\n",
       "function simpleKeys (original) {\n",
       "  return Object.keys(original).reduce(function (obj, key) {\n",
       "    if (typeof original[key] !== 'object')\n",
       "        obj[key] = original[key]\n",
       "    return obj;\n",
       "  }, {});\n",
       "}\n",
       "\n",
       "mpl.figure.prototype.mouse_event = function(event, name) {\n",
       "    var canvas_pos = mpl.findpos(event)\n",
       "\n",
       "    if (name === 'button_press')\n",
       "    {\n",
       "        this.canvas.focus();\n",
       "        this.canvas_div.focus();\n",
       "    }\n",
       "\n",
       "    var x = canvas_pos.x * mpl.ratio;\n",
       "    var y = canvas_pos.y * mpl.ratio;\n",
       "\n",
       "    this.send_message(name, {x: x, y: y, button: event.button,\n",
       "                             step: event.step,\n",
       "                             guiEvent: simpleKeys(event)});\n",
       "\n",
       "    /* This prevents the web browser from automatically changing to\n",
       "     * the text insertion cursor when the button is pressed.  We want\n",
       "     * to control all of the cursor setting manually through the\n",
       "     * 'cursor' event from matplotlib */\n",
       "    event.preventDefault();\n",
       "    return false;\n",
       "}\n",
       "\n",
       "mpl.figure.prototype._key_event_extra = function(event, name) {\n",
       "    // Handle any extra behaviour associated with a key event\n",
       "}\n",
       "\n",
       "mpl.figure.prototype.key_event = function(event, name) {\n",
       "\n",
       "    // Prevent repeat events\n",
       "    if (name == 'key_press')\n",
       "    {\n",
       "        if (event.which === this._key)\n",
       "            return;\n",
       "        else\n",
       "            this._key = event.which;\n",
       "    }\n",
       "    if (name == 'key_release')\n",
       "        this._key = null;\n",
       "\n",
       "    var value = '';\n",
       "    if (event.ctrlKey && event.which != 17)\n",
       "        value += \"ctrl+\";\n",
       "    if (event.altKey && event.which != 18)\n",
       "        value += \"alt+\";\n",
       "    if (event.shiftKey && event.which != 16)\n",
       "        value += \"shift+\";\n",
       "\n",
       "    value += 'k';\n",
       "    value += event.which.toString();\n",
       "\n",
       "    this._key_event_extra(event, name);\n",
       "\n",
       "    this.send_message(name, {key: value,\n",
       "                             guiEvent: simpleKeys(event)});\n",
       "    return false;\n",
       "}\n",
       "\n",
       "mpl.figure.prototype.toolbar_button_onclick = function(name) {\n",
       "    if (name == 'download') {\n",
       "        this.handle_save(this, null);\n",
       "    } else {\n",
       "        this.send_message(\"toolbar_button\", {name: name});\n",
       "    }\n",
       "};\n",
       "\n",
       "mpl.figure.prototype.toolbar_button_onmouseover = function(tooltip) {\n",
       "    this.message.textContent = tooltip;\n",
       "};\n",
       "mpl.toolbar_items = [[\"Home\", \"Reset original view\", \"fa fa-home icon-home\", \"home\"], [\"Back\", \"Back to previous view\", \"fa fa-arrow-left icon-arrow-left\", \"back\"], [\"Forward\", \"Forward to next view\", \"fa fa-arrow-right icon-arrow-right\", \"forward\"], [\"\", \"\", \"\", \"\"], [\"Pan\", \"Pan axes with left mouse, zoom with right\", \"fa fa-arrows icon-move\", \"pan\"], [\"Zoom\", \"Zoom to rectangle\", \"fa fa-square-o icon-check-empty\", \"zoom\"], [\"\", \"\", \"\", \"\"], [\"Download\", \"Download plot\", \"fa fa-floppy-o icon-save\", \"download\"]];\n",
       "\n",
       "mpl.extensions = [\"eps\", \"jpeg\", \"pdf\", \"png\", \"ps\", \"raw\", \"svg\", \"tif\"];\n",
       "\n",
       "mpl.default_extension = \"png\";var comm_websocket_adapter = function(comm) {\n",
       "    // Create a \"websocket\"-like object which calls the given IPython comm\n",
       "    // object with the appropriate methods. Currently this is a non binary\n",
       "    // socket, so there is still some room for performance tuning.\n",
       "    var ws = {};\n",
       "\n",
       "    ws.close = function() {\n",
       "        comm.close()\n",
       "    };\n",
       "    ws.send = function(m) {\n",
       "        //console.log('sending', m);\n",
       "        comm.send(m);\n",
       "    };\n",
       "    // Register the callback with on_msg.\n",
       "    comm.on_msg(function(msg) {\n",
       "        //console.log('receiving', msg['content']['data'], msg);\n",
       "        // Pass the mpl event to the overridden (by mpl) onmessage function.\n",
       "        ws.onmessage(msg['content']['data'])\n",
       "    });\n",
       "    return ws;\n",
       "}\n",
       "\n",
       "mpl.mpl_figure_comm = function(comm, msg) {\n",
       "    // This is the function which gets called when the mpl process\n",
       "    // starts-up an IPython Comm through the \"matplotlib\" channel.\n",
       "\n",
       "    var id = msg.content.data.id;\n",
       "    // Get hold of the div created by the display call when the Comm\n",
       "    // socket was opened in Python.\n",
       "    var element = $(\"#\" + id);\n",
       "    var ws_proxy = comm_websocket_adapter(comm)\n",
       "\n",
       "    function ondownload(figure, format) {\n",
       "        window.open(figure.imageObj.src);\n",
       "    }\n",
       "\n",
       "    var fig = new mpl.figure(id, ws_proxy,\n",
       "                           ondownload,\n",
       "                           element.get(0));\n",
       "\n",
       "    // Call onopen now - mpl needs it, as it is assuming we've passed it a real\n",
       "    // web socket which is closed, not our websocket->open comm proxy.\n",
       "    ws_proxy.onopen();\n",
       "\n",
       "    fig.parent_element = element.get(0);\n",
       "    fig.cell_info = mpl.find_output_cell(\"<div id='\" + id + \"'></div>\");\n",
       "    if (!fig.cell_info) {\n",
       "        console.error(\"Failed to find cell for figure\", id, fig);\n",
       "        return;\n",
       "    }\n",
       "\n",
       "    var output_index = fig.cell_info[2]\n",
       "    var cell = fig.cell_info[0];\n",
       "\n",
       "};\n",
       "\n",
       "mpl.figure.prototype.handle_close = function(fig, msg) {\n",
       "    var width = fig.canvas.width/mpl.ratio\n",
       "    fig.root.unbind('remove')\n",
       "\n",
       "    // Update the output cell to use the data from the current canvas.\n",
       "    fig.push_to_output();\n",
       "    var dataURL = fig.canvas.toDataURL();\n",
       "    // Re-enable the keyboard manager in IPython - without this line, in FF,\n",
       "    // the notebook keyboard shortcuts fail.\n",
       "    IPython.keyboard_manager.enable()\n",
       "    $(fig.parent_element).html('<img src=\"' + dataURL + '\" width=\"' + width + '\">');\n",
       "    fig.close_ws(fig, msg);\n",
       "}\n",
       "\n",
       "mpl.figure.prototype.close_ws = function(fig, msg){\n",
       "    fig.send_message('closing', msg);\n",
       "    // fig.ws.close()\n",
       "}\n",
       "\n",
       "mpl.figure.prototype.push_to_output = function(remove_interactive) {\n",
       "    // Turn the data on the canvas into data in the output cell.\n",
       "    var width = this.canvas.width/mpl.ratio\n",
       "    var dataURL = this.canvas.toDataURL();\n",
       "    this.cell_info[1]['text/html'] = '<img src=\"' + dataURL + '\" width=\"' + width + '\">';\n",
       "}\n",
       "\n",
       "mpl.figure.prototype.updated_canvas_event = function() {\n",
       "    // Tell IPython that the notebook contents must change.\n",
       "    IPython.notebook.set_dirty(true);\n",
       "    this.send_message(\"ack\", {});\n",
       "    var fig = this;\n",
       "    // Wait a second, then push the new image to the DOM so\n",
       "    // that it is saved nicely (might be nice to debounce this).\n",
       "    setTimeout(function () { fig.push_to_output() }, 1000);\n",
       "}\n",
       "\n",
       "mpl.figure.prototype._init_toolbar = function() {\n",
       "    var fig = this;\n",
       "\n",
       "    var nav_element = $('<div/>');\n",
       "    nav_element.attr('style', 'width: 100%');\n",
       "    this.root.append(nav_element);\n",
       "\n",
       "    // Define a callback function for later on.\n",
       "    function toolbar_event(event) {\n",
       "        return fig.toolbar_button_onclick(event['data']);\n",
       "    }\n",
       "    function toolbar_mouse_event(event) {\n",
       "        return fig.toolbar_button_onmouseover(event['data']);\n",
       "    }\n",
       "\n",
       "    for(var toolbar_ind in mpl.toolbar_items){\n",
       "        var name = mpl.toolbar_items[toolbar_ind][0];\n",
       "        var tooltip = mpl.toolbar_items[toolbar_ind][1];\n",
       "        var image = mpl.toolbar_items[toolbar_ind][2];\n",
       "        var method_name = mpl.toolbar_items[toolbar_ind][3];\n",
       "\n",
       "        if (!name) { continue; };\n",
       "\n",
       "        var button = $('<button class=\"btn btn-default\" href=\"#\" title=\"' + name + '\"><i class=\"fa ' + image + ' fa-lg\"></i></button>');\n",
       "        button.click(method_name, toolbar_event);\n",
       "        button.mouseover(tooltip, toolbar_mouse_event);\n",
       "        nav_element.append(button);\n",
       "    }\n",
       "\n",
       "    // Add the status bar.\n",
       "    var status_bar = $('<span class=\"mpl-message\" style=\"text-align:right; float: right;\"/>');\n",
       "    nav_element.append(status_bar);\n",
       "    this.message = status_bar[0];\n",
       "\n",
       "    // Add the close button to the window.\n",
       "    var buttongrp = $('<div class=\"btn-group inline pull-right\"></div>');\n",
       "    var button = $('<button class=\"btn btn-mini btn-primary\" href=\"#\" title=\"Stop Interaction\"><i class=\"fa fa-power-off icon-remove icon-large\"></i></button>');\n",
       "    button.click(function (evt) { fig.handle_close(fig, {}); } );\n",
       "    button.mouseover('Stop Interaction', toolbar_mouse_event);\n",
       "    buttongrp.append(button);\n",
       "    var titlebar = this.root.find($('.ui-dialog-titlebar'));\n",
       "    titlebar.prepend(buttongrp);\n",
       "}\n",
       "\n",
       "mpl.figure.prototype._root_extra_style = function(el){\n",
       "    var fig = this\n",
       "    el.on(\"remove\", function(){\n",
       "\tfig.close_ws(fig, {});\n",
       "    });\n",
       "}\n",
       "\n",
       "mpl.figure.prototype._canvas_extra_style = function(el){\n",
       "    // this is important to make the div 'focusable\n",
       "    el.attr('tabindex', 0)\n",
       "    // reach out to IPython and tell the keyboard manager to turn it's self\n",
       "    // off when our div gets focus\n",
       "\n",
       "    // location in version 3\n",
       "    if (IPython.notebook.keyboard_manager) {\n",
       "        IPython.notebook.keyboard_manager.register_events(el);\n",
       "    }\n",
       "    else {\n",
       "        // location in version 2\n",
       "        IPython.keyboard_manager.register_events(el);\n",
       "    }\n",
       "\n",
       "}\n",
       "\n",
       "mpl.figure.prototype._key_event_extra = function(event, name) {\n",
       "    var manager = IPython.notebook.keyboard_manager;\n",
       "    if (!manager)\n",
       "        manager = IPython.keyboard_manager;\n",
       "\n",
       "    // Check for shift+enter\n",
       "    if (event.shiftKey && event.which == 13) {\n",
       "        this.canvas_div.blur();\n",
       "        event.shiftKey = false;\n",
       "        // Send a \"J\" for go to next cell\n",
       "        event.which = 74;\n",
       "        event.keyCode = 74;\n",
       "        manager.command_mode();\n",
       "        manager.handle_keydown(event);\n",
       "    }\n",
       "}\n",
       "\n",
       "mpl.figure.prototype.handle_save = function(fig, msg) {\n",
       "    fig.ondownload(fig, null);\n",
       "}\n",
       "\n",
       "\n",
       "mpl.find_output_cell = function(html_output) {\n",
       "    // Return the cell and output element which can be found *uniquely* in the notebook.\n",
       "    // Note - this is a bit hacky, but it is done because the \"notebook_saving.Notebook\"\n",
       "    // IPython event is triggered only after the cells have been serialised, which for\n",
       "    // our purposes (turning an active figure into a static one), is too late.\n",
       "    var cells = IPython.notebook.get_cells();\n",
       "    var ncells = cells.length;\n",
       "    for (var i=0; i<ncells; i++) {\n",
       "        var cell = cells[i];\n",
       "        if (cell.cell_type === 'code'){\n",
       "            for (var j=0; j<cell.output_area.outputs.length; j++) {\n",
       "                var data = cell.output_area.outputs[j];\n",
       "                if (data.data) {\n",
       "                    // IPython >= 3 moved mimebundle to data attribute of output\n",
       "                    data = data.data;\n",
       "                }\n",
       "                if (data['text/html'] == html_output) {\n",
       "                    return [cell, data, j];\n",
       "                }\n",
       "            }\n",
       "        }\n",
       "    }\n",
       "}\n",
       "\n",
       "// Register the function which deals with the matplotlib target/channel.\n",
       "// The kernel may be null if the page has been refreshed.\n",
       "if (IPython.notebook.kernel != null) {\n",
       "    IPython.notebook.kernel.comm_manager.register_target('matplotlib', mpl.mpl_figure_comm);\n",
       "}\n"
      ],
      "text/plain": [
       "<IPython.core.display.Javascript object>"
      ]
     },
     "metadata": {},
     "output_type": "display_data"
    },
    {
     "data": {
      "text/html": [
       "<img src=\"data:image/png;base64,iVBORw0KGgoAAAANSUhEUgAAAxQAAAFoCAYAAADO/L0CAAAgAElEQVR4XuxdB7hVxdXdVAsoIAEUS4gkqBEjghQlYKEXqWLo0kEp0ouiGEVpAtIFFJAqIIpICYoUhRARJFZERUSimAAqihr6/63Jfy/vPd57d2buOe/MOW/N9+UzvLun7LVn9p51puU4c+bMGWEiAkSACBABIkAEiAARIAJEgAhYIJCDhMICNWYhAkSACBABIkAEiAARIAJEQCFAQsGOQASIABEgAkSACBABIkAEiIA1AiQU1tAxIxEgAkSACBABIkAEiAARIAIkFOwDRIAIEAEiQASIABEgAkSACFgjQEJhDR0zEgEiQASIABEgAkSACBABIkBCwT5ABIgAESACRIAIEAEiQASIgDUCJBTW0DEjESACRIAIEAEiQASIABEgAiQU7ANEgAgQASJABIgAESACRIAIWCNAQmENHTMSASJABIgAESACRIAIEAEiQELBPkAEiAARIAJEgAgQASJABIiANQIkFNbQMSMRIAJEgAgQASJABIgAESACJBTsA0SACBABIkAEiAARIAJEgAhYI0BCYQ0dMxIBIkAEiAARIAJEgAgQASJAQsE+QASIABEgAkSACBABIkAEiIA1AiQU1tAxIxEgAkSACBABIkAEiAARIAIkFOwDRIAIEAEiQASIABEgAkSACFgjQEJhDR0zEgEiQASIABEgAkSACBABIkBCwT5ABIgAESACRIAIEAEiQASIgDUCJBTW0DEjEXATgTvvvFMuv/xymTdvnmpgmzZt5Ouvv5b169c70eC//e1vMm3aNPnyyy+lWLFiqn34HxMRIAJEQAcB131cTIcjR45InTp1pH///tKkSRMd1ShDBEKLAAlFaE3HhhOB9BFIG2y3bNkiv/76q1SvXj1wyNasWSO9e/eWypUrq/bs2LFDVq5cKf369ZMuXboE3j42gAgQAfcRcNnHxdA7fvy4dO3aVf7+97/LiBEjSCjc71ZsYZIIkFAkCSCzEwHXEEgbbF1p36lTp6RGjRpy2WWXydy5cyVXrlyqafh698Ybb8jGjRulQIECrjSX7SACRMBRBFz1cTG4/v3vf8sDDzwgO3fuVH8ioXC0I7FZniJAQuEpnCyMCASPgKvBdvv27dKqVSsZPXq0NGzYMA7UP//5T/nLX/4io0aNkkaNGgUPIFtABIiA0wi46uMA2ubNm6Vnz54Kv6ZNm6qtpyQUTncnNs4jBEgoPAKSxRCBtAi89957MnnyZMGEOWfOnHLjjTeqrT3XXHONEj1z5oy88MILsmzZMtmzZ4+cPHlSnX3AXtvOnTtLjhw5lByC56233iqnT5+WV199VQoVKiTLly+XSy65RFavXi3Tp0+XvXv3ylVXXSVDhw6VBx98MOEZit27d8uECRNk27ZtgqX5a6+9Vm05SrQtCm3BeYyMUuPGjWXkyJHp/jxnzhwVWNHmkiVLxmVQ/w033KDOUaD9TESACIQDAfq4c+30/PPPy9atW5UfPnDggLRt25aEIhzdma1MEgESiiQBZHYikB4C+Brfrl07KVq0qNxzzz1y/vnnq20+P//8syIQV1xxhYwfP16eeeYZwSS8bNmy6jcQhU8++URNyvH3GKH4/vvv5Xe/+50q69ChQ9KjRw956aWXZMiQIXLTTTdJvXr1ZN++ffLiiy8q4gHyktGh7Pfff18Fufz580uLFi0kX7588sorr8jHH38sjzzyiFpFyCitW7dOtTOjBFKD9qSXsAIxa9YsdW4CdadMFStWlJtvvlmmTJnCDkUEiEAIEKCPS99I+ECSN29e9ePbb79NQhGCvswmeoMACYU3OLIUIpAKgWbNmqmvU7EVBfyIVYS6detK+/btpU+fPlKpUiW57bbbZNy4cfG8R48elVtuuUUdWgbZiBEKlLV27Vq1CoGE8whVqlSR4sWLy6JFiyRPnjzq7zGSUaFChQwJBUjJZ599Jjggfemll6p8x44dU+QCKyUbNmxQqx9eJ5CVxYsXy0cffSS5c+dOVXzVqlXl97//vSIcTESACLiPAH1cYhuRUCTGiBLRQYCEIjq2pCaOIHD48GFFCEAcBg0alKpVWAXAoWRsW8Ik/sSJE6m+1u/fv1+tQvzhD39QKxoxQgHCAEIRS1hlQEAfNmyYtGzZMv53EA0QEmyrSm+FAqsbaBvIw6OPPpqqbatWrZK+ffvK2LFjpX79+umiiWsQUUdG6bzzzlMrHuklbGdaunSpWgmJHciOyYFQQOfnnnvOESuyGUSACGSEAH1c+j4uLV4kFBxD2QkBEorsZG3qmiUIxCb7f/3rX6V58+YZ1omtSa+//rq64QirF9iyhAk7UsoVBpxbwErCwoUL42XFrl/FBPzPf/5zqjpANLDFKj1CgT3PICzY33vvvfemyoetVjgsndkVrsmcocD5CZyjePfdd88hHdjyhP9NnDgxS2zESogAEbBHgD4u/XNiJBT2fYo5w48ACUX4bUgNHEMgdmvR448/ribv6SUcyMZ1qXiDoVy5clK6dGkpVaqUlC9fXk30r7zyyjghSO9GEzwOh2sJp06dKtWqVUtVBW4WufDCC9MlFLG2pUcosHKAcxuDBw9WqyvpJZx/wMpKRglnRrB1Kb0UO5SNlZYSJUrERWKHsnGu46GHHnLMmmwOESACaRGgj0vfx5FQcKxkZwRIKLKz9am7LwjgDnJs4enUqZMMGDAgVR1jxoxRby3g4HLr1q3l/vvvV8QglnDTEw4n49aj2ApDeoQC5xBwG9TAgQOlY8eO8fwgKtjyhO1D6a1QHDx4UK1oYOUEKygpU2zL09NPP61ed/U6vfPOO0pnHEbHWZJYik1OgE2DBg28rpblEQEi4DEC9HF6gHLLkx5OlIoGAiQU0bAjtXAMAWwdwvYlrEDEbjTC+QhMpHF+ASsRuKkJB7JxQ1MsYVsTJvq49QmHrZHSIxQgDliZwHW0OPh9wQUXKNnYq9OZHcrGCsYXX3yR6lA2VglwFgPXyeJl7YsvvthzRHH2AofQsTqB8yFoO1LsYbs333xTLrroIs/rZYFEgAh4jwB9XGJMSSgSY0SJ6CBAQhEdW1IThxD4xz/+oVYo8K4EzjRg8jx//ny1XQhXw+KNiVq1aikigC1OmMAj+OCNBlw5iEn3ihUrMiQU+AG3MXXv3l1tMQJJwFfDBQsWqPMT2D6V0bWxeL01Vmfs2ljUhVUPHJzGexB+pZdfflltqcIqSe3atQU4gQTh8HqHDh38qpblEgEi4DEC9HGJASWhSIwRJaKDAAlFdGxJTRxDAOcNcMgYBxhx+xFWJbAFKnb1K35/6qmn1LsTIBF4ZwLnCCCPL/j4Yv+b3/wm3RWKmKpvvfWWTJo0Sa0sFCtWTHr16qVIBa5lzYhQIC/IA9qGu+RxOBwP22HrVKKH7byAGKRi5syZghUbXHsLcpPypiov6mAZRIAI+I8AfVzmGJNQ+N8HWYM7CJBQuGMLtoQIEAEiQASIABEgAkSACIQOARKK0JmMDSYCRIAIEAEiQASIABEgAu4gQELhji3YEiJABIgAESACRIAIEAEiEDoESChCZzI2mAgQASJABIgAESACRIAIuIMACYU7tmBLiAARIAJEgAgQASJABIhA6BAgoQidydhgIkAEiAARIAJEgAgQASLgDgIkFO7YImFLDh8+KqdPn0koRwEiQASIgN8IFCni/SOE9HF+W43lEwEioIuAHz5Ot+4wypFQhMhqDLYhMhabSgQijoAfwZY+LuKdhuoRgRAh4IePC5H6xk0loTCGLLgMDLbBYc+aiQARSI2AH8GWPo69jAgQAVcQ8MPHuaKbH+0gofADVZ/KZLD1CVgWSwSIgDECfgRb+jhjMzADESACPiHgh4/zqalOFEtC4YQZ9BrBYKuHE6WIABHwHwE/gi19nP92Yw1EgAjoIeCHj9OrOZxSJBQhshuDbYiMxaYSgYgj4EewpY+LeKehekQgRAj44eNCpL5xU0kojCELLgODbXDYs2YiQARSI+BHsKWPYy8jAkTAFQT88HGu6OZHO0go/EDVpzIZbH0ClsUSASJgjIAfwZY+ztgMzEAEiIBPCPjh43xqqhPFklA4YQa9RjDY6uFEKSJABPxHwI9gSx/nv91YAxEgAnoI+OHj9GoOpxQJRYjsxmAbImOxqUQg4gj4EWzp4yLeaageEQgRAn74uBCpb9xUEgpjyILLwGAbHPasmQgQgdQI+BFs6ePYy4gAEXAFAT98nCu6+dEOEgo/UPWpTAZbn4BlsUSACBgj4EewpY8zNgMzEAEi4BMCfvg4n5rqRLEkFE6YQa8RDLZ6OFGKCBAB/xHwI9jSx/lvN9ZABIiAHgJ++Di9msMpRUIRIrtFMdhedPH5cv55eTK1wn+PnZCffvxviCzFphKB6CPgR7Clj4t+v6GGRCAsCPjh48Kiu007SShsUAsoTxSDLQZsy4ELMkV04ehWcvDgTwGhzmqJABFIDwE/gi19HPsaESACriDgh49zRTc/2kFC4QeqPpXJYOsTsCyWCBABYwT8CLb0ccZmYAYiQAR8QsAPH+dTU50oloTCCTPoNYLBVg8nShEBIuA/An4EW/o4/+3GGogAEdBDwA8fp1dzOKVIKEJkNwbbEBmLTSUCEUfAj2BLHxfxTkP1iECIEPDDx4VIfeOmklAYQxZcBgbb4LBnzUSACKRGwI9gSx/HXkYEiIArCPjh41zRzY92kFD4gapPZTLY+gQsiyUCRMAYAT+CLX2csRmYgQgQAZ8Q8MPH+dRUJ4oloXDCDHqNYLDVw4lSRIAI+I+AH8GWPs5/u7EGIkAE9BDww8fp1RxOKRKKENmNwTZExmJTiUDEEfAj2NLHRbzTUL1sjYDOu1MAyJW3p/zwcVHuACQUIbIug22IjMWmEoGII+BHsKWPi3inoXrZGgGdd6cAkCtvT/nh46LcAUgoQmRdBtsQGYtNJQKGCPDrnQh9nGGnoTgRCBECJBQhMpZFU0koLEALKguDbVDIs14i4D8CDLYkFP73MtZABIJDgD4uOOyzomYSiqxA2aM6SCg8ApLFEAEHEWCwJaFwsFuySUTAMwTo4zyD0smCSCicNEv6jSKhCJGx2FQiYIgAgy0JhWGXoTgRCBUC9HGhMpdxY0kojCELLgMJRXDYs2Yi4DcCDLYkFH73MZZPBIJEgD4uSPT9r5uEwn+MPauBhMIzKFkQEXAOAQZbEgrnOiUbRAQ8RIA+zkMwHSyKhMJBo2TUJBKKEBmLTXUSgUIF8kruvOclbNvJ48fk+yPHE8p5KcBgS0LhZX9iWUTANQTo41yziLftiSShOHPmjDz//POyaNEiOXDggJQoUUI6d+4sd911Vxy9zZs3y/jx4+Xzzz+XwoULS+vWraVDhw6p0P3ggw9k9OjR8uGHH0q+fPmkSZMm0rNnT8mTJ09c7ssvv5SRI0fK9u3bJVeuXFK7dm0ZMGCA5M+fPy5z6NAhGTFihKDOkydPym233SZDhgyRIkWKGFmThMIILgoTgXMQQEDbMbpTQmTKDXxWDh78KaGclwIMtiQUXvYnlkUEXEOAPs41i3jbnkgSimeeeUYmTpyoJv9lypSRN998U2bNmqUIRN26deXdd9+Vtm3bSp06dRTJ2LFjh0yfPl0RgY4dOyqE9+3bpwjETTfdJG3atJE9e/ao/M2aNZNHHnlEyRw5ckQaNGigiMF9990nhw8fljFjxkjZsmVVeUggEE2bNpVffvlF+vbtq/49duxYKVCggCxbtkxy586tbVESCm2oKEgE0kWAhMK7juHHo0/0cd7ZhyURAdcQIKFwzSLetidyhOLEiRNSuXJlRRQefvjhOFogBadOnZKFCxdKu3bt1AR/yZIl8d9BBPDvLVu2SN68eeWhhx5S//+1115T/0ZC3uHDh8uGDRukWLFiMnXqVJk5c6asX79eChUqpGQ2bdokXbp0UWXdeOON8sorr8jAgQNl9erVUrJkSSWDVZH69evLuHHjFMHRTQy2ukhRjgikjwAJhXc9g4RCD0udSZQrLwPraUQpImCHgM5YUHOt0a2yfIU4PY388HF2yIUjV+QIxenTp+Wzzz6TggULqkl/LGE7E1YUQArKlSsnvXv3lk6dzm59eP/999XqA7ZKVapUSW6//Xa54447ZNiwYfEyvvvuO7nlllvkySefVKsOrVq1UluhZsyYEZcBaSlfvrwiLb169VJk4qOPPpJVq1al6hH16tWT0qVLy6hRo7R7CgmFNlQUJALpIkBC4V3H8CPY0sd5Zx+WRARcQ4CEwjWLeNueyBGKlPDgLAW2Ib300ktqNeCxxx5T25EwmcfqQrVq1eLiIBsVKlSQRx99VBo1aqS2SmGVAlujUiaQkRYtWkj//v0VucCWJ5yHSJnwN6xGYIvU3XffLZdeeqlMnjw5lUxsi1TKVZJEpmWwTYQQfycCmSNAQuFdDyGh0MNSZxLlyhdZPY0oRQTsENAZCyjZlfHgh4+zQy4cuSJNKNauXatWCZCw4jBhwgTZtWuXNG/eXObOnSsVK1aMWwlnG66//npFFBo2bChVqlRRB6lxjiJlqlq1qtx5552KeGCFoWvXruqsRsoEwoFD2dgOVatWLXUOAwe3UybU8/HHH6utULqJhEIXKcoRgfQRIKHwrmf4EWzp47yzD0siAq4hQELhmkW8bU+kCcX+/fvl22+/ld27dysycd1116mtTpjwz5s3T61IxFKMUGCLEs43gDiABDRu3DgV4iAaNWrUUAezQSi6desmPXr0SCUDwoJD1ziYDUKBVRGQk5SpX79+ql0rV6701qIhLK3lwAWZthpfK5iIgFcI6N7y5FV9JuUkGgsoi+PBBFE3ZBPZlTZ1w05shf8IJBoL9HH+28CvGiJNKFKCtnz5chk0aJA6Q9GyZUuZNm2aWmmIpR9++EGtWDz++ONqSxRIwNChQ9UNTykTtjzhitk+ffqosxbYHjV48OBUMjgQXqpUKXWbE85aFC9eXCZNmpRKBkQEdb7wwgvatuXXO22oKEgE0kWAKxTedQyuUOhhqfNV1pUtHnoaUYoI2CGgMxZihCKrr+1OTyM/fJwdcuHIFTlCgUn6xo0b1fmGlIeyP/30U3XzE96VwJkHrETg4HQsxQ5lz58/Xx2qxgpFzZo1FamIJZzHuPXWW9VBahAJrHTg8DfISSzhUPbNN9+srp/FygW2NqHuFStWpOoRuN0Jt0ClXbnIrNuQUIRjULGV7iJAQuGdbfwItvRx3tmHJREB1xAgoXDNIt62J3KEAjcxYdJ///33x89PALLZs2erLUxr1qxR5x+wxWnBggWSI0cOhSiujV28eLG89dZbcsEFFyjSsW3bNiWf9trYdevWqVUHHLTG+xa4NhbEAil2bSwe1cMqB1ZGUBZuebr66quVTOzaWNSZ8rG9RKZlsE2EEH8nApkjQELhXQ8hodDDUmcSxRUKPSwpFW4EdMYCNHRlPPjh48JtwcxbHzlCAXVxmxNuT8KB7BtuuCH+cB0OW+Mdia1bt0r79u3Vq9Y4I7Fz507BY3g414AXtZHwkB1+Aym49957BS9i46YobGECIUECecFKA25x6t69u9rCBJKAlQccyEY6fvy4ugkK/0X5uHkKW6FwaPvll1/mw3ZFLpJEeypdcS5RdgTZRTcSCu8s7Uew5UcT7+zDkoiAawiQULhmEW/bE0lCgcft5syZIy+++KJ88803asKPNybw7kTOnDkVgq+//rp6TXvv3r1qaxTelMBbFSnT9u3b1RYp3AyFh+uwzQk3OuXJkycuhu1MeJcCpARvUlSvXl1tpwJhiKUDBw7IE088EX80Dw/v4dxF0aJFjazJYGsEl1PChQrkldx5z0vYppPHj8n3R44nlKOAHQIkFHa4pZeLhEIPS51JFD+a6GFJqXAjoDMWoKEr48EPHxduC2be+kgSiqgajIQivJZ1eSIbXlTNW+6yHRhsRejjzPs0cxCBsCBAHxcWS9m1k4TCDrdAcjHYBgK7J5W6PJH1RMGQFOKyHRhsSShCMozYTCJghQB9nBVsoclEQhEaUzHYhshU5zTV5YlsmHE1bbvLdmCwpY8z7c+UJwJhQoA+LkzWMm8rCYU5ZoHl4ApFYNAnXbHLE9mklQtRAS7bgcGWhCJEQ4lNJQLGCNDHGUMWqgwkFCEyly2h0DkQHNRhYB0H48oBrWS6issT2WT0Cltel+2gMxaAtyvjwY8Di7Y+zuV+qGNXV2zqMo5smx4COvEeJQUR83XGQtR9nJ4VwylFQhEiu9kGW51JVLmBz0oQL1PqOJgoBFsdG6ArBmWHEA2DpJrqsh10xkLUg62tj0uqU/icWceuUfBxPsPI4jURoI/TBEpDzI+PJhrVhlaEhCJEprMNtjoOJqiJbHYJtjo2IKHwfzC6bAedsUBC4X8f8boGHbuSUHiNevYtjz7OO9uTUJhhSUJhhleg0iQUgcKfVOUuO/mkFAtZZpftoDPxJKEIWYcTER27klCEz66utpg+zjvLkFCYYUlCYYZXoNIkFIHCn1TlLjv5pBQLWWaX7aAz8SShCFmHI6EIn8FC3mL6OO8MSEJhhiUJhRlegUqTUAQKf1KVu+zkk1IsZJldtgMJBW95CtlwYnMdRIA+zjujkFCYYUlCYYZXoNIkFIHCn1TlLjv5pBQLWWaX7UBCQUIRsuHE5jqIAH2cd0YhoTDDkoTCDK9ApUkoAoU/qcpddvJJKRayzC7bgYTCjlC4fE0mhoeOXXmGImSOxOHm0sd5ZxwSCjMsSSjM8ApUmoQiUPiTqtxlJ5+UYiHL7LIddCaegNuVyacfwdbGx7lsUxKKkDmICDTX5fFAHxeBDpaJCiQUIbKvTbCNBbQdoztlqimvjfW3I7js5P3V3K3SXbYDg63dCoXLNiWhcGv8Z4fWuDwe6OOi3QNJKEJkXxKKEBkrTVNddvLhRdW85S7bgcGWhMK8RzMHEUiNAH2cdz3Cj1VY71rnXkkkFO7ZJMMWkVCEyFgkFE4ai8HWO7P4EWxtfJzLNuUKhXf9jSXpIeDyeOBHEz0bhlWKhCJElrMJtrGAxi1PwRraZScfLDJZW7vLdmCw5QpF1o4G1hZFBOjjvLOqHx9NvGudeyWRULhnE65QpEHAlUOoyXQVl518MnqFLa/LdiChIKEI23hie91DgD7OO5uQUJhhSUJhhleg0lyhCBT+pCp32cknpVjIMrtsBxIKEoqQDSc210EE6OO8MwoJhRmWJBRmeAUqTUIRKPxJVe6yk09KsZBldtkOJBQkFCEbTmyugwjQx3lnFBIKMyxJKMzwClSahCJQ+JOq3GUnn5RiIcvssh1IKEgoQjac2FwHEaCP884oJBRmWJJQmOEVqDQJRaDwJ1W5y04+KcVCltllO5BQkFCEbDixuQ4iQB/nnVFIKMywJKEwwytQaRKKQOFPqnKXnXxSioUss8t2IKEgoQjZcGJzHUSAPs47o5BQmGFJQmGGV6DSJBSBwp9U5S47+aQUC1lml+1AQkFCEbLhxOY6iAB9nHdGIaEwwzJyhOL06dOyePFiWbhwofzrX/+SwoULS7Vq1aRnz56SP39+hU67du1k69at5yD14osvyg033KD+/uWXX8rIkSNl+/btkitXLqldu7YMGDAgXgZkDh06JCNGjJDNmzfLyZMn5bbbbpMhQ4ZIkSJF4mX//PPP8tRTT8lrr70mv/zyi9x8883y0EMPSYkSJcwsJXbBFpXoOJhyA5+Vgwd/Mm5Tshl0JlG8NjZZlJk/hoDOWIBsEONBZyygba6MBz+Crc1HE5dtGvO/LQcuyHQQumJTeorwI+DyeKCPC3//ykyDyBGKGTNmyNNPPy0dO3aUW265Rfbu3SsTJ06U0qVLy3PPPaewqFSpktx1111Sr169VNiUKlVKLrzwQjly5Ig0aNBAEYP77rtPDh8+LGPGjJGyZcvK9OnTVR4QiKZNmyqS0LdvX/XvsWPHSoECBWTZsmWSO3duJdelSxf54IMPZODAgZIvXz6ZPHmy/PDDD7Jq1Sq56KKLjHqXTbAloTCC2Ddhl528b0o7WLDLdmCwtfto4rJNSSgcdAIRb5LL44E+LtqdL1KE4syZM1KxYkVFFIYNGxa33OrVq6VPnz6yfPlyueSSS6Rq1aoyc+ZM9d/00tSpU9Xv69evl0KFCimRTZs2KXKwZMkSufHGG+WVV15RJAFllyxZUsl8/vnnUr9+fRk3bpzUrVtXrW60atUqVV3fffedWjEBUUF5JomEwgQtt2RddvJuIeVva1y2A4MtCYW/vZ+lZwcE6OO8s7Ifq7Detc69kiJFKI4ePapWJ+rUqSPlypWLo/3JJ59Iw4YN1UrF+eefrybyb775phQrVixdi4AEYDUBqx2xdOrUKSlfvrzaLtWrVy9FJj766CO10pAygcxgNWTUqFEyYcIEef755+Wdd95R26ZiCfVjZWP+/PlGPYKEwggup4RddvJOAeVzY1y2AwkFCYXP3Z/FZwME6OO8MzIJhRmWkSIUGamObUaTJk1Sqwnr1q1T246wpQn/HxN7bIF68MEH5Xe/+50qAlul8DvOQ6RM+BtWI8aPHy933323XHrppaqslCm2RQorGQ888IB89dVX8vLLL6eSGT58uKxZs0a2bNliZC0SCiO4nBJ22ck7BZTPjXHZDiQUJBQ+d38Wnw0QoI/zzsgkFGZYRp5QvPfee9KmTRupUqWKTJkyRW19ArFo3bq1Omh94MAB9feffvpJbWPCuQmsMHTt2lUd5E6ZWrRooQ5lYztUrVq15KabblIHt1Om/v37y8cff6zqwDmO48ePy7x581LJgJDMmTNH0DaTREJhgpZbsi47ebeQ8rc1LtuBhIKEwt/ez9KzAwL0cd5ZmYTCDMtIE4odO3ZIt27dFElYsGCBOg/x6aefCs4xYFUilvbv36+2SYEAgHCAUCBfjx49UqHZvHlzdegaB7NBKHBIG7c8pUz9+vWT3bt3y4ZwOUQAACAASURBVMqVK6VDhw5y4sSJdAnF3LlzZefOnWbWSkJ6x+hOmebGrTZBJZ0bUIJqm5f1JrIB6grSDl7q6nJZLtsh0VgArrgRiCk1Ai7bFC1NZFfalD3aSwRcHg+JxgJ9nJc9IWvLiiyhwArB4MGD1fWszz77rBQtWjRTZHHGAluYQBZANho1aqTyp0y4GQo3QeE2J9zwVLx4cbWVKmUCEcEtTi+88II6a4Gra1966aVUMtjytHbtWnnrrbeMrM0VCiO4nBJ2+auRU0D53BiX7cAVCq5Q+Nz9WXw2QIA+zjsjc4XCDMtIEorZs2erQ9EVKlRQ25li17PiFihsa7riiivUexApU8otTNjaVLBgQZk2bVpcBIeykQerGFi5wNYmrHasWLEiVTm43Qm3QGHlAlub8B7Gtm3bJEeOHHG5zp07y7FjxwSrFCaJhMIELbdkXXbybiHlb2tctgMJBQmFv72fpWcHBOjjvLMyCYUZlpEjFEuXLpWhQ4eqa1tBKvLmzXvOKkOePHkEj9jlzJlT/YbbmnDI+oknnpAmTZqog9azZs1S18aCWCDFro1dtGiR2uqEK2hxaBu3PF199dVKJnZtLN6swGoGbnfCWQ2UVblyZSUTuzYWZzSwmmGSSChM0HJL1mUn7xZS/rbGZTuQUJBQ+Nv7WXp2QIA+zjsrk1CYYRkpQoEH6PDGA96aGD16dPxxuRgkV111lXobAoetcb0rti1988036npXbIkCGcH1rpj0g5BgC1T37t3VFiaQBKw84EA2Eg5b49Yn/BfnJrD6ga1QOLSNW51iD9vhQDhWMrCiAXKCLVIo79VXX1XnMUwSCYUJWm7Juuzk3ULK39a4bAcSChIKf3s/S88OCNDHeWdlEgozLCNFKLBqMGjQoAwRAMnAWQlcF/vMM8/Inj171LsUNWrUUK9dx1YjUABIwJNPPqkOTuNNiurVq6u3J0AYYgk3RGFVA9e/YiUEqxA4d5HyvAZe3cZNUKjz9OnT6n0MyMRWNUzMRUJhgpZbsi47ebeQ8rc1LtuBhIKEwt/ez9KzAwL0cd5ZmYTCDMtIEQoz1cMnTUIRPpvFWuyykw8vquYtd9kOJBQkFOY9mjmIQGoE6OO86xEkFGZYklCY4RWoNAlFoPAnVbnLTj4pxUKW2WU7kFCQUIRsOLG5DiJAH+edUUgozLAkoTDDK1BpEopA4U+qcpedfFKKhSyzy3YgoSChCNlwYnMdRIA+zjujkFCYYUlCYYZXoNIkFIHCn1TlLjv5pBQLWWaX7UBCQUIRsuHE5jqIAH2cd0YhoTDDkoTCDK9ApUkoAoU/qcpddvJJKRayzC7bgYSChCJkw4nNdRAB+jjvjEJCYYYlCYUZXoFKk1AECn9Slbvs5JNSLGSZXbYDCQUJRciGE5vrIAL0cd4ZhYTCDEsSCjO8ApUmoQgU/qQqd9nJJ6VYyDK7bAcSChKKkA0nNtdBBOjjvDMKCYUZliQUZngFKk1CESj8SVXuspNPSrGQZXbZDiQUJBQhG05sroMI0Md5ZxQSCjMsSSjM8ApUmoQiUPiTqtxlJ5+UYiHL7LIdSChIKEI2nFI1t1CBvJI773kJVTh5/Jh8f+R4QjkK2CFAH2eHW3q5SCjMsCShMMMrUGkSikDhT6pyl528rmJRmDC4bAcSChIK3bHoopzLY8tFvPxqk8t2oI/zy+pulEtC4YYdtFpBQqEFk5NCLjt5XcCogy5SdnIMtiQUdj3HjVxR8A9uIJlcK1y2Q5R93DXXXCMjRoyQJk2aJGdAzdx33nmnNG7cWHr27KmZ46zYq6++KuPHj5f169cb580sAwmFp3D6WxgJhb/4+lm6y05eV2/qoIuUnVyUg60uIjY+zvV+qWPXhaNbycGDP+nC5KSc63ZwEjQfGuWyHXTGAiBxZTyYbHkKC6FYu3at9O/fX4oUKUJC4cP4C02RNsEWyuk4mHIDnw0koOk4GFecSzIdRccGKD8oO+joRh10ULKX0RkLYQ22uqjY+DjX+6WOXenjdHuIv3Lc1ukvvjpjIaw+znVCcfToUXn88cdl1apVUrJkSfnpp59IKPzt7m6XbhNsSSjcsKnrkx4dlKiDDkr2MlEOtrqo2Pg41/uljl1JKHR7iL9yrvclHe1d1kFnLESFUKxbt04mT54se/bskUsvvVTq1asn999/v+TNm1cGDx4sX3zxhSxZsiRu0v/85z9y++23y/Tp06VKlSqyfft2GTdunHz44YdyySWXyB133CH9+vWT/PnzqzymW54++eQTGTt2rPTt21fQtpdffpmEQmdARVXGJtiSULjRG1x28roIUQddpOzkohxsdRGx8XGu90sdu5JQ6PYQf+Vc70s62rusg85YiAKh2LRpk/To0UMefPBBqVy5snz11VdqdeDaa6+VCRMmyLZt26RNmzby2muvyW9/+1tl1lmzZsmcOXNk48aNsnv3brnnnnvkvvvuk7p168qhQ4dk9OjRSm7x4sWSI0cOY0KRsu9MmjSJhEJnMEVZxibYklC40SNcdvK6CFEHXaTs5KIcbHURsfFxrvdLHbuSUOj2EH/lXO9LOtq7rIPOWIgCoWjRooVcd9118sgjj8RN9o9//EPuvfdeeeONN+Tyyy+XmjVrSsOGDRXxQGrUqJFamcAqBM44YEsSVitiaf/+/VK9enWZO3euVKxYkYRCZzBQJmMEbIItCYUbPcplJ6+LEHXQRcpOLsrBVhcRGx/ner/UsSsJhW4P8VfO9b6ko73LOuiMhSgQijJlysjJkyclT548cZOdOXNGfv31V5kxY4bcdtttMmXKFFmxYoXgkPRnn30m9evXlzVr1sjVV1+ttkft27cvVX4U9Msvv8iwYcOkZcuWJBQ6g4EyJBRpEWCwdWNUuByodBFyWYcoB1td+5BQ6CLlnpzLY0sXLeqgi5SdXJR9XMpD2X/605+kQ4cO6lrXtAm3K1144YXyzTffSLVq1dQ5CpCKd955R21nQqpTp46AlHTr1u2c/DhPcdFFF5FQ2HVB5oohYBNsuULhRv9hoKIdEiEQ5WCbSPdkfJzrY0vHrvxoottD/JVzvS/paO+yDjpjIQorFE2bNpUrrrhCnZeIJZybeP755+XRRx9VV7YitW/fXv74xz+qlYkuXbpI8+bN1d979eolBw4ckKVLl8bz4xA3zlHgUHWpUqVIKHQGA2UyRoCEIry9w2Unr4sqddBFyk4uysFWFxEbH+d6v9SxKwmFbg/xV871vqSjvcs66IyFKBCKv/3tb9K7d291PgLbl7799lt56KGH1NmJefPmxc2IB+awhQnbozZv3iwXX3yx+u2f//yntGrVSh3Mbt26tfz444/y2GOPqS1T2CaFm6JMb3lK2Xd4KFtnJEVcxibYAhIdBxPU+wc6DobB1o2OrdOP0NKg+pIOSi7roDMWwhpsdWwDGRsf57JNY/635cAFmUJAH6fbQ/yVc70v6Wjvsg5R9nFp36HAqgMOVX/++edSsGBBRQBw2DpGGmDLY8eOyZ///Gd1GBtXxKZMW7duVSscH3/8sdoidcstt8igQYPUFbRIJBQ6o4EyGSJgE2xJKNzoUC47eV2EqIMuUnZyUQ62uojY+DjX+6WOXUkodHuIv3Ku9yUd7V3WQWcsRP2jiY4NwyqT4wyOnjOFAgGbYEtC4YZpXXbyughRB12k7OQYbLlCYddz3MhF/0A7JEKAPi4RQuH+nYQiRPYjoQiRsdI0lcHWDdu5bAcGWxIKN0aJXStcHlu6GlEHXaTs5Ojj7HDLLBfOVuDV68wStlPhpW2/EwmF3wh7WD4JhYdgZnFRDFRZDHgG1blsBwZbEgo3RoldK1weW7oaUQddpOzk6OPscMss13fffacewcssxa6q9b721CVGjlCcPn1a3eW7cOFC+de//iWFCxdWd/327NlT8ufPr7T/4IMP1PVbH374oeTLl0+aNGmifk/5CMmXX34pI0eOlO3bt0uuXLmkdu3aMmDAgHgZKAfPoY8YMUKdzscpfTxWMmTIkPiVYJD5+eef5amnnlJPrONRkptvvlmd9i9RooSxbUkojCFzJgMDlRumcNkODLYkFG6MErtWuDy2dDWiDrpI2cnRx9nhFpZckSMUeIXw6aeflo4dO6pT8Xv37pWJEydK6dKl5bnnnlOvD4JA3HTTTdKmTRvZs2ePjB8/Xpo1axZ/Jv3IkSPSoEEDRQzuu+8+OXz4sIwZM0bKli0bfwodBAJ3DYMk4F5g/Hvs2LFSoEABWbZsmeTOnVv1AdwtDAIzcOBARV4mT54sP/zwg6xatUo9TmKSSChM0HJLloHKDXu4bAcGWxIKN0aJXStcHlu6GlEHXaTs5Ojj7HALS65IEQqcL69YsaK69xd3+8bS6tWrpU+fPrJ8+XKZP3++bNmyRa0Y4C5fJKxmDB8+XDZs2CDFihWTqVOnysyZM2X9+vVSqFAhJbNp0yZFDvCq4Y033iivvPKKIgkou2TJkkoG14Ph+XTsV6tbt65a3cBdwiiratWqSgbLU1gxAVFBeSaJhMIELbdkGajcsIfLdmCwJaFwY5TYtcLlsaWrEXXQRcpOjj7ODrew5IoUoTh69KhancCz5eXKlYvb4JNPPpGGDRuqlQpsUcLhlJSEA5N8rGY8+eSTatUBJACrCVjtiKVTp05J+fLlpV27duoVQ5CJjz76SK00pEwgM1gNGTVqlLpDGC8j4kl1bJuKJRAJrGyA3JgkEgoTtNySZaBywx4u24HBloTCjVFi1wqXx5auRtRBFyk7Ofo4O9zCkitShCIj0LHNCC8DYvKPCT/OMLRt2zaVOAhIixYt1MMjIBfY8oTzECkT/obVCGyRuvvuu9UDIyg7ZYptkcJKxgMPPCBfffXVOSfwsRqCR0+wUmKSSChM0HJLloHKDXu4bAcGWxIKN0aJXStcHlu6GlEHXaTs5Ojj7HALS67ACQUm9piEYxKfXsK2I5xNSLsSoAvwe++9p85K4CVCrErgv1ilwDmKlAlbkvDy4KOPPqpWGLp27aoOaqdMIBw42I0tTLVq1VLnMHBwO2UCIcHLhtgKhXMcx48fT/XUOmRBSObMmSNom0kioTBByy1ZBio37OGyHRhsSSjcGCV2rXB5bOlqRB10kbKTo4+zwy0subKcUPz666/y/fffx/HBJB4rBjhXkDbhxqZnn31WfeE3nXyjrB07dki3bt3U4eoFCxaoyT2IA0hA48aNU1UHolGjRg11MBuEAvl69OiRSqZ58+bq0DWeUwehwCFtkJOUqV+/frJ7925ZuXKldOjQQU6cOJEuoZg7d67s3Lkzy/rJjtGdMq2r3MBns6wtaStqOXBBpnXjFdkopEQ2gI5B2kEHY+qgg5K9TKKxgJKjMh7sUTo3p+v9MpFdo2JT1+2g0+eogw5K9jKJxgJ9nD22QefMckKB8wq4gjXRvbkxYHDQunLlyuqGJpOEFYLBgwer61lBSooWLaqucAUJGDp0qFq1SJmw5al169bq8HalSpWkUaNGKn/KdNddd0mpUqXUignOWhQvXlxtpUqZQERwi9MLL7ygzlrg6tqXXnoplQy2PK1du1beeustE5WEKxRGcDklzC9fbpjDZTvw6x1XKNwYJXatcHls6WpEHXSRspOLio87fuKU5M1z9lysHRrJ5Uq2DfjoPW3aNNm/f79cfvnlalcO5r3JpCwnFGgsbkzCVaogC1OmTFErA9dcc805euTMmVMuueQSde7B5IrV2bNnq0PRFSpUUOWnzIsVipo1aypSEUu4FvbWW29VeQAotjYVLFhQgR1LOJSNNySwjQkrF9ja9Omnn8qKFStStRu3O+EWKKxcYGsTbpDatm2b5MiRIy7XuXNnOXbsmGCVwiSRUJig5ZYsA5Ub9nDZDlEJtslY2sbHuWxTYKFjV6xQHDyY+eNUyeCaFXldt4MOBtRBByV7GZ2xgNJdGQ9ob0ZJZ6XFHqnEOZNZ1cQZXnw8x5ED7M5Zt26d+giOi4Twwd82BUIoUjYWB5+xlQiTcC/S0qVLFVnAxB4EIXY1bKxs1IcJPgBNe20sQMWqAw5az5o1S10bC2IRI0G4nWnRokVqlQNX0KIsnO24+uqrlUzs2li8WYHVDNzuhFUPlIVVFqTYtbFgg1jNMEk2wTYW0BIt42KrTRABTcfBuOJcTGyVVpaBKhn0vMvrsh10xkJYgq2txWx8nMs2JaE4tycEFWt0+qTrfSnsOkTJx4WZUOAjPrb246N3LPXu3Vtt18fc2DYFTihsG55ePqw04CwGVjXwEnbscbmY7FVXXaXOb+D8BEjBvffeK3gRG+9GYAsTDmTHJv0gJLjFqXv37moLE0gCSA8OZCPhPAZufcJ/cW4Cqy3YCoVD2zjzEasbW6uwkoEVDZATbJFCea+++qo6j2GSbIItCYUJwv7JMlD5h61JyS7bIUrB1sQmKWVtfJzLNiWhIKGwHQu2+VweD1HycWElFNjiVL169fgTC7F+BiIBUoEP61deeaVV93OCULz55ptqgn3o0CHB1qK0CduF8J5DooRVg0GDBmUoBpKB9yjw4Bz+/65du9TDddjmhBud8uTJE88LEoB3KXBwGm9SwAB4ewKEIZYOHDggTzzxhLr+FasdWIXAuQuc14glvLqNQ+AwEg6Z46wGZGKrGol0SjbYklCYIOyfrMtOXldr6qCLlJ1clIKtHQI8Q2GLmwv56B9csML/ttgl2pGAlgaxUhQlHxdWQhF7pBmPM1977bXxTovbSfGxPeVDzKY9OnBCgduXcEgZqXDhwudsUYophO1H2T3ZfL0joXCj17js5HURog66SNnJRSnY2iFAQmGLmwv56B9csAIJhZdWiOIZChzGxq6aN954Q6644oo4XPv27VPni7ENCjt0bFLghALXr1544YWKFf3mN7+x0SHb5CGhCK+pGWzdsJ3LdiChIKFwY5TYtcLlsaWrEXXQRcpOLko+LqwrFNgNhC34+EiP251iCdv/MR9P5mB24ITiT3/6kzz44IPqYDZT5giQUIS3hzBQuWE7l+0QpWBra20bH+eyTWMrxIkmH7x4wrbHeJvP9b6ko63LOkTJxyUa0zq2SkbG9panjRs3qiticUNpyttVP/roI/Xgc8pLhEzbFzihqF+/vrqmKu0jcqaKZAd5m2AbC2iJ9lQGsZ+SwfbcXhuUHXTGj8uBSqf9umMBckHYIUrBVtceaeVsfJzr/VLHriQUtj3G23yu9yUdbV3WQWcsQEdXxkMUtzzFtjbhNlPc9hRLeLsNV8lu2LBB3XZqkwInFGBJONg8f/58+cMf/mCjQ7bJYxNsdSdRQUygSChIKLJ68DLYeod4ZsHWthYbH+eyTenj6ONsx4JtPpfHAwmFrVXPzWe7QoGScBtqmTJl1M2ksYQbnnBRER5dtk2BE4phw4apF6O//fZb+d3vfqeufE35CBwU073lyRaEsOSzCbYkFG5Y12Unr4sQddBFyk4uSsHWDgGeobDFzYV89A8uWIGHsr20QhRXKIDPSy+9pN5Ra9Wqldx+++3qPAXeWEvmQLaaq5/BAwoBpjvvvFOrdt7yZBdsSSi0upfvQgy2vkOsVYHLdiChsPNxLts05n8T7bd2ZYuH1iDKQMh1O+joRh10ULKXiZKPSzSm7VHSy5nMCgVqwMvYOC+B5w/w7gQebsYTCsmkwAlFMo3Pbnm5QhFeizNQuWE7l+0QpWBra20bH+eyTUkozu0JQW2v1emTrvelsOsQFR93/MQpyZsnl445fJNxoQ1plSOh8M3c3hdsE2y5QuG9HWxKZKCyQc37PC7bISrBNhmr2fg4l21KQkFCkcx4sMnr8nigj7OxaHjyBE4o2rZtq4XW3LlzteSiLGQTbEko3OgRLjt5XYSogy5SdnIMttzyZNdz3MhF/0A7JEKAPi4RQuH+PXBCkd4ZitOnT8v3338vx44dUw9v4PanZ555JtxIe9B6EgoPQAyoCAbbgIBPU63LdmCwJaFwY5TYtcLlsaWrEXXQRcpOjj7ODrew5AqcUGQE1KlTp9TT4EOHDpUpU6ZI+fLlw4Kpb+0kofANWt8LZqDyHWKtCly2A4MtCYVWJ3ZUyOWxpQsZddBFyk6OPs4Ot7DkcpZQxAAcM2aMbN++XRYvXhwWTH1rJwmFb9D6XjADle8Qa1Xgsh0YbEkotDqxo0Iujy1dyKiDLlJ2cvRxdriFJZfzhGLp0qUyfPhwee+998KCqW/tJKHwDVrfC2ag8h1irQpctgODLQmFVid2VMjlsaULGXXQRcpOjj7ODrew5HKaUBw/flw6duwoX3/9tXp4I7snEorw9gAGKjds57IdGGxJKNwYJXatcHls6WpEHXSRspOjj7PDLSy5AicUGd3yBDKxd+9e+fHHH6Vnz55y//33hwVT39pJQuEbtL4XzEDlO8RaFbhsBwZbEgqtTuyokMtjSxcy6qCLlJ0cfZwdbmHJFTihyOil7Fy5cslvfvMbqV+/vrRs2VJy5MgRFkx9aycJhW/Q+l4wA5XvEGtV4LIdGGxJKLQ6saNCLo8tXciogy5SdnL0cXa4hSVX4IQiLEC50E4SChesYNcGBio73LzO5bIdGGxJKLzu71lZnstjSxcH6qCLlJ0cfZwdbmHJ5QyhwDWxH374oTovkTdvXrnsssvk+uuvDwuOWdJOEoosgdmXShiofIHVuFCX7cBgS0Jh3KEdyuDy2NKFiTroImUnRx9nh5ufuXbt2iV33323eqbh0ksvTaoqJwjFhg0b5K9//av8+9//ljNnziiFsMWpaNGiMmzYMMloW1RSmocwMwlFCI32/01moHLDdi7bgcGWhMKNUWLXCpfHlq5G1EEXKTu5qPi40ydPSM7ceexA8CiXF2344osvpF27dmruvWnTpvATCrwxAYUKFy4srVq1kpIlSypSAUUXLlwohw4dkrlz50rZsmU9MkN4iyGhCK/tGKjcsJ3LdohKsE3G0jY+zmWbAgsduy4c3UoOHvwpGegCz+u6HXQAog46KNnL6IwFlO7KeEB7M0o7RneyB8KDnOUGPmtdysmTJ9XbbmPHjpU8efLIDz/8EA1Cce+998q3334rL774olx0UWrjHT16VJo2bSpXXXWVzJw50xq8qGS0CbaxgJao86NzBhHQdByMK84lmX7EQJUMet7lddkOOmMhLMHW1mI2Ps5lm5JQnNsTgoo1On3S9b4Udh2i5OMSzal0bJWMTDKE4u2335Zu3bqpZxmKFSsmQ4cOjQahuOmmm6R79+7SqVP6bA9EAv/btm1bMthHIq9NsCWhcMP0DFS0QyIEohRsE+ma0e82Ps71saVjV340se0x3uZzvS/paOuyDjpjISwfTcJMKLDzB8cKsDPopZdekiFDhmQPQvHss8/KlClTZOfOnTpjKdIyNsGWhMKNLuGyk9dFiDroImUnF6Vga4cAz1DY4uZCPvoHF6zwvy12OpPdIFaKouTjdDD2s0cks0KRsl2RIhQ4P4EtT1DqwgsvTIV/bMsTlmRwjsImZXSCvUaNGvLVV1+dU+TWrVvlkksuUX//4IMPZPTo0er2qXz58kmTJk3UI3vYcxZLX375pYwcOVJwFgRvZ9SuXVsGDBgg+fPnj8uADY4YMUI2b94s2Lt22223KUZYpEgRI5VIKIzgckrYZSevCxR10EXKTi5KwdYOARIKW9xcyEf/4IIVSCi8tEJUz1BEllBgIo7XsnFdVevWraVEiRJK19ihbJw+f+6556RSpUrG/SSjE+w///yzlCtXTvr27SsVKlRIVW7p0qUld+7csm/fPkUgsCWrTZs2smfPHhk/frw0a9ZMHnnkEZXnyJEj0qBBA0UM7rvvPjl8+LCMGTNGHSCfPn26kgGBwDmQX375RdWHf+MgTIECBWTZsmWqLt1EQqGLlHtyDLZu2MRlO5BQkFC4MUrsWuHy2NLViDroImUnFyUfxxWKc/uAE9fG4v7bxx9/XK1UxF7Exk1PmKg//PDDUrNmTaPem+gE+7vvvistWrSQ1atXq1ul0ksPPfSQbNmyRV577TX1LgYSbp0aPny44JpbrJpMnTpVne9Yv369FCpUSMng6q0uXbrIkiVL5MYbb5RXXnlFBg4cmKquzz//XL0APm7cOKlbt662biQU2lA5J8hA5YZJXLZDlIKtrbVtfJzLNgUOOnblGQrbHuNtPtf7ko62LuugMxbUXMuRW8+4QqHT487KOEEovvnmG5k3b57UqVNH/vWvf6nW4b/fffeddO7cWR0cMUmJTrAvWLBARo0apc5lYJtSeun222+XO+64Q72DEUtozy233CJPPvmkWnXANbfYCjVjxoy4DB7oK1++vLoKt1evXopMfPTRR7Jq1apU1dSrV0+wGoJ26CabYBsLaInYdBD7KRlsz7V8UHbQ6YMuByqd9uuOBcgFYYcoBVtde6SVs/FxrvdLHbu6MoGytZvrY0tXL9f7ko4eLuugMxZIKHSs/L8Y5UWK1BmKTz/9VG0pwnkJbAG69tprFUZPPfWUOjeBrUFYGbjyyiu1sUt0gh1bljZu3Ki2M2EVAiQABOLBBx9UqyK//vqrlClTRrBKge1YKRO2SmF1o3///opcYMsTzkOkTPgbVj6wRQovEGI71+TJk1PJxLZIYSVDN9kEW11HH8QEioSChEK373slx2DrFZL/+/LudbLxcS7blD6OPs7rMZKoPJfHAwlFIuvp/05CkQ5WXbt2lc8++0xmzZoVPz8RE9u/f7/gnYobbrhBJkyYoI90Csn02Nc999yjDlrff//96mwGzlpMnDhRvYPx8ssvy48//ihVqlRRB6lxjiJlqlq1qnq5+9FHH1UrDGg/DmqnTCAcOJSN7VC1atVSxAUHt1MmEJKPP/5YbYXSTTbBloRCF11/5Vx28rqaUwddpOzkohRs7RDgGQpb3FzIR//gghV4KNtLK3DLkxmagW95qlixoprYwfa8xAAAIABJREFUgzikl0A0cHXs3//+dzPN/l86PULx/vvvq9e4ccYhlnbs2CEtW7ZUZzlwCxOIA0hA48aNU9ULooEborDKAUKBx0F69OiRSqZ58+ZqZQUHs0EocEgb5CRl6tevn+zevVtWrlxppZdpJp0tT6ZleiXfcuCCTIvCdoAopEQ2gI5efXXwCy/q4Bey/ys30ViATFTGg5dIut4vE9k1KjZ13Q46fY466KBkL5NoLITBx50+eUJy5j5726c9GvY5XWhD2tYHTihwyxIetcNB5vQSbnjCOxQ4SG2TTPaH3XzzzWoLEyb7IAF4PRDbsVImbHnCbVR9+vRRqxuNGjWSwYMHp5K56667pFSpUuo2J5y1KF68uEyaNCmVDIgInjt/4YUXtNXiCoU2VM4J8uudGyZx2Q5coeAKhRujxK4VLo8tXY2ogy5SdnL0cXa4hSVX4IQCh66x5QhbjS6++OJUuOF6V0zIL7vsMpk9e7YVpmkJBa5vXbNmjVx//fXx8xooGCsWODcBcoMtTFihwO1SIBWxhGthb731VnWQGkQCW5sKFiwo06ZNi8vgPAaICZ40x8oFtjbhnMiKFStStR+3O2GFJO3KRWZKklBYdQEnMjFQOWEGPvrkoRl4hkIPTJ1JFA9l62HptxT9tL8I64wFtMCV8eCHj/MX4WBLD5xQvPfee+qLP65dxZf93/72t+rqWDw6h5uRDh48qA5n4xyCTUpLKDDhx2FqrIykPCi9bt066d69u6oL27Bw0Hrbtm2KfKS9NhayWHVAfmzJwrWxIBZIsWtjFy1apFY5li9frsqCLldffbWSiV0bizcroLNuIqHQRco9OQYqN2zish0YbLlC4cYosWuFy2NLVyPqoIuUnRx9nB1uYckVOKEAUHjcDl/9cVAaKwWxhBufMBnHBN82pbflCasdOB+B7Uw4YI0VBGxJQj14WwIJD9nh/ARIAc534EVsvBuBFRMcyEbCNbJYacAtTiAj2MIEkoCVBxzIRjp+/LjaRoX/YisV9MNWKBzaxqoMH7a7KOG+cVe+Vtj2QeRjoEoGPe/yumwHBlsSCu96etaX5PLY0kWDOugiZSdHH2eHW1hyOUEoYmBhgv7111/L6dOn1TanokWLJo1jRmcoli5dqlYjsBKCA9RYKcBWp/PPPz9eJ4jO6NGjZdeuXWoFBducIJMnz9nDOCAjeJcCb1rgTYrq1aurtydAGGLpwIED8sQTT6grarHaUblyZXXuwlQ/rlAk3R0CK4CBKjDoU1Xssh0YbEko3Bgldq1weWzpakQddJGyk6OPs8MtLLmcIhRhAS2odpJQBIV88vUyUCWPoRcluGwHBlsSCi/6eFBluDy2dDGhDrpI2cnRx9nhFpZcJBRhsZTYBVuop+Mk+bCdvx1BxwZoQVB20NGeOuigZC/DYGvn41zvlzp25bZO+3HjZU7X+5KOri7roDMWoKMr4wHtZdJHgIRCH6vAJblCEbgJrBvgspPXVYo66CJlJ8dgS0Jh13PcyEX/QDskQoA+LhFC4f6dhCJE9iOhCJGx0jSVwdYN27lsBwZbEgo3RoldK1weW7oaUQddpOzk6OPscAtLLhKKsFiKW55CZKlzm8pA5Yb5XLYDgy0JhRujxK4VLo8tXY2ogy5SdnL0cXa4hSUXCUVYLEVCESJLkVAcPPiTk/ZyecLAYEtC4eSg0WyUy2NLUwWt84Yoi2fddBFNLUcfZ4eb17lwk+rixYtl4cKF8q9//UsKFy4s1apVU7eYpryh1LReEgpTxAKU55anAMFPsmoG2yQB9Ci7y3ZgsCWh8KibB1KMy2NLFxDqoIuUnVxUfNzxkyckb+6zzwfYoZFcrmTaMGPGDHn66aelY8eO6qHnvXv3ysSJE6V06dLy3HPPWTeMhMIauqzPSEKR9Zh7VSMDlVdIJleOy3aISrBNxkI2Ps5lmwILHbu6cqtNMrZz3Q46ulEHHZTsZXTGAkp3ZTygvRmldrMfsAfCg5xz2k+wKgWPK+MR53r16smwYcPiZaxevVr69Okjy5cvl+uuu86qbBIKK9iCyWQTbGMBbcfoTpk2OqglXB0H44pzScbqDFTJoOddXpftoDMWwhJsbS1m4+NctikJxbk9IahYo9MnXe9LYdchSj4urITi6NGjanWiTp06Uq5cuXiX+uSTT6Rhw4ZqpaJWrVo6Xe0cGRIKK9iCyWQTbEkogrFV2loZqGiHRAhEKdgm0jWj3218nOtjS8eu/Ghi22O8zed6X9LR1mUddMZCWD6ahJVQZNSHJk+eLJMmTRKsVJQsWVKnq5FQWKHkSCabYEtC4YbxXHbyughRB12k7OSiFGztEOAZClvcXMhH/+CCFfQeskVLg1gpipKPixKheO+996RNmzZSpUoVmTJlinVH5gqFNXRZn5GEIusx96pGBluvkEyuHJftEKVga2slGx/nsk1jH3RaDlyQKSRcobDtMd7mc70v6Wjrsg5R8nFRIRQ7duyQbt26SZEiRWTBggVSqFAhnW6WrgwJhTV0WZ/RJthyhSLr7ZRejS47eV2EqIMuUnZyUQq2dghwhcIWNxfy0T+4YAWuUHhphSgeyk6JD7Y3DR48WEqUKCHPPvusFC1aNCn4SCiSgi9rM5NQZC3eXtbGYOslmvZluWwHEgoSCvueHXxOl8eWLjrUQRcpO7ko+biwr1DMnj1bRo0aJRUqVFDbnC66KOMbrXStTUKhi5QDciQUDhjBsgkMVJbAeZzNZTtEKdjams3Gx7ls09gKMbc8ne0RQezd1+2Pun3phr7TtN4hOHb8uPx45Jhu9Z7I6eoQhB2i5OPCTCiWLl0qQ4cOlbp16ypSkTdvXk/6HgmFJzBmTSE2wTYW0HhtbNbYKKNaXHbyushQB12k7OSiFGztEOAKhS1uLuTLbv5BZ0KJtwIOHvwpS83jsh2i5ON07O+n4W3foTh8+LB6FfuSSy6R0aNHS+7cuVM186qrrlK/2SQSChvUAspDQhEQ8B5U67KT11VPVwd+vdNFNLVclIKtHQIkFLa4uZBP1z8E8WVcFx8THXQmlCQU0fVxOvbX7Xc2craEAg/XDRo0KMMqQTLwHoVNIqGwQS2gPCQUAQHvQbUmgSqrv2jpqmeig46zZbCNbrDV7VNp5Wx8nEm/DGJs6RBF3vJk22O8zWfSl+jjzLHXGQso1ZXxkNGh7OMnT2hteTNHSD+HC21I21oSCn37BS5pE2zRaB0nGdRXIx0H44pzSaYD6NgA5QdlBx3dTHRgsNVBlISChOJ/CNDHmY8XP3LQx/mB6tkydeK9S+MhI0LhL0rhLZ2EIkS2I6EIkbHSNNUkUAXxFVUHWRMdSCh0ECWhIKEgoTAfKf7loI/zD9vYx81EFxSQUPhrAz9LJ6HwE12Pyyah8BjQLCzOJFCRUPhnGJftwK93PEPhX8/3v2SXx5au9iY68KOJLqpcoTBHKpw5SChCZDcSihAZiysUCY3FMxRcoeAKBVcoEjqKLBQgofAXbH408RffoEsnoQjaAgb1k1AYgOWYqEmg4gqFf8Zz2Q4Mtlyh8K/n+1+yy2NLV3sTHbhCoYsqVyjMkQpnDhKKENmNhCJExuIKRUJjcYWCKxRcoeAKRUJHkYUCJBT+gs2PJv7iG3TpJBRBW8CgfhIKA7AcEzUJVFyh8M94LtuBwZYrFP71fP9Ldnls6WpvogNXKHRR5QqFOVLhzBF5QrFr1y65++675Y033pBLL700bqXNmzfL+PHj5fPPP5fChQtL69atpUOHDqms+MEHH6iXBD/88EPJly+fNGnSRHr27Cl58uSJy3355ZcycuRI2b59u+TKlUtq164tAwYMkPz588dlDh06JCNGjBDUefLkSbnttttkyJAhUqRIEaNeQ0JhBJdTwiaBioTCP9O5bAcSChIK/3q+/yW7PLZ0tTfRgYRCF1USCnOkwpkj0oTiiy++kHbt2sm///1v2bRpU5xQvPvuu9K2bVupU6eO3HXXXbJjxw6ZPn26IgIdO3ZUlty3b58iEDfddJO0adNG9uzZowhIs2bN5JFHHlEyR44ckQYNGihicN999wmeNB8zZoyULVtWlYcEAtG0aVP55ZdfpG/fvurfY8eOlQIFCsiyZcvOefY8s25EQhHOQYZWmwQqEgr/7OyyHUgoSCj86/n+l+zy2NLV3kQHEgpdVEkozJEKZ45IEgpM2hcvXqwm7lhN+OGHH1IRCpAMTPCXLFkStxqIAP69ZcsWyZs3rzz00EPq/7/22mvq30gLFy6U4cOHy4YNG6RYsWIydepUmTlzpqxfv14KFSqkZEBcunTposq68cYb5ZVXXpGBAwfK6tWrpWTJkkoGqyL169eXcePGSd26dbV7DgmFNlTOCZoEKhIK/8znsh1IKEgo/Ov5/pfs8tjS1d5EBxIKXVRJKMyRCmeOSBKKt99+W7p166ZWGzDxHzp0aJxQHDt2TMqVKye9e/eWTp06xa32/vvvq9WH559/XipVqiS333673HHHHTJs2LC4zHfffSe33HKLPPnkk2rVoVWrVmor1IwZM+Iyp06dkvLly6uVkV69eiky8dFHH8mqVatS9ZB69epJ6dKlZdSoUdo9h4RCGyrnBE0CFQmFf+Zz2Q4kFCQU/vV8/0t2eWzpam+iAwmFLqokFOZIhTNHJAkFzizkyJFDnY146aWX1HmF2JYnrA5gMo/VhWrVqsWthu1LFSpUkEcffVQaNWokZcqUUasU2BqVMoGMtGjRQvr376/IBbY8ofyUCX/DagS2SOH8Bs5uTJ48OZVMbItUylWSRF2IhCIRQu7+bhKoSCj8s6PLdiChIKHwr+f7X7LLY0tXexMdSCh0UY0eoTh1/ITkynv2LK05EsnnSKYNZ86cUR/PFy1aJAcOHJASJUpI586d1RGAZFIkCUVKQNISip07d0rz5s1l7ty5UrFixbgotkldf/31iig0bNhQqlSpog5S4xxFylS1alW58847FfHACkPXrl3VQe2UCYQDh7KxHapWrVrqHAYObqdMqOfjjz9WW6F0EwmFLlLuyZkEKhIK/+znsh1IKEgo/Ov5/pfs8tjS1d5EBxIKXVSjRyig0eq27c0B8DBH3bmzrUt75plnZOLEiWruio/nb775psyaNUt9BDfZhp+2AdmOUOBANib88+bNUysSsRQjFNiihPMNIA4gAY0bN06FGYhGjRo11MFsEApsrerRo0cqGRAWHLrGwWwQChzSBjlJmfr16ye7d++WlStXWncKk4w7Rp/d3pVevnIDnzUpzlPZlgMXZFrewtGtPK0vqMIS2QDtCtIOOrjo6qAbbHXq9FpGVwev69UpL9FYQBlRGQ86eOjKuGxT6JDIrlGxqet20OlPujrQx+mgea5MorEQFh8XVkJx4sQJqVy5slqNePjhh+MGwuVD2LKPs8K2KdsRis8++0wRhmnTpqmVhljCwW2sWDz++ONqSxRIAM5eAOSUCVuecMVsnz591FkLbI8aPHhwKhkYqlSpUupQOM5aFC9eXCZNmpRKBkQEdb7wwgvatuMKhTZUzgmafPniCoV/5nPZDlyh4AqFfz3f/5JdHlu62pvooEsostqfm+gQRNt0CUVWty29PgIsM0phJRSnT58WzIMLFiyozhjHEp5NwNZ/3D5qm7IdocChbGxBwkoEDk7HUuxQ9vz589WhaqxQ1KxZU5GKWMK1sLfeeqs6SA0igZUOGAXkJJbA8G6++WZ1IBwrF9ja9Omnn8qKFStS2QjLSrgFKu3KRWaGJKGw7ebB53PZyeuiY6IDg60uqmflSChIKMx7jTs5TPyDC5PFjCaQXq9QZLWuLtshSj4urIQiZb/HWQrMa3E0ALeOPvbYY3LPPfdYO5VsRyiAFA5aY4vTggUL1OFtJFwbi6tm33rrLbngggvUQett27bJmjVrzrk2dt26dWrVAQetse8M18aCWCDFro3FYRescixfvlyVhVuerr76aiUTuzYWdZocgiGhsO7ngWd02cnrgmOiAwmFLqokFCmRsvFxJv0yqyd30E1nEoUtT0G0zbyXZpzDdTvo6GqiA32cDqKpZXTGAnK4Mh6iuEKR0iJr165Vt5Ei4WbTCRMmyPnnn29u2P/PkS0JxdatW6V9+/bqVWuckcBBbRxSwbkGnHRHwkN2+A2k4N577xW8iA0Ghy1MOJCNhGtksdKAW5y6d++utjCBJGDlAQeykY4fP65ugsJ/UT4YIbZC4dD2yy+/zIftilyktb+YwdZ6jHuWkcHWMyjTLShKwdYWKRIKW+SCz2fiH1z15yY6kFCY97ko+bgorFDs379fvv32W3WeF2TiuuuuUxcW2aZsSSgA1uuvv65Oue/du1ftI8ObEthDljJt375dRo8eLbt27VIP12GbE07F47G8WMJ2JrxLAVKCNymqV6+utlOBMMQSruV64okn4o/m4UAMzl0ULVrUyG42wRYV6DhJHAYOwsnrOBhXvlYYGSuNsI4NkCUoO+joZqIDg60OoqlldMYCcrgyHjL7emeu/f9y2Pg4k35JH2drmcT5XLdDYg30YmXMT9PH6SAaXR8XBUKR0jrYTTNo0CB1rhfHAmxS5AmFDSiu5rEJtiQUbliTwfZcO8xpPyHLSazLdiChIKFww1vZtcLlsaWrkYkOJBS6qJ6Vi5KPCyuhwE6ajRs3qnfUUh7KxsdxbMHHSgV279gkEgob1ALKQ0IREPAeVGsSqIL4iqqjookODLY6iEb365259lyhcHXc69rSxD+4qquJDvRxuj2DhMIcqcQ5bN+hwFZ9XC50//33x89PoLbZs2erpxJwbjh23jdxK1JLkFCYIhagPAlFgOAnWbVJoGKwTRLsTLK7bIcofb2ztaCNj3PZpsBBx66ubGOztVtMT90bkujjkkE687wujwedsQDtXBkPUT2UjduclixZogjFDTfcIDt27FDvpuFR5+HDh1t3ThIKa+iyPqNNsNV19EHt3ddxMK44l2Qs7rKT19XLRAd+vdNFNZpf78y15wqFq5NsXVua+AdXdTXRgT5Ot2dE08eFdcsTrIHH7ebMmSMvvviifPPNN+pioWbNmkmnTp0kZ86c5ob9/xwkFNbQZX1GEoqsx9yrGk0CFYOtV6ifW47LdtAh12H5emdrQRsf57JNuUJxbk8I6uOVTp806UskFDqIppaJio87dfyE5Mp79nIecySSz+FCG9JqQUKRvF2zrASbYMsViiwzT6YVmQQqEgr/bOayHaISbJOxno2Pc9mmJBQkFFntz10eD/RxyXhH9/OSULhvo3gLbYItCYUbBnbZyesiZKIDv97ponpWjsGWtzyZ9xp3cpj4h6yeZOuiZKIDfZwuqvRx5kiFMwcJRYjsRkIRImOlaapJoGKw9c/OLtuBhIKEwr+e73/JLo8tXe1NdCCh0EWVhMIcqXDmIKEIkd1IKEJkLBKKhMbiOxSpISKhIKFIOGgcFjCZjPOjiX+GdNkO9HH+2d2FkkkoXLCCZhtIKDSBclDMZSevC5eJDvx6p4sqv96lRMrGx5n0yyAmsjqTKN5kZz5e/Mhh0pfo48wtoDMWUKor4wHtZdJHgIRCH6vAJW2CLRqt4ySDunlDx8G44lyS6QA6NkD5QdlBRzcTHRhsdRDlCkValGx8nEm/JKEw75e6OVy3g44eJjrQx+kgSh9njlJ4c5BQhMh2NsGWhMINA5sEqiAmPToomejAYKuDKIMtCcX/EOBHE/Px4kcO+jg/UD1bps4HRJfGA1cozPoDCYUZXoFKk1AECn9SlZsEKhKKpKDONLPLdmCw5RkK/3q+/yW7PLZ0tTfRgR9NdFEloTBHKpw5SChCZDcSihAZK01TTQIVCYV/dnbZDiQU5xKKiy4+X84/L/EDUjtGd0rYaYLaTqhjV65QJDRflgiY+AcSCnOT6IwFrlCY4+pKDhIKVyyh0Q4SCg2QHBUxCVQkFP4Z0WU7MNieSyh0MMFknITCvzGjW7LLY8sPHUgodFHlCoU5UuHMQUIRIruRUITIWFyhSGgsXhubGiKdyXPUv96l9XE6mJBQJBxqWSJAQnEuzPRx9HFZMvgcqYSEwhFD6DSDhEIHJTdlGGwZbBP1TJ3JMwnFuSiSUCTqWVnzO30cfVyinkYflwihcP9OQhEi+5FQhMhYXKFIaCx+vePXu7SdhCsUCYeNswIkFCQUiTonCUUihML9OwlFiOxHQhEiY5FQJDQWCQUJBQnF/xDgoeyE7iJLBExIEc9QmJuEhMIcszDlIKEIkbVIKEJkLBKKhMYioSChIKEgoUjoKLJQgITCX7BJKPzFN+jSSSiCtoBB/WkJhe6Viqgi0S0ovFLRwBAWoiaBirc8WQCsmcVlOzDY8pYnzW7spJjLY0sXMBMduEKhi+pZOfo4c8zClIOEIkTWstlfDPV0Di2SUPjbEUwCFQmFf7Zw2Q4MtiQU/vV8/0t2eWzpam+iAwmFLqokFOZIhTMHCUWI7EZCESJjpWmqSaAiofDPzi7bgYSChMK/nu9/yV6PrYIX5ZU855+XsOEn/ntMfvjpeEI5HQETHUgodBBNLUMfZ45ZmHKQUITIWiQUITIWCUVCY/EMBYNt2k5i4+N0VmBRD1dhEw7JpARMJuM6H01Q3uq27RO2qe7c2aJTXsKCRMREBxIKHUTp48xRCm+ObEsoTp48KWXLlpVjx46lst6FF14oO3fuVH/bvHmzjB8/Xj7//HMpXLiwtG7dWjp06JBK/oMPPpDRo0fLhx9+KPny5ZMmTZpIz549JU+ePHG5L7/8UkaOHCnbt2+XXLlySe3atWXAgAGSP39+o55jE2xRgU7AZbA1MoWxsEmg8io4GjcyQQYTHRhszdHn1zuuUJj3GndymPgHHR9HQmFnW6/tYNeK9HPRx3mJpntlZVtC8dlnn0n9+vVl1KhRUqJEibhlcubMKX/605/k3XfflbZt20qdOnXkrrvukh07dsj06dMVEejYsaOS37dvnyIQN910k7Rp00b27NmjCEizZs3kkUceUTJHjhyRBg0aSJEiReS+++6Tw4cPy5gxYxSZQXkmiYTCBC23ZF128rpImehAQqGL6lk5BlsSCvNe404OXf9wQ99pkjf32Q9umWnAFQpz++raIYiPiPRx5vYMU45sSyheffVVGThwoCIOF1xwwTk2a9eunfzyyy+yZMmS+G8gAvj3li1bJG/evPLQQw+p///aa6+pfyMtXLhQhg8fLhs2bJBixYrJ1KlTZebMmbJ+/XopVKiQktm0aZN06dJFlXXjjTdq9xcSCm2onBN02cnrgmWiAwmFLqokFCmRsvFxOiuwqCOICRTq1ZlEZbd3KHT9AwmFnR9JdKtjUONBZyyoedToVp5tYzNHMLVPTiZ/dsubbQkFtim98cYbsnbt2nNsjm1Q5cqVk969e0unTp3iv7///vtq9eH555+XSpUqye233y533HGHDBs2LC7z3XffyS233CJPPvmkNG3aVFq1aqW2Qs2YMSMuc+rUKSlfvryAtPTq1Uu7z9kE29jgTORgGGy1zWAlaDIZ19kOYNWIJDOZ6KA7YchqXU10CKJtLQcuSGilKAdbGx9HQpGwy2SJgMnY0vUPJBTmpjOxA31c5vgCSyZ9BLItocC2pf/85z9StGhRtUqRO3dutb0Jqxbffvut1KtXT60uVKtWLY4mti9VqFBBHn30UWnUqJGUKVNGrVJga1TKBDLSokUL6d+/vyIX2PI0ZMiQVDL4W8mSJdUWKd1kE2xJKHTR9VfOZSevq7mJDroThiACWiJyDTyCINj8esctT7pj0UU5P/wDCYW5pU3sEIT/ze4fTcwtGp4c2ZZQVK5cWY4ePSr9+vWT6667Th2qnjRpklx//fXSt29fad68ucydO1cqVqwYtyYOcuN3EIWGDRtKlSpVZMSIEeocRcpUtWpVufPOOxXxKF26tHTt2lUd1E6ZQDhwKBvboXQTCYUuUu7JuezkddEy0YGEQhfVs3IkFCQU5r3GnRx++AcSCnP7mtiBhCJzfLlCYdb/si2h2LZtmxQoUECuueaaOGIrVqxQh64x+Qe5mDdvnlqRiKUYocAqBg50gzjg9qbGjRunQh1Eo0aNGupgNghFt27dpEePHqlkQFhQv+nB7LTm1WX7ib7K4otsUCmRDtjSEIWUyAbQMUg76GCsq4MuodCp02sZXR28rlenvERjAWVEZTzo4AGZRJiYbHnSrdNrOR0dvK4ziPJ0x5auf9AlFF7q6rUOXrZNtyxdHXTL81Iu0VjIjj7OS3yDLCvbEor0QP/xxx/V2YYYoZg2bZpaaYilH374Qa1YPP7442pLFG5qGjp0qLrhKWXClidcMdunTx911gLbowYPHpxKBjdHlSpVSsaOHattf65QaEPlnKDLX410wTLRQXfCEMQXMt1gG0TbdINtVrctvT7ix9c7Gx9nQiiCwE1n5cmVczG6viCj/qA7tnT9gy6h8Mqu9HHJ9IDEeXXGQoxQeGXTxK3KWMIPH5dMe1zPmy0JBa5uxa1LmOxfeeWVcRvhTAVWF7BVCaQBKxE4OB1LsUPZ8+fPV8QDKxQ1a9ZUpCKWUPatt96qrqMFkcDWpoIFCwrISSzhUPbNN9+srp9Nu3KRWYexCbaxwZnI0QexZxxt03Ew2S3YuuBIs2rCkNW6mkwYgmgbCcVROX36TLz76fqHRP4NBdLH+TsdMRlbJBT+2cLEDvRxmduBhMKsn2ZLQoGbmHCGAoepUx6WnjNnjnqkbs2aNfLwww8LtjgtWLBAcuTIoVDFtbGLFy+Wt956S101i7zYOgX5tNfGrlu3TooXLy6TJ0+WWbNmKQIDYoEUuzZ20aJFapVDN5FQ6CLlnpzLTl4XLRMddCcMQQQ0VyefOpPnqH+9s/FxXKHQHcH+yvnhH7hCYW4zEzsE4X+z+0cTc4uGJ0e2JBQwD96KwJsReGwOqwV4uO6ZZ55RKwq4uWlor/dxAAAgAElEQVTr1q3Svn179ao1zkjg9Wz8jkPcnTt3VhbGQ3b4DaTg3nvvFbyIPW7cOHVdLFY5kEBe6tatK5deeql0795dsG0KxATvT5gcyEZZNsGWKxRuDEaXnbwuQiY6kFDoonpWjoTCzseRUJj3NT9y+OEfSCjMLWViBxIKrlCY97CMc2RbQnHixAnBisSyZcvk66+/Vo/Q3XPPPerdCbyWjfT666/LxIkTZe/evep3vCnRoUOHVGhu375drWrs2rVLPVyHbU44g5Enz9mXQD/99FP1LgVICd6kqF69utpOhVueTBIJhQlabsm67OR1kTLRgYRCF1USipRI2fg4EgrzvuZHDj/8AwmFuaVM7EBCQUJh3sNIKLzELLCybIItVygCM1eqil128roImehAQqGLKgkFCYU7LwOb99rU/Vd3O6GufyChMLeIiZ8moSChMO9hJBReYhZYWSQUgUGfdMUuO3ld5Ux00J0wBBHQdCc9QbQtu+8vtvFxXKHQHcH+yvnhH0gozG1mYgf6OBIK8x5GQuElZoGVZRNsuUIRmLm4QpEA+jntJ0gQAY2Ewpsx4ccNKDY+joTCG3smW4rJRFb3gwMJhblVTOwQhP/N7h9NzC0anhzZ9gxFeEx0tqU2wZaEwg1L6zr5G/pOk7y5z56/yaj1x44flx+PHMtS5XR1wPWcuhOGIAIaCYU33YaEQg9HncP22e1qbF3/QEKh18dSSpn46SD8LwmFuU3DkoOEIiyW4i1PIbLUuU01cfK6wTaIYKA7GY+CDkHgm92Drc1HE65QuOEa/fBxJBTmtjWxA30ctzyZ9zBuefISs8DKsgm2XKEIzFzWW56iMBmPgg4MtlkfbG18HAlFdH0cCYW5bUkozDHLKIcfq7Detc69krhC4Z5NMmyRTbAloXDDwCZOPgqT8SjoQEJBQuGF9+CWp9QommyJJKEw74EmsYY+Lut9nLlFw5ODhCI8tuLDdiGyVdqmmjj5KEzGo6CDq8F2/pP3SE6NczYnjx+T748c923U+PH1zuajCVcofDOxUcF++DgSCiMTKGETO+j4uIIX5ZU855+XaUNO/PeY/PBTYl+jQ65jH0F12maOjlkOP3ycWQvCJU1CESJ72QRbrlC4YWATJx+FyXgUdMjqgGYSbHXPsvipgx/B1sbHkVBE18eRUJjb1iTW6PgHlJfIDnXnzta6sc/Ex+m0zRwdsxx++DizFoRLmoQiRPayCbYkFG4Y2MTJR2EyHgUdsjqgmQRbEoqz45qEIro+LtFEFprrTmZ1UMpOflr3RkHglsgOujYw8XFZ7X/T6x8kFDqj5qwMCYUZXoFKk1AECn9SlWenQGWyRzqrg4aJHYJom+4tTyQUJBRJOSQfMpuMLd0PDokmsiQU5xoyCDt4TSiivK3Th6HnTJEkFM6YInFDSCgSY+SqhB9OPogJr+5EVnfC4LIOQbSNhOKonD59Jj6Mdb5ocoXCDa/nh48joTC3bRB28JpQuDKmuUJh1v9IKMzwClSahCJQ+JOq3A8nH8SEl4QiqW6QaWadyTMKiHKwtfFxruCRkXF17MqH7c5Fb077CQm32nCFIporFK6MaRIKs3hHQmGGV6DSNsFWdwKCbSpZPUFF2xhsU3epqGwX4gqFuavQGQu64xlyfo9pP4KtjY9zZfJBQnGReP3BgSsUdn4kq+3AFQpzO0UxBwlFiKxqE2x1JyB+Tz4YbL0PtllNALPbKksQ+HLLE7c8hSgkpWqqH/6BhMK8NwRhBxIKcztFMQcJRYisSkIRImOlaaofTj6ICa/XX75c1iGItpFQkFCE1cv54eNIKMx7QxB2IKEwt1MUc5BQhMiqJBQhMhYJRUJjYY90EJN2HVKke6XiqePHJVfevJnq6sejTzo6+L3qyC1PCbu4EtDZysYzFOdiyTMUev0rrRQJhR1u6eXyw8d51zr3SiKhcM8mGbYouxIKV66QS6areO3kn2v1lOTKmydhk3QnswkLMnyBNQpnKHR1SPQVlV/vdHrX/2RsfBzPUOjj66ek1z6OhMLOWkHYgT7OzlZRy0VCESKL2gRbqKcTcP3+mpkRzLpf71z4IptMVwnCyaO9uo5eRzc/dHB1hcLkcDwJhU7v0ZOx8XE6/g21u+zj+NGEKxR6IySxlB9+mj4uMe6UECGhCFEvsAm2JBRuGDgIJ09Cca7tg7CDLqnTIde64zkrJtB+bAew8XFRIBSu66DjRYMYW/Rx9HF+fpTyw8fpjKWwypBQhMhyNsFWdwLi8tc7Blt+vfNqmAYx6SGh0LeejY9z3T/oEEXXddCxYBBji4SChIKEQmd0Zo0MCUXW4OxJLTbBloTCE+iTLoTBNn1S5GcwSM9oQdiBhEJ/+Nj4ONcn4yQUqe3v5XZCEgoSCj9jCFco9H03JEkozPAKVNom2JJQBGqyeOVBTGQZbBlswxZsbXwcCQV9nFf93A8/7VXbdK3shw48Q6GLfvaWI6EIkf1tgi0JhRsGDsLJk1CQUPg5mfHj652NjyOhoI/zqp/74ae9apuulf3QgYRCF/3sLUdCESL72wRbEgo3DByEkyehIKHwczJDQqHnW7jliVue9HqKN1JBxBpu6/TGdmEvhYQiiyy4cuVKmTZtmuzfv18uv/xy6dq1qzRq1MiodhKKzOEK6mC5jhGDcPIkFCQUJBRn+0BQ/oGEgoRCJ0Z4JRNErCGh8Mp64S6HhCIL7LdmzRrp06ePtG3bVqpUqSLr1q2TF154QSZMmCC1a9fWbgEJBQlFDAE++qQ9bFIJMtja4ZZeLq5Q6GFJQkFCoddTvJGij/MGR5Tih4/zrnXulURCkQU2qVGjhpQuXVrGjx8fr613796ye/duAdnQTSQUJBQkFLqjJX05Btvk8EuZ249ga+PjeIbCO5smU1IQYwvt1f06rqObHzr4uUqYEdHXfQi23ewHEsKi8/FK1wY65BoNcmVM++HjEgIeYgESCp+Nhy1O1atXl6efflrq1KkTrw1EAqQCqxVXXnmlVitsgq3u4OR2AC0TWAv5EagSHZRjsD3XXEHYgcFWf9jY+DhXJh8ZaakziXJdBx0LBjG26OPo4/wkbCQUOiP/rAwJhRlextKbNm2SLl26yCuvvCLXXnttPP/HH38sjRs3lpkzZ0rVqlW1yrUJtiQUWtD6LsRgey7E+PLlZzDg17tnfcXXj2Br4+Ncn4yTUKQeiXyHwt9wE0Ss4UcTf20altJJKHy2FA5j9+vXT9544w254oor4rXt27dPatasqbZB1a1bV6sV33//s5w+fSYuW7hwfuk1YnnCvBOHNJIPnhmUqdwN3UYJgnlWJx0ddNqPdgelgw5m0DORDWI69F/614RFPtVsmGzo2z+h3B3jnvLMrn7okNV9zg8dEtlB1wY6YwEGd2U8oL1eJxsf5woeGWGhY1fXddCxcxBjC+3SHV9B6UAfdxZ5nbEQdR+n0w/DKkNC4bPlXn31Venfv7+sX79e3e4US19++aXUqlXL+GC2z81l8USACBABIkAEiAARIAJEwAgBEgojuMyFN27cqK6IXbFihVxzzTXxAj766CNp0qSJzJo1SypXrmxeMHMQASJABIgAESACRIAIEAEHECCh8NkIsa1NkydPFtz2FEurV69WV8lu2LBBihcv7nMrWDwRIAJEgAgQASJABIgAEfAHARIKf3BNVWq1atWkTJkyMnbs2PjfccPTrl27ZO3atVnQAlZBBIgAESACRIAIEAEiQAT8QYCEwh9cU5X60ksvyZAhQ6RVq1Zy++23q/MUixYtMjqQnQXNZBVEgAgQASJABIgAESACRMAYARIKY8jsMuBlbJyXOHDggHp3AlfJNmrUyK4w5iICRIAIEAEiQASIABEgAo4gQELhiCHYDCJABIgAESACRIAIEAEiEEYESCjCaDW2mQgQASJABIgAESACRIAIOIIACYUjhmAziAARIAJEgAgQASJABIhAGBEgoQij1Txs85kzZyRHjhwelsiisgIB2i0rUGYdUUCAYyWcVqTdwmk3tjr7IkBCkU1t/9NPP8kTTzwhTZs2lfLlyysU2rRpI7ly5ZI5c+Y4j4qfbR08eLDs2LFDXn/99aRwiN3utWnTJrn00kuTKitl5unTpys7derUybMyMyvIKzxidfhpO1NA7rzzTrnlllvUWMhOySUb+IU7fVzGyHo1punj0sfYpfFFH+f+fMYvH5jV5ZJQZDXijtS3fft2dY3t3LlzpWLFiqpVn3/+uVqtKFmypCOtzLgZfjps14PtH//4R7nvvvukZ8+eWWInr/AgocgSc2lV4uf40WpAFgjRx4WXUNDHeTdASChIKLzrTZmXREKRVUg7Vk96wdaxJmbaHD8nRF5NoP36esdg611PZbCNbrCljyOh0PUUXvl8fjTRRdx/OT/nCP63Ppw1kFCE027yyy+/yJQpU9S2nG+++Uby5s0rN910kwwYMECuvfZapRW22kybNk0++eQTueiii6RWrVrSp08f+fDDD6Vt27ZxzStUqCDz5s1LteUJvx87dkwWL16cCqF7771XTp06JfPnz1d/R/2o47PPPpMCBQrIXXfdpepAe5JJifRL6yyOHz8uU6dOlRUrVsjhw4flqquuUl/x69atG2/G8uXL5fnnn5e9e/cqPEqUKCH/+c9/1Nsgl112mbRu3VphEAsueCtk5syZ6verr75aYfvnP/85Xt6ePXvU6+c7d+6U//73v1KuXDnp379/HP/0CMU777wjTz/9tLLB+eefLzVq1JCBAwfKxRdfrMo9ffq0TJgwQV599VXVtqJFi0r9+vXVakSePHnkmmuuSQXr7t271b/x36eeekowicqZM6dqJx5TjG21evvtt5XNH3vsMYXTkSNH5LzzzlM2BkH59ttv5euvv5ZLLrlE8LI7dEGfgF1RHur++9//HrfrpEmTZNWqVQoT6ANML7/8crn//vulYcOG8Taibz755JOydetWpS+2aeFhx5Rb66DzjBkz5MUXX1TtuOKKK6Rjx47SrFmzeDmwS/HixeXnn39W7YB+EydOTNjF0C/GjRsnK1eulKNHj8ptt92mxsmIESMUZikJRQyjBQsWyM0335yq7pTt1elrCRv2/wLoB2PGjFH9ATjceOON0rt3bylTpozqh99//71UrVpVnnvuOdWv0a6RI0eqsf3MM8+ovyHP8OHDFW5IJ0+eVONz6dKlsn//filSpIjcfffd6u0b6IGUdvysW7dOevXqpf6OfoOE/oC2bdmyRU6cOKH6BH77/e9/r6teUnKJfAB9HH0cfZwIfVx4fVxSDtLBzCQUDhpFp0k9evRQE9m+ffuqh/L27dunJqIFCxZUk9GNGzeqCXXNmjXVOYlDhw7JqFGj4vvFMRl85JFH1P+w5QmThJSTjGXLlsmDDz4ob7zxRnyigjIwuXn00UflnnvuUfVgAo0H+urVqydfffWVmrxVrlxZMOFMJiXSD5PjlJM8TIbefPNNNaG94YYbFNFZuHChIjt33HGHmnxiIo180AHnELZt26YmwY8//rjCcvLkyfLwww/LBx98IK+88or89re/VZOsCy+8UOkF/TZs2CCFChVSk9HmzZsr3Dp37qxURZlffPGFmsjh72kJBchE+/bt5dZbb5WWLVuqyeD48eMVmcHL6blz51ZlYPKIySQmiO+9956SgV7A5J///KfK27hxYzXhxsQTk3nYGHVi0ogAA/zxX5AokKfYZBlt/8Mf/qD0feCBB+TgwYOKZIE0YEILLNBPMPkGkQE5QFnABOQnZlf8Fw81ojy0DZN9tBuTz7/97W+KrGFCiDKgFybJqAN2AI6YGMfO6qAPAiv0V0yOUcbs2bPloYceUn0yNgF+9913FUFs0qSJ+hvOPiRKgwYNUu1B/SCFeGBy8+bNChtbQpGoryVqU+x3YFy9enWpVKmSGk9oE/oriCrGL0jCa6+9prAEofzuu+/U2EOfBRnE33744Qd1/gNjGAQDCTpjfHfr1k2RJ+CGftWgQQNF7tISChC0rl27qv4EWyChLoxr9H3Ug/qeffZZ1b9ffvll1Qa/UyIfQB9HH0cf97/xTh8XTh/ntw/N6vJJKLIacQ/qw1dlTOIwAahdu3a8REzC8PUSX4PxJRgTOHz1jSX8f0wClyxZolYt0p6hSEkoMNkBMejevbuapCLhi/Xo0aPVhA+T1Ntvv12uu+66+EQGMvjSiTyYzOOLpk3S0Q+T4Rih+PTTT9XKCCZD0CmWgAEm2ZhYValSJT5h+vHHH9VkFH8DQcBkC7oMHTpUTaTxJR2TprVr16rJHBIwbdeunfqSjq/cmFRiNQD6YtKFhK/nmHRjsoyJc1pCAQLy66+/qrJhG6Rdu3YpcgBcMeHDl3ncbgI7xRK+NgPv2Jf/tFue+vXrpwgD2psvXz6VDUQBk1Xojol6jFDAxigPxKlFixYKg+uvv16tcmE1Av0CdgfZieEJcvPWW28pUhqzKwgFCBjICCbESCgD5A1EFCtZ+NKPSTFWB2LncrDaE8MIhAJkqE6dOmqVpkOHDnGdMfEFfqj3ggsuUMTi/fffV3rAPjoJxAWEGrrG+gVIE3CGrjaEIlFfA1a6CeTwL3/5iyKTZcuWVdnQZqwKgviCSKKvoI/howHS/7V35iGXTnEcP4Sisc5klIhiCkP2LNn/sJZkyRYpS7YQRVnGJEt2SQl/2LLGWAchWWJskZpBtsEUIxKhLKHPqd/1zOO+8z7vnXvvM+89n1PTzPvO8zznnM8599zf9/x+v/MwnszZ6u8QgTCGDf1CxMGTuRQFTxseLDYBZsyY0dk84HMEdz4/s2fP7pz4Rt2MD3MqvFx44Rg75j/jOsjSZA1wjUt5nXeNc41zjUs5mmAyrXGDXD/beraCoi3yfap38eLF2ShbuHBhmjt3bjYq2KnnS5/QI3Yeu5Vu8cX1MAi8H+xIsstNwSAmBAdjmV1UdosxZmLHmGsIh0JIUG8/kobH6h+ekRAUGGTs3GJ80r56ITwEURTGMHzwKvAzhi/9ZpcnCkYhu9j8iULoCAY6CxbGF14GwmXqhhWiBGNv3rx5SwgKwsEwGmlHnQtGL2FniEEEC2FUMOT5CJ16iEldUCAAEEjcXy14QygIwRAUjGHs0iOsGEPCWjBkEQnMIX5H6BNtIJwJgcAuN+FIMa4hKPBcRHgbxjoCk3mH4cvfCCZ2z6qF0DK8FhisMXZcE0Yz1zI/GZs4NIAxYjceg7hpwVPEeDCOhP1EQQjR/l4ExXhzrWnbuA4BypziM8PGAOKOsQyByjxkruJBiILXhpAxBG4U+oJnY8GCBXlOIwy4b/r06Z1r+BzhmQuRCE/GE6YIWBhVhRoeE8YI/tUCTzx7tGFYxTXuv8+Ja5xrXPVz5xo3GmvcsNbSQdejoBg04QE9ny8WdnEx+NmVJm8CQ4Tf82Ufxm41Dr3alCaCIgzxZ555JhsbPBNjDCOIY1UJvRmrYJAgNnotS+sf7SJ2PwQFxhSGLwZVxIhX6yWvgusJgyK3ovozxi3iq9rWbgl6ixYtyrkFeBLwFLCrjyghlKZa2Nkl9IeY+KqHgtOzMOjGKhiSeCUwyjFaCTmjPxh7hChhyIUnoC4oaAtx890KHhZ2mUNQMC54qHh2hE9h2BMyN2vWrGyQNhnXqhFbrZccD3a98aCx882uNs+sFoQGuQHUG2M3FpcQcL0k2OF5IlStPi8QVPS1F0Ex3lyb6Hzn88szCd9B4PE5Y34x3hj/9eOLERSIiapBXx2LaN/8+fOzIIjC/GCehNiDJ8KAXBSeh9CtzmVELnOiWyGfhvk96OIa5xoXmy+ucd0/ba5xk3uNG/QaOuznKyiGTbwP9bGbTFgD4QcYAbGzS4gJSbcY3BjJhMJEuBLVEs5D7Dxx9xhTSwt54nqMEIxgjG52oXEp8iXPvyP0g6S4bqFNxNZHkuhEu9ykf1VBQQgPgqC+E00bCTFiF7bqoSBkhB10DHdCSzB88cbghSAkh9AwOFXfQ1EXFHgEEBh1DwW7+ewO05aqoJgyZUoOhaIuQnzqBVFIjH+1EHYUybf0gVAzjLm6oCB+nnGqJtrHcxgrjPwQFPSbWHvGEQOW3Bc8FPQdzxMeADww5OLMnDkzzy9EJJ4GDgGIcW0iKJh/GJ4ImmrBc4JQQlDE2PF3t1Am5hB19iIo8Kzhearv6tIP+loXFBjY1INHB49RFDxwJM1X2zvWXCMHpJeCl4KQLnJ3mJe0m/k7UUERa0DdQ8G8xtvF+kCYFf1k/JmjiGTu49+EQ1HoM2F2eAK7FfKUBlmarAGucSnPEdc41zjXuJS/uyfTGjfI9bOtZyso2iK/DPUSlsJOI3HT7F5HifhqDGbi5ok9Zzc2ShhY/D9hBIS/VN9D0c1oI+GTnWwMQAxMQosoGEDsbiJs2DWNguHNzxjOfOH3Upr0D4MrPBQYuySQIirYgY9CyAyFZPVqDgUJpxjgtI/wpMiLQAxgVGL41w25uqAghyKuiRAVkpARGRij1FnPocBIIx6d5PAoiDx29OFILgXeAQQDO9RRyFPAG0VSN4Yt41ANKWMXjxN5EEKRm8H4IAa22mqr7EkJQcGOPWKMmFsMS7jwPHIu2NVmNx9PCMZmNYeC+/HuxLg2ERS446mHPABCoSiwhxGGNwY6ORvsyGPk4/mKQjIy9xO+Q8J3L4ICo5RQosgXiWczDvS1Lijoe+SzRL4Kp2ExV0hupr3jzTXGqmlBsNI2RFw1JIsXTTKfeTHbRAXFeDkUJGvXD2BgDhLmFocDMIcIn+NzSChazG/6RXsRvxPJFWnKo3pdkzXANS7lsEDXONc417j/cigmyxrXy7q4vN+joFjeR6hL+whFwAAgTIZEYRIYMV4xUDD8+TImp4Lk6Diph3hpYvMxojnFJ3IgMBAxngiZ6ma0scPMkZMUQlcieZSfSR7F4OM+jC6ML3Z+MYQQL1UjaSKYm/QPYVM95Qmjml1jjHN25BEKtJfwI/IdCIliZ55dfBjwb8QDxipeBjwSGLWIEsLBxhMUGKOIF+rCYIc7p+DwewxhdnrrggJvA6IP3owfJ5Tg9WGXEZbcQzv5Hf3BiEX4IQIIXYpTkegP44VBhfiJtuA1idh3dvyJvedZXF89EpVwKgxFWJFIHUYwYVn0H2MSIxMPFsY/YTTwwWsR49pEUNA/Tp9iPiCAMUR5Fi9QDAOdeYEngx02+oPw4P/pM2EOeAsovQgK7sODFn0lMRxxQwgf44WYqR4biwijv4QKhcFMSAHeG3gH//HmWtO5jgeKecBpYnjQ4EPbmD8IfcZpooKCuhGMPCdOeWLsmO/UhTeiG89gFCKSecc8Zd6xxiBkGXs8KIhbxnWQpcka4BrnGuca5xrHd8lkXOMGuX629WwFRVvkl7FeDABCUdiFJeGXMCaMZQwvjHx2n4mz5hp2LadOnZpPt0FkcAQkBhWeBLwcGDTsko5ltIXxi5FeL+wGYEhjBBLWw+4q4UNxOlKv3Ryvf7S7/m6AeH8DwgbjES8CLtAoGNn8wdsAD8JpEFq87wEGnIrDDnWTHAqeidjC8GUxY1cX4x7DOd4D0u09FIQtMSbshjMOhI7gSYgQEoxajG4MN9pG2AlGLkY3Bj2FkBjq5d0AcMLrQXI0YoTkaYQBbWCsEZ2UqqDAI0GYEwwRo1yLcUZew7Rp03J9XEM9jCsF1hiUMa5NBAX34ZHAAEVM0S4ED/wJ4QoDnX5g8PJ8DFnaQAw/48ecWhZBQQ5Hta/0DeMYvrCqv9iOsCPaiweDdrADTJ4Dn7NoL0JpvLnWdN4zh8i74W9CV/A4Iqzw1nSbh+PlUFAvoYrwZP4xtxHNCABOBBrrPRTchzBGwLAhwZxiTjDPyLFgjAjJ4zNCmNwwynhrgGuca5xrXMp5aq5xk3ONG8Y6Osw6FBTDpG1dEmiZAIY83gC8NPEyPZqEtwKjmR38USkl9XVUxsx+SGBZCZT0uS+pr8s6L7x/8AQUFINnbA0SWG4IsJtFeBo5DCTb4yXBa4KXiXyZ6hHAy02je2xISX3tEZG3SWDkCJT0uS+pryM3UUewQwqKERxUuySBpRGI8CjCbPhCIjyMOHlC4katlNTXURs7+yOBXgmU9Lkvqa+9zgfvGw4BBcVwOFuLBCQgAQlIQAISkIAERpKAgmIkh9VOSUACEpCABCQgAQlIYDgEFBTD4WwtEpCABCQgAQlIQAISGEkCCoqRHFY7JQEJSEACEpCABCQggeEQUFAMh7O1SGCoBHinCG/P5l0kEylN72t63UTq9loJSEACTQn0ugY1va/pdU3b63USGHUCCopRH2H7VyQBjoLlRWm8IG0ipemXaNPrJlK310pAAhJoSsA1rikpr5PAcAgoKIbD2VokMCkINBUKTa+bFJ22kRKQQDEEmq5dTa8rBpwdlcA4BBQUThEJSKBDoOmXaNPrRCsBCUhgeSLQdO1qet3y1DfbIoE2CSgo2qRv3UUSmDVrVnr44YfTa6+9ltZZZ50OA0KUdt5557T//vunK664Ij3wwAPpkUceSZ999ln666+/0vrrr5/fZH3SSSelFVZYId+39957p1122SX9/fff6cknn0xrr712euyxx9JZZ531vxyKZ599Nt17773pww8/TL///ntad91103777ZfOPvvstMoqq+TnxZfoRRddlK677rr01VdfpY022ijXWX3xXbcv208//TTdcMMN6c0330x//vln2myzzdLpp5+edttttyLH2U5LoFQCrnGljrz9LpmAgqLk0bfvrRB455130jHHHJMuvfTSdNRRR3XaMHfu3HTOOeekO++8M82bNy/deuut6ZBDDknbbrtt+vXXX7NQ+Oijj9JVV12Vfx+C4scff0wbb7xxOuKII9L333+fzjjjjI4wiKRsBAwiAQGy++67Z4P/+eefT2+99VY688wz8z0hKN5///30zz//5Ofx3Mcffwu0NBEAAAbLSURBVDzxNtYrr7wyC5qq8Ijnf/zxx+noo49O06ZNS4cddlhaeeWV01NPPZXmz5+fhckBBxzQCmsrlYAEhk/ANW74zK1RAm0TUFC0PQLWXxwBjPV99tknbbDBBumuu+7q9B+jHmMeIx1PxR577JGuv/76zv//8ssv+fe77rprFhshKL755pv03HPPpQ033LBzbd2DgNdjzTXXTPfff3/Hu4HXg3asscYa2bsRQgGRcckll2TRQ/njjz/SwQcfnH7++ef08ssvp5VWWul/goX6vv322yw+VltttXwfzz/++OPTwoUL00svvdTxghQ34HZYAoURcI0rbMDtrgRSSgoKp4EEWiCAULjjjjvSq6++mqZOnZoQC4Qusct/wQUX5JAkvAhTpkzptO7rr7/OXoNNN9003X333R1BgTcAQVEtdUHBswipQjxEWbx4cTrxxBPTb7/9ll588cWOoMAL8sYbb2ThEAWvCR6KBx98MG299dZLCAo8JDvttFP+3WmnnbZEO5544ol833333Ze22267FkhbpQQk0AYB17g2qFunBNojoKBoj701F0zgk08+SQcddFAn7IlwpvPPPz89+uijaYsttsg5EYQkYeh/8cUX6csvv0w//fRTJrbjjjume+65pyMo1ltvvWywL01Q8H+vv/56DkP6/PPPc27EDz/8kG8hNyNClxAFhFfRjmqhHYgFjIQDDzxwCUHxwQcfpMMPP3ypo0nYE/21SEACZRBwjStjnO2lBIKAgsK5IIGWCJDkvNZaa2VvwymnnJJFA4nThAucd9552fhnV3/mzJlpxowZaYcddsghRIRKVQUFgiB+jq7UPRQY9LfddlvafPPNs4eB522zzTbpsssuS4RMVQUFHguSwavlhRdeyAnWN954Y04arz7/vffeS0ceeWQOkRrrvRebbLJJTgK3SEAC5RBwjStnrO2pBBQUzgEJtETg9ttvz6ciEa6EkX7qqadmo/3tt99Oxx57bPYIcFpTFHIStt9++7TllltOSFDwxmySscmDuPrqq5fo7b777ptDq6qCglOleGlUnCTFDYRnXXPNNR0PSlVQfPfdd/kkp+OOOy5deOGFSzyfk58WLVqUhdHqq6/eEmmrlYAE2iDgGtcGdeuUQDsEFBTtcLdWCWTPwF577ZX23HPPnLRMiBOJ1fxNgnaEFwUqwppmz56dT30iuZqCUBjPQ7FgwYJ8KtS5556bTj755A55Eqz5efr06emVV17Jv0cokJR9yy23dLwN5F4QroTnBE/Fiiuu+L+k7EMPPTR7WJ5++un8PApCBa8FORnUxZG2FglIoBwCrnHljLU9lYCCwjkggRYJhAFPGBIJzxSOfsVzsOqqq+YQJxKpebcDx8ryvgjeC0Gyc1NBwSlNPI8cjBNOOCGRc0Hew5w5c7I4IKn73Xff7QgKjoCNE5oIySL8CU8DIgMBFMIDz0d4Ngh7irZyFC73IS54bl3ItIjbqiUggSETcI0bMnCrk0BLBBQULYG3WglA4KGHHkoXX3xxfkcEX7xRMMSvvfbavLuPiOB9EIQUIQTIucCjwDsfmngoeCYJkry/gvvxNOAJ4X0RCIfLL788iwZyNWgDvyPk6qabbspeFPItePld9QV13V5sxzsnbr755sQZ9Dwj2hzvzHDEJSCB8gi4xpU35va4TAIKijLH3V5LQAISkIAEJCABCUigLwQUFH3B6EMkIAEJSEACEpCABCRQJgEFRZnjbq8lIAEJSEACEpCABCTQFwIKir5g9CESkIAEJCABCUhAAhIok4CCosxxt9cSkIAEJCABCUhAAhLoCwEFRV8w+hAJSEACEpCABCQgAQmUSUBBUea422sJSEACEpCABCQgAQn0hYCCoi8YfYgEJCABCUhAAhKQgATKJKCgKHPc7bUEJCABCUhAAhKQgAT6QkBB0ReMPkQCEpCABCQgAQlIQAJlElBQlDnu9loCEpCABCQgAQlIQAJ9IaCg6AtGHyIBCUhAAhKQgAQkIIEyCSgoyhx3ey0BCUhAAhKQgAQkIIG+EFBQ9AWjD5GABCQgAQlIQAISkECZBBQUZY67vZaABCQgAQlIQAISkEBfCCgo+oLRh0hAAhKQgAQkIAEJSKBMAgqKMsfdXktAAhKQgAQkIAEJSKAvBBQUfcHoQyQgAQlIQAISkIAEJFAmAQVFmeNuryUgAQlIQAISkIAEJNAXAgqKvmD0IRKQgAQkIAEJSEACEiiTgIKizHG31xKQgAQkIAEJSEACEugLAQVFXzD6EAlIQAISkIAEJCABCZRJQEFR5rjbawlIQAISkIAEJCABCfSFwL9zDlLQuNYHawAAAABJRU5ErkJggg==\" width=\"788\">"
      ],
      "text/plain": [
       "<IPython.core.display.HTML object>"
      ]
     },
     "metadata": {},
     "output_type": "display_data"
    },
    {
     "data": {
      "text/plain": [
       "<seaborn.axisgrid.FacetGrid at 0x280b552ae10>"
      ]
     },
     "execution_count": 148,
     "metadata": {},
     "output_type": "execute_result"
    }
   ],
   "source": [
    "# df_uniques = pd.melt(frame=df, value_vars=['gender','cholesterol', \n",
    "#                                            'gluc', 'smoke', 'alco', \n",
    "#                                            'active'], \n",
    "#                      id_vars=['cardio'])\n",
    "# df_uniques = pd.DataFrame(df_uniques.groupby(['variable', 'value', \n",
    "#                                               'cardio'])['value'].count()) \\\n",
    "#     .sort_index(level=[0, 1]) \\\n",
    "#     .rename(columns={'value': 'count'}) \\\n",
    "#     .reset_index()\n",
    "\n",
    "\n",
    "value_vars = ['gender','cholesterol', 'gluc', 'smoke', 'alco', 'active']\n",
    "df_uniques = df.groupby('cardio').apply(lambda df: df[value_vars].apply(pd.Series.value_counts)).reset_index()\n",
    "df_uniques = df_uniques.melt(id_vars=['cardio', 'level_1'], var_name='variable', value_name='count').dropna() \\\n",
    "                        .sort_values(by=['variable', 'cardio', 'level_1']) \\\n",
    "                        .reset_index(drop=True)\n",
    "\n",
    "\n",
    "sns.factorplot(x='variable', y='count', hue='level_1', \n",
    "               col='cardio', data=df_uniques, kind='bar')"
   ]
  },
  {
   "cell_type": "markdown",
   "metadata": {},
   "source": [
    "You can see that the distribution of cholesterol and glucose levels great differs by the value of the target variable. Is this a coincidence?\n",
    "\n",
    "Now, let's calculate some statistics for the feature unique values:"
   ]
  },
  {
   "cell_type": "code",
   "execution_count": 81,
   "metadata": {},
   "outputs": [
    {
     "name": "stdout",
     "output_type": "stream",
     "text": [
      "age\n",
      "8076\n",
      "----------\n",
      "gender\n",
      "2 [(1, 45530), (2, 24470)]\n",
      "----------\n",
      "height\n",
      "109\n",
      "----------\n",
      "weight\n",
      "287\n",
      "----------\n",
      "ap_hi\n",
      "153\n",
      "----------\n",
      "ap_lo\n",
      "157\n",
      "----------\n",
      "cholesterol\n",
      "3 [(1, 52385), (2, 9549), (3, 8066)]\n",
      "----------\n",
      "gluc\n",
      "3 [(1, 59479), (2, 5190), (3, 5331)]\n",
      "----------\n",
      "smoke\n",
      "2 [(0, 63831), (1, 6169)]\n",
      "----------\n",
      "alco\n",
      "2 [(0, 66236), (1, 3764)]\n",
      "----------\n",
      "active\n",
      "2 [(0, 13739), (1, 56261)]\n",
      "----------\n",
      "cardio\n",
      "2 [(0, 35021), (1, 34979)]\n",
      "----------\n"
     ]
    }
   ],
   "source": [
    "for c in df.columns:\n",
    "    n = df[c].nunique()\n",
    "    print(c)\n",
    "    if n <= 3:\n",
    "        print(n, sorted(df[c].value_counts().to_dict().items()))\n",
    "    else:\n",
    "        print(n)\n",
    "    print(10 * '-')"
   ]
  },
  {
   "cell_type": "markdown",
   "metadata": {},
   "source": [
    "In the end, we have:\n",
    "- 5 numerical features (excluding *id*);\n",
    "- 7 categorical features;\n",
    "- 70000 records in total."
   ]
  },
  {
   "cell_type": "markdown",
   "metadata": {},
   "source": [
    "## 1.1. Basic observations"
   ]
  },
  {
   "cell_type": "markdown",
   "metadata": {},
   "source": [
    "**Question 1.1. (1 point). How many men and women are present in this dataset? Values of the `gender` feature were not given (whether \"1\" stands for women or for men) – figure this out by looking analyzing height, making the assumption that men are taller on average.**\n",
    "1. 45530 women and 24470 men\n",
    "2. 45530 men and 24470 women\n",
    "3. 45470 women and 24530 men\n",
    "4. 45470 men and 24530 women"
   ]
  },
  {
   "cell_type": "code",
   "execution_count": 149,
   "metadata": {},
   "outputs": [
    {
     "data": {
      "text/html": [
       "<div>\n",
       "<style scoped>\n",
       "    .dataframe tbody tr th:only-of-type {\n",
       "        vertical-align: middle;\n",
       "    }\n",
       "\n",
       "    .dataframe tbody tr th {\n",
       "        vertical-align: top;\n",
       "    }\n",
       "\n",
       "    .dataframe thead th {\n",
       "        text-align: right;\n",
       "    }\n",
       "</style>\n",
       "<table border=\"1\" class=\"dataframe\">\n",
       "  <thead>\n",
       "    <tr style=\"text-align: right;\">\n",
       "      <th></th>\n",
       "      <th>height</th>\n",
       "    </tr>\n",
       "    <tr>\n",
       "      <th>gender</th>\n",
       "      <th></th>\n",
       "    </tr>\n",
       "  </thead>\n",
       "  <tbody>\n",
       "    <tr>\n",
       "      <th>1</th>\n",
       "      <td>161.355612</td>\n",
       "    </tr>\n",
       "    <tr>\n",
       "      <th>2</th>\n",
       "      <td>169.947895</td>\n",
       "    </tr>\n",
       "  </tbody>\n",
       "</table>\n",
       "</div>"
      ],
      "text/plain": [
       "            height\n",
       "gender            \n",
       "1       161.355612\n",
       "2       169.947895"
      ]
     },
     "execution_count": 149,
     "metadata": {},
     "output_type": "execute_result"
    }
   ],
   "source": [
    "df.groupby(by='gender').agg({'height' : np.mean})"
   ]
  },
  {
   "cell_type": "code",
   "execution_count": 154,
   "metadata": {},
   "outputs": [
    {
     "data": {
      "text/plain": [
       "F    45530\n",
       "M    24470\n",
       "Name: gender, dtype: int64"
      ]
     },
     "execution_count": 154,
     "metadata": {},
     "output_type": "execute_result"
    }
   ],
   "source": [
    "df['gender'].value_counts(dropna=True).rename(index={1: 'F', 2: 'M'})"
   ]
  },
  {
   "cell_type": "markdown",
   "metadata": {},
   "source": [
    "**Question 1.2. (1 point). Which gender more often reports consuming alcohol - men or women?**\n",
    "1. women\n",
    "2. men"
   ]
  },
  {
   "cell_type": "code",
   "execution_count": 153,
   "metadata": {},
   "outputs": [
    {
     "data": {
      "text/html": [
       "<div>\n",
       "<style scoped>\n",
       "    .dataframe tbody tr th:only-of-type {\n",
       "        vertical-align: middle;\n",
       "    }\n",
       "\n",
       "    .dataframe tbody tr th {\n",
       "        vertical-align: top;\n",
       "    }\n",
       "\n",
       "    .dataframe thead th {\n",
       "        text-align: right;\n",
       "    }\n",
       "</style>\n",
       "<table border=\"1\" class=\"dataframe\">\n",
       "  <thead>\n",
       "    <tr style=\"text-align: right;\">\n",
       "      <th></th>\n",
       "      <th>alco</th>\n",
       "    </tr>\n",
       "    <tr>\n",
       "      <th>gender</th>\n",
       "      <th></th>\n",
       "    </tr>\n",
       "  </thead>\n",
       "  <tbody>\n",
       "    <tr>\n",
       "      <th>F</th>\n",
       "      <td>0.025500</td>\n",
       "    </tr>\n",
       "    <tr>\n",
       "      <th>M</th>\n",
       "      <td>0.106375</td>\n",
       "    </tr>\n",
       "  </tbody>\n",
       "</table>\n",
       "</div>"
      ],
      "text/plain": [
       "            alco\n",
       "gender          \n",
       "F       0.025500\n",
       "M       0.106375"
      ]
     },
     "execution_count": 153,
     "metadata": {},
     "output_type": "execute_result"
    }
   ],
   "source": [
    "df.groupby(by='gender').agg({'alco' : np.mean}).rename(index={1: 'F', 2: 'M'})"
   ]
  },
  {
   "cell_type": "markdown",
   "metadata": {},
   "source": [
    "**Question 1.3. (1 point). What is the difference between the percentages of smokers among men and women (rounded)?**\n",
    "1. 4\n",
    "2. 16\n",
    "3. 20\n",
    "4. 24"
   ]
  },
  {
   "cell_type": "code",
   "execution_count": 156,
   "metadata": {},
   "outputs": [
    {
     "data": {
      "text/html": [
       "<div>\n",
       "<style scoped>\n",
       "    .dataframe tbody tr th:only-of-type {\n",
       "        vertical-align: middle;\n",
       "    }\n",
       "\n",
       "    .dataframe tbody tr th {\n",
       "        vertical-align: top;\n",
       "    }\n",
       "\n",
       "    .dataframe thead th {\n",
       "        text-align: right;\n",
       "    }\n",
       "</style>\n",
       "<table border=\"1\" class=\"dataframe\">\n",
       "  <thead>\n",
       "    <tr style=\"text-align: right;\">\n",
       "      <th></th>\n",
       "      <th>smoke</th>\n",
       "    </tr>\n",
       "    <tr>\n",
       "      <th>gender</th>\n",
       "      <th></th>\n",
       "    </tr>\n",
       "  </thead>\n",
       "  <tbody>\n",
       "    <tr>\n",
       "      <th>F</th>\n",
       "      <td>1.785636</td>\n",
       "    </tr>\n",
       "    <tr>\n",
       "      <th>M</th>\n",
       "      <td>21.888026</td>\n",
       "    </tr>\n",
       "  </tbody>\n",
       "</table>\n",
       "</div>"
      ],
      "text/plain": [
       "            smoke\n",
       "gender           \n",
       "F        1.785636\n",
       "M       21.888026"
      ]
     },
     "execution_count": 156,
     "metadata": {},
     "output_type": "execute_result"
    }
   ],
   "source": [
    "df.groupby(by='gender').agg({'smoke' : np.mean}).rename(index={1: 'F', 2: 'M'}) * 100"
   ]
  },
  {
   "cell_type": "markdown",
   "metadata": {},
   "source": [
    "**Question 1.4. (1 point). What is the difference between median values of age for smokers and non-smokers (in months, rounded)? You'll need to figure out the units of feature `age` in this dataset.**\n",
    "\n",
    "1. 5\n",
    "2. 10\n",
    "3. 15\n",
    "4. 20"
   ]
  },
  {
   "cell_type": "code",
   "execution_count": 159,
   "metadata": {},
   "outputs": [
    {
     "data": {
      "text/html": [
       "<div>\n",
       "<style scoped>\n",
       "    .dataframe tbody tr th:only-of-type {\n",
       "        vertical-align: middle;\n",
       "    }\n",
       "\n",
       "    .dataframe tbody tr th {\n",
       "        vertical-align: top;\n",
       "    }\n",
       "\n",
       "    .dataframe thead th {\n",
       "        text-align: right;\n",
       "    }\n",
       "</style>\n",
       "<table border=\"1\" class=\"dataframe\">\n",
       "  <thead>\n",
       "    <tr style=\"text-align: right;\">\n",
       "      <th></th>\n",
       "      <th>age</th>\n",
       "    </tr>\n",
       "    <tr>\n",
       "      <th>smoke</th>\n",
       "      <th></th>\n",
       "    </tr>\n",
       "  </thead>\n",
       "  <tbody>\n",
       "    <tr>\n",
       "      <th>0</th>\n",
       "      <td>54.032877</td>\n",
       "    </tr>\n",
       "    <tr>\n",
       "      <th>1</th>\n",
       "      <td>52.397260</td>\n",
       "    </tr>\n",
       "  </tbody>\n",
       "</table>\n",
       "</div>"
      ],
      "text/plain": [
       "             age\n",
       "smoke           \n",
       "0      54.032877\n",
       "1      52.397260"
      ]
     },
     "execution_count": 159,
     "metadata": {},
     "output_type": "execute_result"
    }
   ],
   "source": [
    "df.groupby(by='smoke').agg({'age' : np.median}) / 365"
   ]
  },
  {
   "cell_type": "markdown",
   "metadata": {},
   "source": [
    "## 1.2. Risk maps\n",
    "### Task:"
   ]
  },
  {
   "cell_type": "markdown",
   "metadata": {},
   "source": [
    "On the website for the European Society of Cardiology, a [SCORE scale](https://www.escardio.org/Education/Practice-Tools/CVD-prevention-toolbox/SCORE-Risk-Charts) is provided. It is used for calculating the risk of death from a cardiovascular decease in the next 10 years. Here it is:\n",
    "<img src='../../img/SCORE_CVD_eng.png' width=70%>\n",
    "\n",
    "Let's take a look at the upper-right rectangle, which shows a subset of smoking men aged from 60 to 65. (It's not obvious, but the values in the figure represent the upper bound).\n",
    "\n",
    "We see the value 9 in the lower-left corner of the rectangle and 47 in the upper-right. This means that, for people in this gender-age group whose systolic pressure is less than 120, the risk of a CVD is estimated to be 5 times lower than for those with the pressure in the interval [160,180).\n",
    "\n",
    "Let's calculate that same ratio using our data.\n",
    "\n",
    "Clarifications:\n",
    "- Calculate ``age_years`` feature – round age to the nearest number of years. For this task, select only the people of age 60 to 64, inclusive.\n",
    "- Cholesterol level categories differ between the figure and our dataset. The conversion for the ``cholesterol`` feature is as follows: 4 mmol/l $\\rightarrow$ 1, 5-7 mmol/l $\\rightarrow$ 2, 8 mmol/l $\\rightarrow$ 3."
   ]
  },
  {
   "cell_type": "code",
   "execution_count": 7,
   "metadata": {},
   "outputs": [],
   "source": [
    "# You code here"
   ]
  },
  {
   "cell_type": "markdown",
   "metadata": {},
   "source": [
    "**Question 1.5. (2 points). Calculate the fraction of the people with CVD for the two segments described above. What is the ratio of these two fractions?**\n",
    "\n",
    "1. 1\n",
    "2. 2\n",
    "3. 3\n",
    "4. 4"
   ]
  },
  {
   "cell_type": "markdown",
   "metadata": {},
   "source": [
    "## 1.3. Analyzing BMI\n",
    "### Task:"
   ]
  },
  {
   "cell_type": "markdown",
   "metadata": {},
   "source": [
    "Create a new feature – BMI ([Body Mass Index](https://en.wikipedia.org/wiki/Body_mass_index)). To do this, divide weight in kilogramms by the square of the height in meters. Normal BMI values are said to be from 18.5 to 25. "
   ]
  },
  {
   "cell_type": "code",
   "execution_count": 8,
   "metadata": {},
   "outputs": [],
   "source": [
    "# You code here"
   ]
  },
  {
   "cell_type": "markdown",
   "metadata": {},
   "source": [
    "**Question 1.6. (2 points). Choose the correct statements:**\n",
    "\n",
    "1. Median BMI in the sample is within the range of normal BMI values.\n",
    "2. The BMI for women is on average higher than for men.\n",
    "3. Healthy people have, on average, a higher BMI than the people with CVD.\n",
    "4. For healthy, non-drinking men, BMI is closer to the norm than for healthy, non-drinking women"
   ]
  },
  {
   "cell_type": "markdown",
   "metadata": {},
   "source": [
    "## 1.4. Cleaning data"
   ]
  },
  {
   "cell_type": "markdown",
   "metadata": {},
   "source": [
    "### Task:\n",
    "We can see that the data is not perfect. It contains \"dirt\" and inaccuracies. We'll see this better as we visualize the data.\n",
    "\n",
    "Filter out the following patient segments (we consider these as erroneous data)\n",
    "\n",
    "- diastolic pressure is higher than systolic \n",
    "- height is strictly less than 2.5 percentile (Use `pd.Series.quantile` to compute this value. If you are not familiar with the function, please read the docs.)\n",
    "- height is strictly more than 97.5 percentile\n",
    "- weight is strictly less than 2.5 percentile\n",
    "- weight is strictly more than 97.5 percentile\n",
    "\n",
    "This is not everything that we can do to clean this data, but this is sufficient for now."
   ]
  },
  {
   "cell_type": "code",
   "execution_count": 9,
   "metadata": {},
   "outputs": [],
   "source": [
    "# You code here"
   ]
  },
  {
   "cell_type": "markdown",
   "metadata": {},
   "source": [
    "**Question 1.7. (2 points). What percent of the original data (rounded) did we throw away?**\n",
    "\n",
    "1. 8\n",
    "2. 9\n",
    "3. 10\n",
    "4. 11"
   ]
  },
  {
   "cell_type": "markdown",
   "metadata": {},
   "source": [
    "# Part 2. Visual data analysis\n",
    "\n",
    "## 2.1. Correlation matrix visualization\n",
    "\n",
    "To understand the features better, you can create a matrix of the correlation coefficients between the features. Use the initial dataset (non-filtered).\n",
    "\n",
    "### Task:\n",
    "\n",
    "Plot a correlation matrix using [`heatmap()`](http://seaborn.pydata.org/generated/seaborn.heatmap.html). You can create the matrix using the standard `pandas` tools with the default parameters."
   ]
  },
  {
   "cell_type": "code",
   "execution_count": 10,
   "metadata": {},
   "outputs": [],
   "source": [
    "# You code here"
   ]
  },
  {
   "cell_type": "markdown",
   "metadata": {},
   "source": [
    "** Question 2.1. (1 point).** Which pair of features has the strongest Pearson's correlation with the *gender* feature?\n",
    "\n",
    "1. Cardio, Cholesterol\n",
    "2. Height, Smoke\n",
    "3. Smoke, Alco\n",
    "4. Height, Weight"
   ]
  },
  {
   "cell_type": "markdown",
   "metadata": {},
   "source": [
    "## 2.2. Height distribution of men and women\n",
    "\n",
    "From our exploration of the unique values earlier, we know that the gender is encoded by the values *1* and *2*. Although you do not know the mapping of these values to gender, you can figure that out graphically by looking at the mean values of height and weight for each value of the *gender* feature.\n",
    "\n",
    "### Task:\n",
    "\n",
    "Create a violin plot for the height and gender using [`violinplot()`](https://seaborn.pydata.org/generated/seaborn.violinplot.html). Use the parameters:\n",
    "- `hue` to split by gender;\n",
    "- `scale` to evaluate the number of records for each gender.\n",
    "\n",
    "In order for the plot to render correctly, you need to convert your `DataFrame` to *long* format using the `melt()` function from `pandas`. Here is [an example](https://stackoverflow.com/a/41575149/3338479) of this for your reference."
   ]
  },
  {
   "cell_type": "code",
   "execution_count": 11,
   "metadata": {},
   "outputs": [],
   "source": [
    "# You code here"
   ]
  },
  {
   "cell_type": "markdown",
   "metadata": {},
   "source": [
    "**Question 2.2. (1 point).** Which pair of features has the strongest Spearman correlation?\n",
    "\n",
    "1. Height, Weight\n",
    "2. Age, Weight\n",
    "3. Cholesterol, Gluc\n",
    "4. Cardio, Cholesterol\n",
    "5. Ap_hi, Ap_lo\n",
    "6. Smoke, Alco"
   ]
  },
  {
   "cell_type": "markdown",
   "metadata": {},
   "source": [
    "**Question 2.3. (1 point).** Why do these features have strong rank correlation?\n",
    "\n",
    "1. Inaccuracies in the data (data acquisition errors).\n",
    "2. Relation is wrong, these features should not be related.\n",
    "3. Nature of the data."
   ]
  },
  {
   "cell_type": "markdown",
   "metadata": {},
   "source": [
    "## 2.4. Age\n",
    "\n",
    "Previously, we calculated the age of the respondents in years at the moment of examination."
   ]
  },
  {
   "cell_type": "markdown",
   "metadata": {},
   "source": [
    "### Task:\n",
    "\n",
    "Create a *count plot* using [`countplot()`](http://seaborn.pydata.org/generated/seaborn.countplot.html) with the age on the *X* axis and the number of people on the *Y* axis. Your resulting plot should have two columns for each age, corresponding to the number of people for each *cardio* class of that age."
   ]
  },
  {
   "cell_type": "code",
   "execution_count": 12,
   "metadata": {},
   "outputs": [],
   "source": [
    "# You code here"
   ]
  },
  {
   "cell_type": "markdown",
   "metadata": {},
   "source": [
    "**Question 2.4. (1 point).** What is the smallest age at which the number of people with CVD outnumber the number of people without CVD?\n",
    "\n",
    "1. 44\n",
    "2. 55\n",
    "3. 64\n",
    "4. 70"
   ]
  }
 ],
 "metadata": {
  "anaconda-cloud": {},
  "kernelspec": {
   "display_name": "Python 3",
   "language": "python",
   "name": "python3"
  },
  "language_info": {
   "codemirror_mode": {
    "name": "ipython",
    "version": 3
   },
   "file_extension": ".py",
   "mimetype": "text/x-python",
   "name": "python",
   "nbconvert_exporter": "python",
   "pygments_lexer": "ipython3",
   "version": "3.7.3"
  },
  "toc": {
   "base_numbering": 1,
   "nav_menu": {},
   "number_sections": true,
   "sideBar": true,
   "skip_h1_title": false,
   "title_cell": "Table of Contents",
   "title_sidebar": "Contents",
   "toc_cell": false,
   "toc_position": {},
   "toc_section_display": true,
   "toc_window_display": false
  },
  "varInspector": {
   "cols": {
    "lenName": 16,
    "lenType": 16,
    "lenVar": 40
   },
   "kernels_config": {
    "python": {
     "delete_cmd_postfix": "",
     "delete_cmd_prefix": "del ",
     "library": "var_list.py",
     "varRefreshCmd": "print(var_dic_list())"
    },
    "r": {
     "delete_cmd_postfix": ") ",
     "delete_cmd_prefix": "rm(",
     "library": "var_list.r",
     "varRefreshCmd": "cat(var_dic_list()) "
    }
   },
   "types_to_exclude": [
    "module",
    "function",
    "builtin_function_or_method",
    "instance",
    "_Feature"
   ],
   "window_display": false
  }
 },
 "nbformat": 4,
 "nbformat_minor": 2
}
